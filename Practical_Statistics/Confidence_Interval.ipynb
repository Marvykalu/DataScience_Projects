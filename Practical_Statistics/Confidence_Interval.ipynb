{
 "cells": [
  {
   "cell_type": "markdown",
   "metadata": {},
   "source": [
    "## From Sampling Distribution to Confidence Interval\n",
    "\n",
    "Confidence interval tells us about aggregate values in our population. It doesnt tell us about individuals in the population. More advanced technique like Machine learning will."
   ]
  },
  {
   "cell_type": "code",
   "execution_count": 1,
   "metadata": {},
   "outputs": [
    {
     "data": {
      "text/html": [
       "<div>\n",
       "<style scoped>\n",
       "    .dataframe tbody tr th:only-of-type {\n",
       "        vertical-align: middle;\n",
       "    }\n",
       "\n",
       "    .dataframe tbody tr th {\n",
       "        vertical-align: top;\n",
       "    }\n",
       "\n",
       "    .dataframe thead th {\n",
       "        text-align: right;\n",
       "    }\n",
       "</style>\n",
       "<table border=\"1\" class=\"dataframe\">\n",
       "  <thead>\n",
       "    <tr style=\"text-align: right;\">\n",
       "      <th></th>\n",
       "      <th>user_id</th>\n",
       "      <th>age</th>\n",
       "      <th>drinks_coffee</th>\n",
       "      <th>height</th>\n",
       "    </tr>\n",
       "  </thead>\n",
       "  <tbody>\n",
       "    <tr>\n",
       "      <th>2402</th>\n",
       "      <td>2874</td>\n",
       "      <td>&lt;21</td>\n",
       "      <td>True</td>\n",
       "      <td>64.357154</td>\n",
       "    </tr>\n",
       "    <tr>\n",
       "      <th>2864</th>\n",
       "      <td>3670</td>\n",
       "      <td>&gt;=21</td>\n",
       "      <td>True</td>\n",
       "      <td>66.859636</td>\n",
       "    </tr>\n",
       "    <tr>\n",
       "      <th>2167</th>\n",
       "      <td>7441</td>\n",
       "      <td>&lt;21</td>\n",
       "      <td>False</td>\n",
       "      <td>66.659561</td>\n",
       "    </tr>\n",
       "    <tr>\n",
       "      <th>507</th>\n",
       "      <td>2781</td>\n",
       "      <td>&gt;=21</td>\n",
       "      <td>True</td>\n",
       "      <td>70.166241</td>\n",
       "    </tr>\n",
       "    <tr>\n",
       "      <th>1817</th>\n",
       "      <td>2875</td>\n",
       "      <td>&gt;=21</td>\n",
       "      <td>True</td>\n",
       "      <td>71.369120</td>\n",
       "    </tr>\n",
       "  </tbody>\n",
       "</table>\n",
       "</div>"
      ],
      "text/plain": [
       "      user_id   age  drinks_coffee     height\n",
       "2402     2874   <21           True  64.357154\n",
       "2864     3670  >=21           True  66.859636\n",
       "2167     7441   <21          False  66.659561\n",
       "507      2781  >=21           True  70.166241\n",
       "1817     2875  >=21           True  71.369120"
      ]
     },
     "execution_count": 1,
     "metadata": {},
     "output_type": "execute_result"
    }
   ],
   "source": [
    "import pandas as pd\n",
    "import numpy as np\n",
    "import matplotlib.pyplot as plt\n",
    "%matplotlib inline\n",
    "\n",
    "np.random.seed(42)\n",
    "\n",
    "coffee_full = pd.read_csv('coffee_dataset.csv') #assume this to be the population\n",
    "coffee_sample = coffee_full.sample(200) #this is the only data you might actually get in the real world.\n",
    "\n",
    "coffee_sample.head()"
   ]
  },
  {
   "cell_type": "code",
   "execution_count": 3,
   "metadata": {},
   "outputs": [
    {
     "data": {
      "text/plain": [
       "user_id          0\n",
       "age              0\n",
       "drinks_coffee    0\n",
       "height           0\n",
       "dtype: int64"
      ]
     },
     "execution_count": 3,
     "metadata": {},
     "output_type": "execute_result"
    }
   ],
   "source": [
    "coffee_sample.isnull().sum()"
   ]
  },
  {
   "cell_type": "markdown",
   "metadata": {},
   "source": [
    "### Descriptive Statistics\n",
    "\n",
    "`1.` What is the proportion of coffee drinkers in the sample? What is the proportion of individuals that don't drink coffee?"
   ]
  },
  {
   "cell_type": "code",
   "execution_count": 2,
   "metadata": {},
   "outputs": [
    {
     "name": "stdout",
     "output_type": "stream",
     "text": [
      "Proportion of coffee drinkers in the sample is 0.595\n",
      "Proportion of non coffee drinkers in the sample is 0.405\n"
     ]
    }
   ],
   "source": [
    "print(\"Proportion of coffee drinkers in the sample is {}\".format(coffee_sample['drinks_coffee'].mean()))\n",
    "print(\"Proportion of non coffee drinkers in the sample is {}\".format(1 - coffee_sample['drinks_coffee'].mean()))"
   ]
  },
  {
   "cell_type": "markdown",
   "metadata": {},
   "source": [
    "`2.` Of the individuals who drink coffee, what is the average height? Of the individuals who do not drink coffee, what is the average height?"
   ]
  },
  {
   "cell_type": "code",
   "execution_count": 5,
   "metadata": {},
   "outputs": [
    {
     "name": "stdout",
     "output_type": "stream",
     "text": [
      "Average height of coffee drinkers in the sample is 68.11962990858618\n",
      "Average height of non coffee drinkers in the sample is 66.78492279927877\n"
     ]
    }
   ],
   "source": [
    "ave_height_cd = coffee_sample.query('drinks_coffee == True')['height'].mean()\n",
    "ave_height_ncd = coffee_sample.query('drinks_coffee == False')['height'].mean()\n",
    "\n",
    "print(\"Average height of coffee drinkers in the sample is {}\".format(ave_height_cd))\n",
    "print(\"Average height of non coffee drinkers in the sample is {}\".format(ave_height_ncd))"
   ]
  },
  {
   "cell_type": "markdown",
   "metadata": {},
   "source": [
    "### Bootstrap sampling\n",
    "\n",
    "Simulate 200 \"new\" individuals from your original sample of 200. \n",
    "\n",
    "`3.` What are the proportion of coffee drinkers in your bootstrap sample? How about individuals that don't drink coffee?"
   ]
  },
  {
   "cell_type": "code",
   "execution_count": 6,
   "metadata": {},
   "outputs": [
    {
     "data": {
      "text/plain": [
       "0.605"
      ]
     },
     "execution_count": 6,
     "metadata": {},
     "output_type": "execute_result"
    }
   ],
   "source": [
    "boot_samp = coffee_sample.sample(200,replace=True)\n",
    "boot_samp['drinks_coffee'].mean()"
   ]
  },
  {
   "cell_type": "code",
   "execution_count": 7,
   "metadata": {},
   "outputs": [
    {
     "data": {
      "text/plain": [
       "0.395"
      ]
     },
     "execution_count": 7,
     "metadata": {},
     "output_type": "execute_result"
    }
   ],
   "source": [
    "1 - boot_samp['drinks_coffee'].mean()"
   ]
  },
  {
   "cell_type": "markdown",
   "metadata": {},
   "source": [
    "From the very first sample of 200 data points, simulate a bootstrap sample 10,000 times and take the mean height of the non-coffee drinkers in each sample. "
   ]
  },
  {
   "cell_type": "code",
   "execution_count": 8,
   "metadata": {},
   "outputs": [],
   "source": [
    "boot_means = []\n",
    "for _ in range(10000):\n",
    "    bootsamp = coffee_sample.sample(200, replace = True)\n",
    "    boot_mean = bootsamp[bootsamp['drinks_coffee'] == False]['height'].mean()\n",
    "    boot_means.append(boot_mean)\n",
    "    "
   ]
  },
  {
   "cell_type": "markdown",
   "metadata": {},
   "source": [
    "#### Plot the distribution"
   ]
  },
  {
   "cell_type": "code",
   "execution_count": 9,
   "metadata": {},
   "outputs": [
    {
     "data": {
      "image/png": "[encoded data removed]",
      "text/plain": [
       "<Figure size 432x288 with 1 Axes>"
      ]
     },
     "metadata": {
      "needs_background": "light"
     },
     "output_type": "display_data"
    }
   ],
   "source": [
    "plt.hist(boot_means); # Looks pretty normal"
   ]
  },
  {
   "cell_type": "code",
   "execution_count": 10,
   "metadata": {},
   "outputs": [
    {
     "data": {
      "text/plain": [
       "(65.9929132815752, 67.58402738281573)"
      ]
     },
     "execution_count": 10,
     "metadata": {},
     "output_type": "execute_result"
    }
   ],
   "source": [
    "#pull the values necessary for a 95% confidence interval. \n",
    "np.percentile(boot_means, 2.5), np.percentile(boot_means, 97.5)"
   ]
  },
  {
   "cell_type": "code",
   "execution_count": 11,
   "metadata": {},
   "outputs": [
    {
     "name": "stdout",
     "output_type": "stream",
     "text": [
      "Average height of non coffee drinkers in the population data is 66.44340776214705\n"
     ]
    }
   ],
   "source": [
    "#Did our interval capture the actual average height of non-coffee drinkers in the population? \n",
    "#Look at the average in the population and the two bounds provided by your 95% confidence interval\n",
    "\n",
    "ave_height = coffee_full[coffee_full['drinks_coffee'] == False]['height'].mean() \n",
    "print(\"Average height of non coffee drinkers in the population data is {}\".format(ave_height))"
   ]
  },
  {
   "cell_type": "markdown",
   "metadata": {},
   "source": [
    "#### Comments: What do you notice about the sampling distribution of the mean in this example?\n",
    "\n",
    "- The sample mean height for non-coffee drinkers is not same as the population mean height for non-coffee drinkers\n",
    "- Our confidence interval captures the true mean height for the non-coffee drinkers\n",
    "- The sampling distribution for non-coffee drinkers is normally distributed"
   ]
  },
  {
   "cell_type": "markdown",
   "metadata": {},
   "source": [
    "### Confidence interval for difference in means\n",
    "\n",
    "`1.` For 10,000 iterations, bootstrap sample your sample data, compute the difference in the average heights for coffee and non-coffee drinkers. Build a 99% confidence interval using your sampling distribution. "
   ]
  },
  {
   "cell_type": "code",
   "execution_count": 12,
   "metadata": {},
   "outputs": [
    {
     "data": {
      "text/plain": [
       "(0.09027712929640067, 2.516490937129601)"
      ]
     },
     "execution_count": 12,
     "metadata": {},
     "output_type": "execute_result"
    }
   ],
   "source": [
    "diff=[]\n",
    "for _ in range(10000):\n",
    "    sample = coffee_sample.sample(200,replace=True)\n",
    "    drink_cof = sample[sample['drinks_coffee']==True]['height'].mean()\n",
    "    not_drink_cof = sample[sample['drinks_coffee'] == False]['height'].mean()\n",
    "    diff.append(drink_cof - not_drink_cof)\n",
    "\n",
    "#build a 99% interval\n",
    "np.percentile(diff, 0.5), np.percentile(diff, 99.5) "
   ]
  },
  {
   "cell_type": "markdown",
   "metadata": {},
   "source": [
    "Confidence interval doesnt contain zero, thus there is a difference in means. On average, coffee drinkers are taller than non coffee drinkers.\n",
    "\n"
   ]
  },
  {
   "cell_type": "code",
   "execution_count": 16,
   "metadata": {},
   "outputs": [
    {
     "data": {
      "text/plain": [
       "1.9568024933369657"
      ]
     },
     "execution_count": 16,
     "metadata": {},
     "output_type": "execute_result"
    }
   ],
   "source": [
    "drink_cof = coffee_full[coffee_full['drinks_coffee']==True]['height'].mean()\n",
    "not_drink_cof = coffee_full[coffee_full['drinks_coffee'] == False]['height'].mean()\n",
    "drink_cof - not_drink_cof\n"
   ]
  },
  {
   "cell_type": "markdown",
   "metadata": {},
   "source": [
    "Based on the confidence interval, we have evidence that coffee drinkers are on average taller than non-coffee drinkers."
   ]
  },
  {
   "cell_type": "markdown",
   "metadata": {},
   "source": [
    "`2.` For 10,000 iterations, bootstrap sample your sample data, compute the difference in the average heights for those older than 21 and those younger than 21.  Build a 99% confidence interval using your sampling distribution. "
   ]
  },
  {
   "cell_type": "code",
   "execution_count": 14,
   "metadata": {},
   "outputs": [
    {
     "data": {
      "text/plain": [
       "(1.6870112109030933, 2.908662643495249)"
      ]
     },
     "execution_count": 14,
     "metadata": {},
     "output_type": "execute_result"
    }
   ],
   "source": [
    "diff_old=[]\n",
    "for _ in range(10000):\n",
    "    sample1 = coffee_sample.sample(200,replace=True)\n",
    "    younger = sample1[sample1['age'] == '<21']['height'].mean()\n",
    "    older = sample1[sample1['age'] != '>21']['height'].mean()\n",
    "    diff_old.append(older - younger)\n",
    "    \n",
    "np.percentile(diff_old, 0.5), np.percentile(diff_old, 99.5) "
   ]
  },
  {
   "cell_type": "markdown",
   "metadata": {},
   "source": [
    "Based on the confidence interval, we have evidence that those older than 21 are on average taller than those younger than 21."
   ]
  },
  {
   "cell_type": "markdown",
   "metadata": {},
   "source": [
    "`3.` For 10,000 iterations bootstrap your sample data, compute the difference in the average height for coffee drinkers and the average height for non-coffee drinkers for individuals under 21 years old. Using your sampling distribution, build a 95% confidence interval."
   ]
  },
  {
   "cell_type": "code",
   "execution_count": 15,
   "metadata": {},
   "outputs": [
    {
     "data": {
      "text/plain": [
       "(-2.6258697660461863, -1.0809572510874996)"
      ]
     },
     "execution_count": 15,
     "metadata": {},
     "output_type": "execute_result"
    }
   ],
   "source": [
    "diff_age =[]\n",
    "for _ in range(10000):\n",
    "    bootsample = coffee_sample.sample(200,replace=True)\n",
    "    height_drink_coffee = bootsample.query('drinks_coffee == True and age == \"<21\"')['height'].mean()\n",
    "    height_not_drink_coffee = bootsample.query('drinks_coffee == False and age == \"<21\"')['height'].mean()\n",
    "    diff_age.append(height_drink_coffee  - height_not_drink_coffee)\n",
    "\n",
    "np.percentile(diff_age,2.5),np.percentile(diff_age,97.5)"
   ]
  },
  {
   "cell_type": "code",
   "execution_count": null,
   "metadata": {},
   "outputs": [],
   "source": []
  }
 ],
 "metadata": {
  "kernelspec": {
   "display_name": "Python 3",
   "language": "python",
   "name": "python3"
  },
  "language_info": {
   "codemirror_mode": {
    "name": "ipython",
    "version": 3
   },
   "file_extension": ".py",
   "mimetype": "text/x-python",
   "name": "python",
   "nbconvert_exporter": "python",
   "pygments_lexer": "ipython3",
   "version": "3.7.7"
  }
 },
 "nbformat": 4,
 "nbformat_minor": 4
}
