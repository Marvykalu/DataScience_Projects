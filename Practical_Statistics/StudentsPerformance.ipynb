{
 "cells": [
  {
   "cell_type": "markdown",
   "metadata": {},
   "source": [
    "# Student Performance in Exams\n",
    "\n",
    "In order to take actions and neccessary measures to ensure academic success, it is important to understand the influence of various factors like economic, personal and social on student's performance. \n",
    "\n",
    "In this study, we will use a dataset from [kaggle](https://www.kaggle.com/spscientist/student-performance-in-exams/data), on marks secured by high school students from the United States.\n",
    "\n",
    "#### Aim\n",
    "\n",
    "- To perform hypothesis test on inferences using the data.\n",
    "\n",
    "Let’s start with an activity studying the effect of gender on exam performance.\n",
    "\n",
    "### Does gender affect the performance of students in exams?\n",
    "parameter (test statistic): difference in mean score $\\mu_{m} - \\mu_{f}$\n",
    "\n",
    "#### Generating our hypothesis\n",
    "\n",
    "**Scenario 1: One-sided alternative**\n",
    "\n",
    "$H_{0}$: Male and Female students perform at the same rate in math exams. \n",
    "\n",
    "vs $H_{1}$: Male students perform better than female students in math exams\n",
    "\n",
    "Mathematically,\n",
    "\n",
    "\\begin{align}\n",
    "H_{0}: \\mu_{m} - \\mu_{f} = 0\\\\\n",
    "H_{1}: \\mu_{m} - \\mu_{f} >0\n",
    "\\end{align}\n",
    "\n",
    "**Scenario 2: Two-sided alternative**\n",
    "\n",
    "$H_{0}$: Male and Female students perform at the same rate in math exams. \n",
    "\n",
    "vs $H_{1}$: Male students perform better than female students in math exams\n",
    "\n",
    "Mathematically,\n",
    "\n",
    "\\begin{align}\n",
    "H_{0}: \\mu_{m} - \\mu_{f} = 0\\\\\n",
    "H_{1}: \\mu_{m} - \\mu_{f} \\neq 0\n",
    "\\end{align}\n",
    "\n",
    "The null hypothesis suggest that there is no difference in test scores. while alternative hypothesis suggest that there is a difference in test scores. While it would not be wrong in principle to reverse the two, it is a convention in statistical inference that the null hypothesis is set to reflect a “null” situation where “nothing is going on. Furthermore, we set H1 to be that men are promoted at a higher rate, a subjective choice reflecting a prior suspicion we have that this is the case. We call such alternative hypotheses one-sided alternatives. If someone else however does not share such suspicions and only wants to investigate that there is a difference, whether higher or lower, they would set what is known as a two-sided alternative.\n",
    "\n",
    "we are testing whether the decision response variable is “independent” of the explanatory variable gender that assigns each résumé to either of the two groups.\n",
    "\n",
    "\n",
    "Since the unknown population parameter of interest is the difference in population means $\\mu_m - \\mu_f$, the test statistic of interest here is the difference in sample means ${x}_{m}$"
   ]
  },
  {
   "cell_type": "code",
   "execution_count": 1,
   "metadata": {},
   "outputs": [],
   "source": [
    "import pandas as pd\n",
    "import numpy as np\n",
    "import matplotlib.pyplot as plt\n",
    "import seaborn as sb\n",
    "np.random.seed(42)\n",
    "\n",
    "%matplotlib inline"
   ]
  },
  {
   "cell_type": "code",
   "execution_count": 2,
   "metadata": {},
   "outputs": [
    {
     "data": {
      "text/html": [
       "<div>\n",
       "<style scoped>\n",
       "    .dataframe tbody tr th:only-of-type {\n",
       "        vertical-align: middle;\n",
       "    }\n",
       "\n",
       "    .dataframe tbody tr th {\n",
       "        vertical-align: top;\n",
       "    }\n",
       "\n",
       "    .dataframe thead th {\n",
       "        text-align: right;\n",
       "    }\n",
       "</style>\n",
       "<table border=\"1\" class=\"dataframe\">\n",
       "  <thead>\n",
       "    <tr style=\"text-align: right;\">\n",
       "      <th></th>\n",
       "      <th>gender</th>\n",
       "      <th>race/ethnicity</th>\n",
       "      <th>parental level of education</th>\n",
       "      <th>lunch</th>\n",
       "      <th>test preparation course</th>\n",
       "      <th>math score</th>\n",
       "      <th>reading score</th>\n",
       "      <th>writing score</th>\n",
       "    </tr>\n",
       "  </thead>\n",
       "  <tbody>\n",
       "    <tr>\n",
       "      <th>0</th>\n",
       "      <td>female</td>\n",
       "      <td>group B</td>\n",
       "      <td>bachelor's degree</td>\n",
       "      <td>standard</td>\n",
       "      <td>none</td>\n",
       "      <td>72</td>\n",
       "      <td>72</td>\n",
       "      <td>74</td>\n",
       "    </tr>\n",
       "    <tr>\n",
       "      <th>1</th>\n",
       "      <td>female</td>\n",
       "      <td>group C</td>\n",
       "      <td>some college</td>\n",
       "      <td>standard</td>\n",
       "      <td>completed</td>\n",
       "      <td>69</td>\n",
       "      <td>90</td>\n",
       "      <td>88</td>\n",
       "    </tr>\n",
       "    <tr>\n",
       "      <th>2</th>\n",
       "      <td>female</td>\n",
       "      <td>group B</td>\n",
       "      <td>master's degree</td>\n",
       "      <td>standard</td>\n",
       "      <td>none</td>\n",
       "      <td>90</td>\n",
       "      <td>95</td>\n",
       "      <td>93</td>\n",
       "    </tr>\n",
       "    <tr>\n",
       "      <th>3</th>\n",
       "      <td>male</td>\n",
       "      <td>group A</td>\n",
       "      <td>associate's degree</td>\n",
       "      <td>free/reduced</td>\n",
       "      <td>none</td>\n",
       "      <td>47</td>\n",
       "      <td>57</td>\n",
       "      <td>44</td>\n",
       "    </tr>\n",
       "    <tr>\n",
       "      <th>4</th>\n",
       "      <td>male</td>\n",
       "      <td>group C</td>\n",
       "      <td>some college</td>\n",
       "      <td>standard</td>\n",
       "      <td>none</td>\n",
       "      <td>76</td>\n",
       "      <td>78</td>\n",
       "      <td>75</td>\n",
       "    </tr>\n",
       "  </tbody>\n",
       "</table>\n",
       "</div>"
      ],
      "text/plain": [
       "   gender race/ethnicity parental level of education         lunch  \\\n",
       "0  female        group B           bachelor's degree      standard   \n",
       "1  female        group C                some college      standard   \n",
       "2  female        group B             master's degree      standard   \n",
       "3    male        group A          associate's degree  free/reduced   \n",
       "4    male        group C                some college      standard   \n",
       "\n",
       "  test preparation course  math score  reading score  writing score  \n",
       "0                    none          72             72             74  \n",
       "1               completed          69             90             88  \n",
       "2                    none          90             95             93  \n",
       "3                    none          47             57             44  \n",
       "4                    none          76             78             75  "
      ]
     },
     "execution_count": 2,
     "metadata": {},
     "output_type": "execute_result"
    }
   ],
   "source": [
    "df = pd.read_csv(\"StudentsPerformance.csv\")\n",
    "df.head()"
   ]
  },
  {
   "cell_type": "code",
   "execution_count": 3,
   "metadata": {},
   "outputs": [
    {
     "data": {
      "text/plain": [
       "(1000, 8)"
      ]
     },
     "execution_count": 3,
     "metadata": {},
     "output_type": "execute_result"
    }
   ],
   "source": [
    "df.shape"
   ]
  },
  {
   "cell_type": "code",
   "execution_count": 5,
   "metadata": {},
   "outputs": [
    {
     "data": {
      "text/html": [
       "<div>\n",
       "<style scoped>\n",
       "    .dataframe tbody tr th:only-of-type {\n",
       "        vertical-align: middle;\n",
       "    }\n",
       "\n",
       "    .dataframe tbody tr th {\n",
       "        vertical-align: top;\n",
       "    }\n",
       "\n",
       "    .dataframe thead th {\n",
       "        text-align: right;\n",
       "    }\n",
       "</style>\n",
       "<table border=\"1\" class=\"dataframe\">\n",
       "  <thead>\n",
       "    <tr style=\"text-align: right;\">\n",
       "      <th></th>\n",
       "      <th>math score</th>\n",
       "      <th>reading score</th>\n",
       "      <th>writing score</th>\n",
       "    </tr>\n",
       "    <tr>\n",
       "      <th>gender</th>\n",
       "      <th></th>\n",
       "      <th></th>\n",
       "      <th></th>\n",
       "    </tr>\n",
       "  </thead>\n",
       "  <tbody>\n",
       "    <tr>\n",
       "      <th>female</th>\n",
       "      <td>63.633205</td>\n",
       "      <td>72.608108</td>\n",
       "      <td>72.467181</td>\n",
       "    </tr>\n",
       "    <tr>\n",
       "      <th>male</th>\n",
       "      <td>68.728216</td>\n",
       "      <td>65.473029</td>\n",
       "      <td>63.311203</td>\n",
       "    </tr>\n",
       "  </tbody>\n",
       "</table>\n",
       "</div>"
      ],
      "text/plain": [
       "        math score  reading score  writing score\n",
       "gender                                          \n",
       "female   63.633205      72.608108      72.467181\n",
       "male     68.728216      65.473029      63.311203"
      ]
     },
     "execution_count": 5,
     "metadata": {},
     "output_type": "execute_result"
    }
   ],
   "source": [
    "df.groupby('gender')[['math score', 'reading score', 'writing score']].mean()"
   ]
  },
  {
   "cell_type": "code",
   "execution_count": 18,
   "metadata": {},
   "outputs": [
    {
     "data": {
      "text/plain": [
       "5.095011134430216"
      ]
     },
     "execution_count": 18,
     "metadata": {},
     "output_type": "execute_result"
    }
   ],
   "source": [
    "male_mean = df[df['gender'] == 'male']['math score'].mean()\n",
    "female_mean = df[df['gender'] == 'female']['math score'].mean()\n",
    "diff_means = male_mean - female_mean\n",
    "diff_means"
   ]
  },
  {
   "cell_type": "code",
   "execution_count": 5,
   "metadata": {},
   "outputs": [],
   "source": [
    "sample_df = df.sample(200)"
   ]
  },
  {
   "cell_type": "code",
   "execution_count": 12,
   "metadata": {},
   "outputs": [
    {
     "data": {
      "text/plain": [
       "7.399059153237907"
      ]
     },
     "execution_count": 12,
     "metadata": {},
     "output_type": "execute_result"
    }
   ],
   "source": [
    "samp_male_mean = sample_df[sample_df['gender'] == 'male']['math score'].mean()\n",
    "samp_female_mean = sample_df[sample_df['gender'] == 'female']['math score'].mean()\n",
    "samp_diff_means = samp_male_mean - samp_female_mean\n",
    "samp_diff_means"
   ]
  },
  {
   "cell_type": "code",
   "execution_count": 6,
   "metadata": {},
   "outputs": [],
   "source": [
    "male_math_score, female_math_score, boot_mean = [],[],[]\n",
    "\n",
    "\n",
    "for _ in range(10000):\n",
    "    bootsample = sample_df.sample(200, replace = True)\n",
    "    male_mean = bootsample[bootsample['gender'] == 'male']['math score'].mean()\n",
    "    female_mean = bootsample[bootsample['gender'] == 'female']['math score'].mean()\n",
    "    mean_mms = male_math_score.append(male_mean)\n",
    "    mean_fms = female_math_score.append(female_mean)\n",
    "    diff_mean = boot_mean.append(male_mean - female_mean)"
   ]
  },
  {
   "cell_type": "code",
   "execution_count": 15,
   "metadata": {},
   "outputs": [
    {
     "name": "stdout",
     "output_type": "stream",
     "text": [
      "The standard deviation of our sampling distribution is 2.0948266222149825\n"
     ]
    }
   ],
   "source": [
    "print(\"The standard deviation of our sampling distribution is {}\".format(np.std(boot_mean)))"
   ]
  },
  {
   "cell_type": "code",
   "execution_count": 14,
   "metadata": {},
   "outputs": [],
   "source": [
    "null_vals = np.random.normal(0, np.std(boot_mean), 10000)"
   ]
  },
  {
   "cell_type": "code",
   "execution_count": 15,
   "metadata": {},
   "outputs": [
    {
     "data": {
      "image/png": "[encoded data removed]",
      "text/plain": [
       "<Figure size 432x288 with 1 Axes>"
      ]
     },
     "metadata": {
      "needs_background": "light"
     },
     "output_type": "display_data"
    }
   ],
   "source": [
    "plt.hist(null_vals);\n",
    "plt.axvline(samp_diff_means,color='r', linewidth=2);"
   ]
  },
  {
   "cell_type": "markdown",
   "metadata": {},
   "source": [
    "So judging by the shaded region in Figure 9.11, it seems we would somewhat rarely observe changes in difference in mean 5.09 or more in a hypothesized universe of no gender discrimination. In other words, the  p-value is somewhat small. Hence, we would be inclined to reject this hypothesized universe, or using statistical language we would reject $H_{0}$.\n",
    " \n",
    "What fraction of the null distribution is shaded? In other words, what is the exact value of the p-value?"
   ]
  },
  {
   "cell_type": "code",
   "execution_count": 20,
   "metadata": {},
   "outputs": [
    {
     "data": {
      "text/plain": [
       "0.0063"
      ]
     },
     "execution_count": 20,
     "metadata": {},
     "output_type": "execute_result"
    }
   ],
   "source": [
    "#Calculate the P-value\n",
    "p =  (null_vals > diff_means).mean()\n",
    "p"
   ]
  },
  {
   "cell_type": "markdown",
   "metadata": {},
   "source": [
    "  \n",
    "p-value is the probability of obtaining a test statistic just as or more extreme than the observed test statistic assuming the null hypothesis $H_{0}$ is true. each draw represents a possible difference in means for our null hypothesis. So where does the sample difference in mean falls in this distribution?\n",
    "\n",
    "Keeping the definition of a p-value in mind, the probability of observing a difference in difference in means as large as 5 due to sampling variation alone in the null distribution is 0.027 = 2.7%. Since this p-value is smaller than our pre-specified significance level $\\alpha = 0.05$, we reject the null hypothesis.\n",
    "\n",
    "In other words, this p-value is sufficiently small to reject our hypothesized universe of no gender discrimination. We instead have enough evidence to change our mind in favor of gender discrimination being a likely culprit here. Observe that whether we reject the null hypothesis $H_{0}$ or not depends in large part on our choice of significance level $\\alpha$"
   ]
  },
  {
   "cell_type": "markdown",
   "metadata": {},
   "source": []
  },
  {
   "cell_type": "markdown",
   "metadata": {},
   "source": [
    "#### Simulating from confidence interval\n",
    "\n",
    "To create the corresponding bootstrap distribution needed to construct a 95% confidence interval."
   ]
  },
  {
   "cell_type": "code",
   "execution_count": 11,
   "metadata": {},
   "outputs": [
    {
     "name": "stdout",
     "output_type": "stream",
     "text": [
      "3.22 11.64\n"
     ]
    }
   ],
   "source": [
    "low,high = np.percentile(boot_mean, 2.5), np.percentile(boot_mean,97.5)\n",
    "print(round(low,2),round(high,2))"
   ]
  },
  {
   "cell_type": "markdown",
   "metadata": {},
   "source": [
    "we are 95% “confident” that the true difference in population $\\mu_{m} - \\mu_{f}$ is between (3.22, 11.64). Let’s visualize bootstrap_distribution and this percentile-based 95% confidence interval."
   ]
  },
  {
   "cell_type": "code",
   "execution_count": 8,
   "metadata": {},
   "outputs": [
    {
     "data": {
      "image/png": "[encoded data removed]",
      "text/plain": [
       "<Figure size 432x288 with 1 Axes>"
      ]
     },
     "metadata": {
      "needs_background": "light"
     },
     "output_type": "display_data"
    }
   ],
   "source": [
    "plt.hist(boot_mean);\n",
    "plt.axvline(x=low, color='r', linewidth=2);\n",
    "plt.axvline(x=high, color='r', linewidth=2);"
   ]
  },
  {
   "cell_type": "markdown",
   "metadata": {},
   "source": [
    "Notice a key value that is not included in the 95% confidence interval for  $\\mu_{m}-\\mu_{f}$: the value 0. In other words, a difference of 0 is not included in our net, suggesting that $\\mu_{m}$ and $\\mu_{f}$ are truly different! Furthermore, observe how the entirety of the 95% confidence interval for $\\mu_{m}-\\mu_{f}$ lies above 0, suggesting that this difference is in favor of men.\n",
    "  \n",
    "In the above case, our interval was entirely not equal to zero, which would suggest the null (the population mean is equal tozero) is actually false."
   ]
  },
  {
   "cell_type": "code",
   "execution_count": null,
   "metadata": {},
   "outputs": [],
   "source": [
    "This wi This risk of error is the price researchers pay for basing inference on a sample instead of performing a census on the entire population. But as we’ve seen in our numerous examples and activities so far, censuses are often very expensive and other times impossible, and thus researchers have no choice but to use a sample. Thus in any hypothesis test based on a sample, we have no choice but to tolerate some chance that a Type I error will be made and some chance that a Type II error will occur.\n",
    "\n"
   ]
  }
 ],
 "metadata": {
  "kernelspec": {
   "display_name": "Python 3",
   "language": "python",
   "name": "python3"
  },
  "language_info": {
   "codemirror_mode": {
    "name": "ipython",
    "version": 3
   },
   "file_extension": ".py",
   "mimetype": "text/x-python",
   "name": "python",
   "nbconvert_exporter": "python",
   "pygments_lexer": "ipython3",
   "version": "3.7.7"
  }
 },
 "nbformat": 4,
 "nbformat_minor": 4
}
