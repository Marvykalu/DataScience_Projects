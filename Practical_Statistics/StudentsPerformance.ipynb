{
 "cells": [
  {
   "cell_type": "markdown",
   "metadata": {},
   "source": [
    "# Student Performance in Exams\n",
    "\n",
    "In order to take actions and neccessary measures to ensure academic success, it is important to understand the influence of various factors like economic, personal and social on student's performance. \n",
    "\n",
    "In this study, we will use a dataset from [kaggle](https://www.kaggle.com/spscientist/student-performance-in-exams/data), on marks secured by high school students from the United States.\n",
    "\n",
    "#### Aim\n",
    "\n",
    "- To perform hypothesis test on inferences using the data.\n",
    "\n",
    "Let’s start with an activity studying the effect of gender on exam performance.\n",
    "\n",
    "## Does gender affect the performance of students in exams?\n",
    "parameter (test statistic): difference in mean score $\\mu_{m} - \\mu_{f}$"
   ]
  },
  {
   "cell_type": "code",
   "execution_count": 1,
   "metadata": {},
   "outputs": [],
   "source": [
    "import pandas as pd\n",
    "import numpy as np\n",
    "import matplotlib.pyplot as plt\n",
    "import seaborn as sb\n",
    "np.random.seed(42)\n",
    "\n",
    "%matplotlib inline"
   ]
  },
  {
   "cell_type": "code",
   "execution_count": 2,
   "metadata": {},
   "outputs": [
    {
     "data": {
      "text/html": [
       "<div>\n",
       "<style scoped>\n",
       "    .dataframe tbody tr th:only-of-type {\n",
       "        vertical-align: middle;\n",
       "    }\n",
       "\n",
       "    .dataframe tbody tr th {\n",
       "        vertical-align: top;\n",
       "    }\n",
       "\n",
       "    .dataframe thead th {\n",
       "        text-align: right;\n",
       "    }\n",
       "</style>\n",
       "<table border=\"1\" class=\"dataframe\">\n",
       "  <thead>\n",
       "    <tr style=\"text-align: right;\">\n",
       "      <th></th>\n",
       "      <th>gender</th>\n",
       "      <th>race/ethnicity</th>\n",
       "      <th>parental level of education</th>\n",
       "      <th>lunch</th>\n",
       "      <th>test preparation course</th>\n",
       "      <th>math score</th>\n",
       "      <th>reading score</th>\n",
       "      <th>writing score</th>\n",
       "    </tr>\n",
       "  </thead>\n",
       "  <tbody>\n",
       "    <tr>\n",
       "      <th>0</th>\n",
       "      <td>female</td>\n",
       "      <td>group B</td>\n",
       "      <td>bachelor's degree</td>\n",
       "      <td>standard</td>\n",
       "      <td>none</td>\n",
       "      <td>72</td>\n",
       "      <td>72</td>\n",
       "      <td>74</td>\n",
       "    </tr>\n",
       "    <tr>\n",
       "      <th>1</th>\n",
       "      <td>female</td>\n",
       "      <td>group C</td>\n",
       "      <td>some college</td>\n",
       "      <td>standard</td>\n",
       "      <td>completed</td>\n",
       "      <td>69</td>\n",
       "      <td>90</td>\n",
       "      <td>88</td>\n",
       "    </tr>\n",
       "    <tr>\n",
       "      <th>2</th>\n",
       "      <td>female</td>\n",
       "      <td>group B</td>\n",
       "      <td>master's degree</td>\n",
       "      <td>standard</td>\n",
       "      <td>none</td>\n",
       "      <td>90</td>\n",
       "      <td>95</td>\n",
       "      <td>93</td>\n",
       "    </tr>\n",
       "    <tr>\n",
       "      <th>3</th>\n",
       "      <td>male</td>\n",
       "      <td>group A</td>\n",
       "      <td>associate's degree</td>\n",
       "      <td>free/reduced</td>\n",
       "      <td>none</td>\n",
       "      <td>47</td>\n",
       "      <td>57</td>\n",
       "      <td>44</td>\n",
       "    </tr>\n",
       "    <tr>\n",
       "      <th>4</th>\n",
       "      <td>male</td>\n",
       "      <td>group C</td>\n",
       "      <td>some college</td>\n",
       "      <td>standard</td>\n",
       "      <td>none</td>\n",
       "      <td>76</td>\n",
       "      <td>78</td>\n",
       "      <td>75</td>\n",
       "    </tr>\n",
       "  </tbody>\n",
       "</table>\n",
       "</div>"
      ],
      "text/plain": [
       "   gender race/ethnicity parental level of education         lunch  \\\n",
       "0  female        group B           bachelor's degree      standard   \n",
       "1  female        group C                some college      standard   \n",
       "2  female        group B             master's degree      standard   \n",
       "3    male        group A          associate's degree  free/reduced   \n",
       "4    male        group C                some college      standard   \n",
       "\n",
       "  test preparation course  math score  reading score  writing score  \n",
       "0                    none          72             72             74  \n",
       "1               completed          69             90             88  \n",
       "2                    none          90             95             93  \n",
       "3                    none          47             57             44  \n",
       "4                    none          76             78             75  "
      ]
     },
     "execution_count": 2,
     "metadata": {},
     "output_type": "execute_result"
    }
   ],
   "source": [
    "df = pd.read_csv(\"StudentsPerformance.csv\")\n",
    "df.head()"
   ]
  },
  {
   "cell_type": "code",
   "execution_count": 3,
   "metadata": {},
   "outputs": [
    {
     "data": {
      "text/plain": [
       "female    0.518\n",
       "male      0.482\n",
       "Name: gender, dtype: float64"
      ]
     },
     "execution_count": 3,
     "metadata": {},
     "output_type": "execute_result"
    }
   ],
   "source": [
    "df['gender'].value_counts()/df.shape[0]"
   ]
  },
  {
   "cell_type": "code",
   "execution_count": 4,
   "metadata": {},
   "outputs": [
    {
     "data": {
      "text/html": [
       "<div>\n",
       "<style scoped>\n",
       "    .dataframe tbody tr th:only-of-type {\n",
       "        vertical-align: middle;\n",
       "    }\n",
       "\n",
       "    .dataframe tbody tr th {\n",
       "        vertical-align: top;\n",
       "    }\n",
       "\n",
       "    .dataframe thead th {\n",
       "        text-align: right;\n",
       "    }\n",
       "</style>\n",
       "<table border=\"1\" class=\"dataframe\">\n",
       "  <thead>\n",
       "    <tr style=\"text-align: right;\">\n",
       "      <th></th>\n",
       "      <th>math score</th>\n",
       "      <th>reading score</th>\n",
       "      <th>writing score</th>\n",
       "    </tr>\n",
       "    <tr>\n",
       "      <th>gender</th>\n",
       "      <th></th>\n",
       "      <th></th>\n",
       "      <th></th>\n",
       "    </tr>\n",
       "  </thead>\n",
       "  <tbody>\n",
       "    <tr>\n",
       "      <th>female</th>\n",
       "      <td>63.633205</td>\n",
       "      <td>72.608108</td>\n",
       "      <td>72.467181</td>\n",
       "    </tr>\n",
       "    <tr>\n",
       "      <th>male</th>\n",
       "      <td>68.728216</td>\n",
       "      <td>65.473029</td>\n",
       "      <td>63.311203</td>\n",
       "    </tr>\n",
       "  </tbody>\n",
       "</table>\n",
       "</div>"
      ],
      "text/plain": [
       "        math score  reading score  writing score\n",
       "gender                                          \n",
       "female   63.633205      72.608108      72.467181\n",
       "male     68.728216      65.473029      63.311203"
      ]
     },
     "execution_count": 4,
     "metadata": {},
     "output_type": "execute_result"
    }
   ],
   "source": [
    "df.groupby('gender')[['math score', 'reading score', 'writing score']].mean()"
   ]
  },
  {
   "cell_type": "code",
   "execution_count": 5,
   "metadata": {},
   "outputs": [],
   "source": [
    "df_m=df.query('gender == \"male\"')['math score']\n",
    "df_f=df.query('gender == \"female\"')['math score']"
   ]
  },
  {
   "cell_type": "code",
   "execution_count": 40,
   "metadata": {},
   "outputs": [
    {
     "data": {
      "image/png": "[encoded data removed]",
      "text/plain": [
       "<Figure size 432x288 with 1 Axes>"
      ]
     },
     "metadata": {
      "needs_background": "light"
     },
     "output_type": "display_data"
    }
   ],
   "source": [
    "sb.kdeplot(df_m, shade=True, color=\"b\")\n",
    "sb.kdeplot(df_f, shade=True, color=\"orange\")\n",
    "plt.legend(('Male Math Score', 'Female Math Score'))\n",
    "plt.show()"
   ]
  },
  {
   "cell_type": "markdown",
   "metadata": {},
   "source": [
    "Population parameter"
   ]
  },
  {
   "cell_type": "code",
   "execution_count": 7,
   "metadata": {},
   "outputs": [
    {
     "name": "stdout",
     "output_type": "stream",
     "text": [
      "The difference in population means is 5.095\n"
     ]
    }
   ],
   "source": [
    "male_mean = df[df['gender'] == 'male']['math score'].mean() #computes the mean math score for male students\n",
    "female_mean = df[df['gender'] == 'female']['math score'].mean() #computes the mean mathe score for female students\n",
    "pop_diff_means = male_mean - female_mean #gives the difference\n",
    "print('The difference in population means is {}'.format(round(pop_diff_means,4)))"
   ]
  },
  {
   "cell_type": "markdown",
   "metadata": {},
   "source": [
    "## Generating our hypothesis\n",
    "\n",
    "**Scenario 1: One-sided alternative**\n",
    "\n",
    "Suppose we are interested in testing whether the mean math score for male students is different as for female students (gender bias).\n",
    "\n",
    " \n",
    "$H_{0}$: Both male and female students have the same mean math score\n",
    "\n",
    "vs $H_{1}$: Male students have higher mean math score than female students\n",
    "\n",
    "Mathematically,\n",
    "\n",
    "\\begin{align}\n",
    "H_{0}: \\mu_{m} - \\mu_{f} = 0\\\\\n",
    "H_{1}: \\mu_{m} - \\mu_{f}  > 0\n",
    "\\end{align}\n",
    "\n",
    "**$\\mu_{m}$ and $\\mu_{f}$** are the population mean values for male and female students, respectivley. **Since there is no directional component associated with this statement, an equal to seems most reasonable.**\n",
    "\n",
    "\n",
    "\n",
    "**Scenario 2: Two-sided alternative**\n",
    "\n",
    "$H_{0}$: Both male and female students have the same mean math score\n",
    "\n",
    "vs $H_{1}$: There is a difference in mean math scores for male and female students\n",
    "\n",
    "\n",
    "Mathematically,\n",
    "\n",
    "\\begin{align}\n",
    "H_{0}: \\mu_{m} - \\mu_{f} = 0\\\\\n",
    "H_{1}: \\mu_{m} - \\mu_{f} \\neq 0\n",
    "\\end{align}\n",
    "\n",
    "In other words, the null hypothesis $H_{0}$ suggests that both male and female students have the different mean math score. This is the “hypothesized universe” we’ll assume is true. On the other hand, the alternative hypothesis $H_{1}$ suggests that there is no difference.\n",
    "\n",
    "\n",
    "Since the unknown population parameter of interest is the difference in population means $\\mu_m - \\mu_f$, the test statistic of interest here is the difference in sample means $\\tilde{x}_{m} - \\tilde{x}_{n}$\n",
    "\n",
    "### Types of Error\n",
    "\n",
    "- Type 1 error: rejecting $H_{0}$ when infact $H_{0}$ is true (false positives)\n",
    "- Type II error: fail to reject $H_{0}$ when in fact $H_{0}$ is false\n",
    "\n",
    "#### Consequencies: \n",
    "\n",
    "- In type I error, since our null hypothesis suggests that there is no difference in mean math score for both gender, as a type I error, rejecting the null hypothesis implies that we get to believe that there is a difference in mean math score for both genders when actually there is no difference. Therefore we are likely to dedicate our time and resources unneccessarily to understand the reason.\n",
    "\n",
    "- In type II error, failing to reject the null hypothesis implies we get to believe that there is no difference when actually there is a difference -  As a result, no neccessary steps will be taken to understand whether students are facing any difficulties. This is more costly and dangerous.\n",
    "\n",
    "**Conservative hypothesis testing procedure**\n",
    "\n",
    "Furthermore, since we want to be careful about failing to reject the null hypothesis when it is actually false, we will pre-specify a high significance level of 0.1.  By setting this value high, all things being equal, there is a higher chance that the p-value will be less than $\\alpha$. Thus, there is a higher chance that we’ll not fail to reject the null hypothesis $H_{0}$ in favor of the alternative hypothesis $H_{1}$. In other words, we’ll not fail to reject the hypothesis that there is no difference in mean math score for both male and female students, only if we have quite strong evidence.\n",
    "\n",
    "## Conducting the hypothesis test"
   ]
  },
  {
   "cell_type": "code",
   "execution_count": 8,
   "metadata": {},
   "outputs": [],
   "source": [
    "sample_df = df.sample(300)"
   ]
  },
  {
   "cell_type": "markdown",
   "metadata": {},
   "source": [
    "### Simulating from the null\n",
    "\n",
    "#### Sampling distribution: Difference in sample mean"
   ]
  },
  {
   "cell_type": "code",
   "execution_count": 37,
   "metadata": {},
   "outputs": [
    {
     "name": "stdout",
     "output_type": "stream",
     "text": [
      "The mean math score for male students is 67.4968152866242\n",
      "The mean math score for female students is 61.99300699300699\n",
      "The difference in mean math score for male and female students is 5.503808293617205\n"
     ]
    }
   ],
   "source": [
    "samp_male_mean = sample_df[sample_df['gender'] == 'male']['math score'].mean()\n",
    "samp_female_mean = sample_df[sample_df['gender'] == 'female']['math score'].mean()\n",
    "samp_diff_means = samp_male_mean - samp_female_mean\n",
    "print(\"The mean math score for male students is {}\".format(samp_male_mean))\n",
    "print(\"The mean math score for female students is {}\".format(samp_female_mean))\n",
    "print(\"The difference in mean math score for male and female students is {}\".format(samp_diff_means))\n"
   ]
  },
  {
   "cell_type": "markdown",
   "metadata": {},
   "source": [
    "#### Bootstrapping\n",
    "For 10,000 iterations: bootstrap the sample data"
   ]
  },
  {
   "cell_type": "code",
   "execution_count": 10,
   "metadata": {},
   "outputs": [],
   "source": [
    "male_mean_score, female_mean_score, diff_mean = [],[],[]\n",
    "\n",
    "for _ in range(10000):\n",
    "    boot_sample = sample_df.sample(300, replace = True)\n",
    "    male_mean = boot_sample[boot_sample['gender'] == 'male']['math score'].mean()\n",
    "    female_mean = boot_sample[boot_sample['gender'] == 'female']['math score'].mean()\n",
    "    mean_mms = male_mean_score.append(male_mean)\n",
    "    mean_fms = female_mean_score.append(female_mean)\n",
    "    boot_diff = diff_mean.append(male_mean - female_mean)"
   ]
  },
  {
   "cell_type": "code",
   "execution_count": 11,
   "metadata": {},
   "outputs": [
    {
     "name": "stdout",
     "output_type": "stream",
     "text": [
      "The standard deviation of our sampling distribution is 1.7778766114305362\n"
     ]
    }
   ],
   "source": [
    "print(\"The standard deviation of our sampling distribution is {}\".format(np.std(diff_mean)))"
   ]
  },
  {
   "cell_type": "code",
   "execution_count": 12,
   "metadata": {},
   "outputs": [],
   "source": [
    "null_vals = np.random.normal(0, np.std(diff_mean), 10000)"
   ]
  },
  {
   "cell_type": "code",
   "execution_count": 13,
   "metadata": {},
   "outputs": [
    {
     "data": {
      "image/png": "[encoded data removed]",
      "text/plain": [
       "<Figure size 432x288 with 1 Axes>"
      ]
     },
     "metadata": {
      "needs_background": "light"
     },
     "output_type": "display_data"
    }
   ],
   "source": [
    "plt.hist(null_vals);\n",
    "plt.axvline(samp_diff_means,color='r', linewidth=2);"
   ]
  },
  {
   "cell_type": "markdown",
   "metadata": {},
   "source": [
    "First the histogram is our null distribution. Second, the solid red line is the observed test statistic, or the difference in sample means we observed in real life of 67.4968 - 61.9930 = 5.5038. So each draw represents a possible difference in means for our null hypothesis. Since our statistic is farther away from thebulk of the distribution, it suggests that the null wasnt likely to have generatedour hyothesis. The question now is where does the sample difference in mean falls in this distribution? \n",
    "\n",
    "case1:\n",
    "\n",
    "\\begin{align}\n",
    "H_{0}: \\mu_{m} - \\mu_{f} = 0\\\\\n",
    "H_{1}: \\mu_{m} - \\mu_{f}  > 0\n",
    "\\end{align}\n",
    "\n",
    "Because our sample mean difference 5.5038 is to the right of the center of distribution (null mean) of 0, and the alternative is greater than, we shade to the right - this would shade less than 90% of the distribution. \n",
    "\n",
    "#### Calculating p-value for case 1\n",
    "\n",
    "Recall p-value is the probability of obtaining a test statistic just as or more extreme than the observed test statistic assuming the null hypothesis $H_{0}$ is true."
   ]
  },
  {
   "cell_type": "code",
   "execution_count": 25,
   "metadata": {
    "scrolled": true
   },
   "outputs": [
    {
     "data": {
      "text/plain": [
       "0.0015"
      ]
     },
     "execution_count": 25,
     "metadata": {},
     "output_type": "execute_result"
    }
   ],
   "source": [
    "#Calculate the P-value: compare statistics to values from the null\n",
    "#null values greaterthan sample mean\n",
    "p =  (null_vals > samp_diff_means).mean()\n",
    "p"
   ]
  },
  {
   "cell_type": "markdown",
   "metadata": {},
   "source": [
    "So we see that our p-value $p < \\alpha$, hence we reject the null hypothesis. "
   ]
  },
  {
   "cell_type": "markdown",
   "metadata": {},
   "source": [
    "#### Calculating p-value for case 2\n",
    "\n",
    "\\begin{align}\n",
    "H_{0}: \\mu_{m} - \\mu_{f} = 0\\\\\n",
    "H_{1}: \\mu_{m} - \\mu_{f}  \\neq 0\n",
    "\\end{align}"
   ]
  },
  {
   "cell_type": "code",
   "execution_count": 35,
   "metadata": {},
   "outputs": [
    {
     "data": {
      "text/plain": [
       "0.0022"
      ]
     },
     "execution_count": 35,
     "metadata": {},
     "output_type": "execute_result"
    }
   ],
   "source": [
    "#values more extreme than our sample mean in either direction away from our null hyp\n",
    "null_mean = 0.007934\n",
    "(null_vals > samp_diff_means).mean() + (null_vals < null_mean +(null_mean - samp_diff_means)).mean()"
   ]
  },
  {
   "cell_type": "markdown",
   "metadata": {},
   "source": [
    "This p-value of 0.0022 is very small. In other words, there is a very small chance that we’d observe a difference of 67.4968 - 61.9930 = 5.5038 in a hypothesized universe where there was truly no difference in math score.\n",
    " \n",
    "Let us look at where these values fall on the distribution of null values."
   ]
  },
  {
   "cell_type": "code",
   "execution_count": 44,
   "metadata": {},
   "outputs": [
    {
     "data": {
      "image/png": "[encoded data removed]",
      "text/plain": [
       "<Figure size 432x288 with 1 Axes>"
      ]
     },
     "metadata": {
      "needs_background": "light"
     },
     "output_type": "display_data"
    }
   ],
   "source": [
    "high = samp_diff_means\n",
    "low = null_mean + (null_mean - samp_diff_means)\n",
    "\n",
    "plt.hist(null_vals);\n",
    "plt.axvline(low,color='g', linewidth=2)\n",
    "plt.axvline(high,color='r', linewidth=2);"
   ]
  },
  {
   "cell_type": "markdown",
   "metadata": {},
   "source": [
    "Therefore if we were to shade more extreme to the right and left of the distribution, there are few data points from our null hypothesis thatfall inside of this region. Hence the null hypothesis did not generate our sample statistics.\n",
    "\n",
    "\n",
    "Moreso since the p-value is smaller than our pre-specified  $\\alpha$ significance level of 0.1. Thus, we are inclined to reject the null hypothesis  $H_{0}:\\mu_m - \\mu_f = 0$\n",
    "\n",
    "In non-statistical language, the conclusion is: we do not have the evidence needed in this sample of data to suggest that we should fail to reject the hypothesis that there is no difference in mean math score between male and female students. We, thus, can say that a difference exists in math scores, on average, for all male and female students."
   ]
  },
  {
   "cell_type": "markdown",
   "metadata": {},
   "source": [
    "In both cases, it seems we would somewhat rarely observe changes in difference in mean. In other words, the  p-value is somewhat small; $p < \\alpha = (0.05)$. Hence, we would be inclined to reject $H_{0}$.\n",
    " \n",
    "In other words, these p-values are sufficiently small to fail to reject our hypothesized universe of no gender discrimination. We instead have enough evidence to change our mind in favor of gender discrimination being a likely culprit here. "
   ]
  },
  {
   "cell_type": "markdown",
   "metadata": {},
   "source": [
    "### Simulating from confidence interval\n",
    "\n",
    "Aim: To create the corresponding bootstrap distribution needed to construct a 95% confidence interval. \n",
    "\n",
    "We already have our setup. We will just go ahead and print the corresponding confidence levels."
   ]
  },
  {
   "cell_type": "code",
   "execution_count": 51,
   "metadata": {},
   "outputs": [
    {
     "data": {
      "text/plain": [
       "(2.0787882709348744, 8.999601372974025)"
      ]
     },
     "execution_count": 51,
     "metadata": {},
     "output_type": "execute_result"
    }
   ],
   "source": [
    "low,high = np.percentile(diff_mean, 2.5), np.percentile(diff_mean,97.5)\n",
    "low, high"
   ]
  },
  {
   "cell_type": "markdown",
   "metadata": {},
   "source": [
    "we are 95% “confident” that the true difference in population $\\mu_{m} - \\mu_{f}$ is between (2.0788, 8.9996). Let’s visualize bootstrap_distribution and this percentile-based 95% confidence interval."
   ]
  },
  {
   "cell_type": "code",
   "execution_count": 52,
   "metadata": {},
   "outputs": [
    {
     "data": {
      "image/png": "[encoded data removed]",
      "text/plain": [
       "<Figure size 432x288 with 1 Axes>"
      ]
     },
     "metadata": {
      "needs_background": "light"
     },
     "output_type": "display_data"
    }
   ],
   "source": [
    "plt.hist(diff_mean);\n",
    "plt.axvline(x=low, color='r', linewidth=2);\n",
    "plt.axvline(x=high, color='r', linewidth=2);"
   ]
  },
  {
   "cell_type": "markdown",
   "metadata": {},
   "source": [
    "Notice a key value that is not included in the 95% confidence interval for  $\\mu_{m}-\\mu_{f}$: the value 0. In other words, a difference of 0 is not included in our net, suggesting that $\\mu_{m}$ and $\\mu_{f}$ are truly different! Furthermore, observe how the entirety of the 95% confidence interval for $\\mu_{m}-\\mu_{f}$ lies above 0, suggesting that this difference is in favor of male students.\n",
    "  \n",
    "In the above case, our interval was entirely not equal to zero, which would suggest we fail to reject the null hypothesis (the population mean is not equal to zero)."
   ]
  }
 ],
 "metadata": {
  "kernelspec": {
   "display_name": "Python 3",
   "language": "python",
   "name": "python3"
  },
  "language_info": {
   "codemirror_mode": {
    "name": "ipython",
    "version": 3
   },
   "file_extension": ".py",
   "mimetype": "text/x-python",
   "name": "python",
   "nbconvert_exporter": "python",
   "pygments_lexer": "ipython3",
   "version": "3.7.7"
  }
 },
 "nbformat": 4,
 "nbformat_minor": 4
}
