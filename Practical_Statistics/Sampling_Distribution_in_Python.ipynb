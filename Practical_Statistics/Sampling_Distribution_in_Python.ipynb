{
 "cells": [
  {
   "cell_type": "markdown",
   "metadata": {},
   "source": [
    "### Descriptive Statistics\n",
    "`Descriptive statistics` is about describing our collected data.\n",
    "\n",
    "### Inferential Statistics\n",
    "`Inferential Statistics` is about using our collected data to draw conclusions about a larger population.\n",
    "\n",
    "We want to answer the question: which are the statistics that best describe our population parameter?\n",
    "\n",
    "#### Terms\n",
    "- **Population** - our entire group of interest.\n",
    "- **Parameter** - numeric summary about a population\n",
    "- **Sample** - a subset of the population\n",
    "- **Statistic** -  numeric summary about a sample\n",
    "\n",
    "Drawing conclusions based on our statistics is known as inference\n",
    "\n",
    "Performing inferential statistics well requires that we take a sample that accurately represents our population of interest. This notebook we will describe the term `Sampling Distribution`;  that is the distribution of a statistic, any statis"
   ]
  },
  {
   "cell_type": "markdown",
   "metadata": {},
   "source": [
    "### Sampling Distributions Introduction\n",
    "\n",
    "Let's do some practice with sampling distributions in python\n",
    "\n",
    "#### scenario\n",
    "\n",
    "Let us assume we want to know the coffee drinking habit of a set of students. Below we have created an array that represents the students coffee drinking habit, where 1 represents the students that drink coffee, and 0 represents the students that do not drink coffee."
   ]
  },
  {
   "cell_type": "code",
   "execution_count": 1,
   "metadata": {},
   "outputs": [],
   "source": [
    "import numpy as np\n",
    "import matplotlib.pyplot as plt\n",
    "np.random.seed(42)\n",
    "\n",
    "students = np.array([1,0,1,1,1,1,0,0,0,0,1,1,1,1,1,1,1,1,1,1,0])"
   ]
  },
  {
   "cell_type": "code",
   "execution_count": 2,
   "metadata": {},
   "outputs": [
    {
     "data": {
      "text/plain": [
       "21"
      ]
     },
     "execution_count": 2,
     "metadata": {},
     "output_type": "execute_result"
    }
   ],
   "source": [
    "len(students)"
   ]
  },
  {
   "cell_type": "markdown",
   "metadata": {},
   "source": [
    "##### mean of population"
   ]
  },
  {
   "cell_type": "code",
   "execution_count": 3,
   "metadata": {},
   "outputs": [
    {
     "data": {
      "text/plain": [
       "0.7142857142857143"
      ]
     },
     "execution_count": 3,
     "metadata": {},
     "output_type": "execute_result"
    }
   ],
   "source": [
    "# Find the proportion of students who drink coffee in the above array\n",
    "p = students.mean()\n",
    "p"
   ]
  },
  {
   "cell_type": "markdown",
   "metadata": {},
   "source": [
    "#### Sampling using numpy's `random.choice`"
   ]
  },
  {
   "cell_type": "code",
   "execution_count": 4,
   "metadata": {},
   "outputs": [
    {
     "data": {
      "text/plain": [
       "0.6"
      ]
     },
     "execution_count": 4,
     "metadata": {},
     "output_type": "execute_result"
    }
   ],
   "source": [
    "#let us simulate 5 draws from the student's array using numpy's random.choice\n",
    "sample1 = np.random.choice(students,5,replace=True)\n",
    "pp=sample1.mean()\n",
    "pp"
   ]
  },
  {
   "cell_type": "code",
   "execution_count": 5,
   "metadata": {},
   "outputs": [],
   "source": [
    "# Repeat the above to obtain 10,000 additional proportions, where each sample was of size 5\n",
    "sample_props=[]\n",
    "for _ in range(10000):\n",
    "    sample = np.random.choice(students,5,replace=True)\n",
    "    sample_props.append(sample.mean())\n",
    "    "
   ]
  },
  {
   "cell_type": "markdown",
   "metadata": {},
   "source": [
    "##### Mean of the sampling distribution"
   ]
  },
  {
   "cell_type": "code",
   "execution_count": 6,
   "metadata": {},
   "outputs": [
    {
     "data": {
      "text/plain": [
       "0.714"
      ]
     },
     "execution_count": 6,
     "metadata": {},
     "output_type": "execute_result"
    }
   ],
   "source": [
    "#What is the mean proportion of all 10,000 of these proportions?  \n",
    "sample_props = np.array(sample_props)\n",
    "sample_props.mean()"
   ]
  },
  {
   "cell_type": "markdown",
   "metadata": {},
   "source": [
    "#### Variance and Standard deviation "
   ]
  },
  {
   "cell_type": "code",
   "execution_count": 7,
   "metadata": {},
   "outputs": [
    {
     "name": "stdout",
     "output_type": "stream",
     "text": [
      "The standard deviation for the original data is 0.45175395145262565\n",
      "The variance for the original data is 0.20408163265306126\n"
     ]
    }
   ],
   "source": [
    "#population\n",
    "print('The standard deviation for the original data is {}'.format(students.std()))\n",
    "print('The variance for the original data is {}'.format(students.var()))"
   ]
  },
  {
   "cell_type": "code",
   "execution_count": 8,
   "metadata": {},
   "outputs": [
    {
     "name": "stdout",
     "output_type": "stream",
     "text": [
      "The standard deviation for the sampling distribution of the mean of 5 draws is 0.2043624231604235\n",
      "The variance for the sampling distribution of the mean of 5 draws is 0.041763999999999996\n"
     ]
    }
   ],
   "source": [
    "#for our 10,000 proportion we created\n",
    "print('The standard deviation for the sampling distribution of the mean of 5 draws is {}'.format(sample_props.std()))\n",
    "print('The variance for the sampling distribution of the mean of 5 draws is {}'.format(sample_props.var()))"
   ]
  },
  {
   "cell_type": "code",
   "execution_count": 9,
   "metadata": {},
   "outputs": [
    {
     "data": {
      "text/plain": [
       "0.20408163265306123"
      ]
     },
     "execution_count": 9,
     "metadata": {},
     "output_type": "execute_result"
    }
   ],
   "source": [
    "p*(1-p) #variance of original data"
   ]
  },
  {
   "cell_type": "code",
   "execution_count": 10,
   "metadata": {},
   "outputs": [
    {
     "data": {
      "text/plain": [
       "0.04081632653061225"
      ]
     },
     "execution_count": 10,
     "metadata": {},
     "output_type": "execute_result"
    }
   ],
   "source": [
    "p*(1-p)/5 #variance of sample mean of size 5"
   ]
  },
  {
   "cell_type": "code",
   "execution_count": 11,
   "metadata": {},
   "outputs": [],
   "source": [
    "# Repeat the above to obtain 10,000 additional proportions, where each sample was of size 5\n",
    "sample_props_20=[]\n",
    "for _ in range(10000):\n",
    "    sample_20 = np.random.choice(students,20,replace=True)\n",
    "    sample_props_20.append(sample_20.mean()) #appending the mean of our sampling distribution\n",
    "    "
   ]
  },
  {
   "cell_type": "code",
   "execution_count": 12,
   "metadata": {},
   "outputs": [
    {
     "name": "stdout",
     "output_type": "stream",
     "text": [
      "0.010204081632653062\n",
      "0.010300994374999999\n"
     ]
    }
   ],
   "source": [
    "##Compare your variance values as computed in 6 and 8, \n",
    "##but with your sample of 20 values\n",
    "\n",
    "\n",
    "print(p*(1-p)/20) # The theoretical variance\n",
    "print(np.array(sample_props_20).var()) # The simulated variance"
   ]
  },
  {
   "cell_type": "code",
   "execution_count": 13,
   "metadata": {},
   "outputs": [
    {
     "data": {
      "image/png": "[encoded data removed]",
      "text/plain": [
       "<Figure size 432x288 with 1 Axes>"
      ]
     },
     "metadata": {
      "needs_background": "light"
     },
     "output_type": "display_data"
    }
   ],
   "source": [
    "plt.hist(sample_props, alpha=.5);\n",
    "plt.hist(np.array(sample_props_20), alpha=.5);"
   ]
  },
  {
   "cell_type": "markdown",
   "metadata": {},
   "source": [
    "Notice the 20 is much more normally distributed than the 5\n",
    "\n",
    "### Conclusion\n",
    "\n",
    "We have seen how a Sampling Distribution provides how a statistic varies. Proportions of coffee drinkers changed, with different samples of the population.\n",
    "\n",
    "\n",
    "We simulated the creation of sampling distributions for samples of size 5 and size 20. For proportions,\n",
    "\n",
    "- The sampling distribution is centered on the original parameter value.\n",
    "- The sampling distribution decreases its variance depending on the sample size used. Specifically, the variance of the sampling distribution is equal to the variance of the original data divided by the sample size used. This is always true for the variance of a sample mean!\n",
    "\n",
    "In notation, we say if we have a random variable, **X** with variance of $\\sigma^{2}$, then the distribution of **X**\n",
    "(the sampling distribution of the sample mean) has a variance of $\\frac{\\sigma^{2}}{n}$\n",
    " \n",
    "We can also look at sample distributions for other types of statistics like\n",
    "\n",
    "- Standard Deviation\n",
    "- Variance\n",
    "- Difference in Means"
   ]
  },
  {
   "cell_type": "markdown",
   "metadata": {},
   "source": [
    "### Mathematical Theorem"
   ]
  },
  {
   "cell_type": "markdown",
   "metadata": {},
   "source": [
    "Two important mathematical theorems for working with sampling distributions include:\n",
    "\n",
    "- Law of Large Numbers\n",
    "- Central Limit Theorem\n",
    "\n",
    "The Law of Large Numbers says that as our sample size increases, the sample mean gets closer to the population's mean \n",
    "- How did we determine that the sample mean would estimate a population mean in the first place? \n",
    "\n",
    "- How would we identify another relationship between parameters and statistics like this in the future?\n",
    "\n",
    "Three of the most common ways are with the following estimation techniques:\n",
    "\n",
    "- Maximum Likelihood Estimation\n",
    "- Method of Moments Estimation\n",
    "- Bayesian Estimation"
   ]
  },
  {
   "cell_type": "markdown",
   "metadata": {},
   "source": [
    "### Law of Large number example"
   ]
  },
  {
   "cell_type": "code",
   "execution_count": 14,
   "metadata": {},
   "outputs": [
    {
     "data": {
      "image/png": "[encoded data removed]",
      "text/plain": [
       "<Figure size 432x288 with 1 Axes>"
      ]
     },
     "metadata": {
      "needs_background": "light"
     },
     "output_type": "display_data"
    }
   ],
   "source": [
    "import numpy as np\n",
    "import matplotlib.pyplot as plt\n",
    "\n",
    "%matplotlib inline\n",
    "np.random.seed(42)\n",
    "\n",
    "# This is just setting up some random data in pop_data\n",
    "# The functionality of the gamma distribution is not relevant \n",
    "# for this class.\n",
    "pop_data = np.random.gamma(1,100,3000)\n",
    "plt.hist(pop_data);"
   ]
  },
  {
   "cell_type": "markdown",
   "metadata": {},
   "source": [
    "So our population data is right skewed. Let us see how the central limit theorem will apply to this data."
   ]
  },
  {
   "cell_type": "code",
   "execution_count": 15,
   "metadata": {},
   "outputs": [
    {
     "name": "stdout",
     "output_type": "stream",
     "text": [
      "The number of data values in our population dataset is 3000\n"
     ]
    }
   ],
   "source": [
    "print(\"The number of data values in our population dataset is {}\".format(len(pop_data)))"
   ]
  },
  {
   "cell_type": "code",
   "execution_count": 16,
   "metadata": {},
   "outputs": [
    {
     "name": "stdout",
     "output_type": "stream",
     "text": [
      "The population mean is 100.35978700795846\n"
     ]
    }
   ],
   "source": [
    "print(\"The population mean is {}\".format(pop_data.mean()))"
   ]
  },
  {
   "cell_type": "markdown",
   "metadata": {},
   "source": [
    "#### Sampling"
   ]
  },
  {
   "cell_type": "code",
   "execution_count": 17,
   "metadata": {},
   "outputs": [
    {
     "data": {
      "text/plain": [
       "27.685829640608965"
      ]
     },
     "execution_count": 17,
     "metadata": {},
     "output_type": "execute_result"
    }
   ],
   "source": [
    "# simulate 5 draws from the pop_data array. What is sample mean?\n",
    "sample_5 = np.random.choice(pop_data, 5, replace = True)\n",
    "sample_5.mean()"
   ]
  },
  {
   "cell_type": "code",
   "execution_count": 19,
   "metadata": {},
   "outputs": [
    {
     "data": {
      "text/plain": [
       "129.12004328321336"
      ]
     },
     "execution_count": 19,
     "metadata": {},
     "output_type": "execute_result"
    }
   ],
   "source": [
    "# simulate 20 draws from the pop_data array. What is sample mean?\n",
    "sample_20 = np.random.choice(pop_data, 20, replace = True)\n",
    "sample_20.mean()"
   ]
  },
  {
   "cell_type": "code",
   "execution_count": 18,
   "metadata": {},
   "outputs": [
    {
     "data": {
      "text/plain": [
       "126.40079158704486"
      ]
     },
     "execution_count": 18,
     "metadata": {},
     "output_type": "execute_result"
    }
   ],
   "source": [
    "# simulate 100 draws from the pop_data array. What is sample mean?\n",
    "sample_100 = np.random.choice(pop_data, 100, replace = True)\n",
    "sample_100.mean()"
   ]
  },
  {
   "cell_type": "code",
   "execution_count": 20,
   "metadata": {},
   "outputs": [
    {
     "data": {
      "text/plain": [
       "104.53165484193792"
      ]
     },
     "execution_count": 20,
     "metadata": {},
     "output_type": "execute_result"
    }
   ],
   "source": [
    "# simulate 1000 draws from the pop_data array. What is sample mean?\n",
    "sample_1000 = np.random.choice(pop_data, 1000, replace = True)\n",
    "sample_1000.mean()"
   ]
  },
  {
   "cell_type": "markdown",
   "metadata": {},
   "source": [
    "### Comment\n",
    "The larger the sampe size, the closer the sample mean was to the population mean. We see for sample size = 1000, the sample mean was 104.5 while the mean of the population data is 100.4."
   ]
  },
  {
   "cell_type": "markdown",
   "metadata": {},
   "source": [
    "### Central Limit Theorem\n",
    "\n",
    "With a large enough sample size, the sampling distribution of the mean will be normally distributed.\n",
    "\n",
    "`TODO`\n",
    " Let us create the sampling distribution for the average of 3 draws of pop_data"
   ]
  },
  {
   "cell_type": "code",
   "execution_count": 21,
   "metadata": {},
   "outputs": [
    {
     "data": {
      "text/plain": [
       "143.61806557127855"
      ]
     },
     "execution_count": 21,
     "metadata": {},
     "output_type": "execute_result"
    }
   ],
   "source": [
    "sample_3 = np.random.choice(pop_data,3, replace=True)\n",
    "sample_3.mean()"
   ]
  },
  {
   "cell_type": "code",
   "execution_count": 22,
   "metadata": {},
   "outputs": [],
   "source": [
    "# Repeat the above to obtain 10,000 additional proportions, where each sample was of size 3\n",
    "sample_props_3=[]\n",
    "for _ in range(10000):\n",
    "    sample_3 = np.random.choice(pop_data,3,replace=True)\n",
    "    sample_props_3.append(sample_3.mean()) #appending the mean of our sampling distribution\n",
    "    "
   ]
  },
  {
   "cell_type": "code",
   "execution_count": 24,
   "metadata": {},
   "outputs": [
    {
     "name": "stdout",
     "output_type": "stream",
     "text": [
      "The mean of the sampling distribution is 100.48241535791149\n"
     ]
    },
    {
     "data": {
      "image/png": "[encoded data removed]",
      "text/plain": [
       "<Figure size 432x288 with 1 Axes>"
      ]
     },
     "metadata": {
      "needs_background": "light"
     },
     "output_type": "display_data"
    }
   ],
   "source": [
    "print(\"The mean of the sampling distribution is {}\".format(np.array(sample_props_3).mean()))\n",
    "plt.hist(sample_props_3);"
   ]
  },
  {
   "cell_type": "markdown",
   "metadata": {},
   "source": [
    "#### comment\n",
    "\n",
    "Looking at a sample mean, it doesn't look like the Central Limit Theorem is working since the sampling distribution doesn't look normally distributed. This is because a sample size of 3 isn't large enough for the Central Limit Theorem to apply.\n",
    "\n",
    "#### How about a sample size of 100?"
   ]
  },
  {
   "cell_type": "code",
   "execution_count": 25,
   "metadata": {},
   "outputs": [
    {
     "name": "stdout",
     "output_type": "stream",
     "text": [
      "The mean of the sampling distribution is 100.43208455959112\n"
     ]
    },
    {
     "data": {
      "image/png": "[encoded data removed]",
      "text/plain": [
       "<Figure size 432x288 with 1 Axes>"
      ]
     },
     "metadata": {
      "needs_background": "light"
     },
     "output_type": "display_data"
    }
   ],
   "source": [
    "# Repeat the above to obtain 10,000 additional proportions, where each sample was of size 3\n",
    "sample_props_100=[]\n",
    "for _ in range(10000):\n",
    "    sample_100 = np.random.choice(pop_data,100,replace=True)\n",
    "    sample_props_100.append(sample_100.mean()) #appending the mean of our sampling distribution\n",
    "\n",
    "print(\"The mean of the sampling distribution is {}\".format(np.array(sample_props_100).mean()))\n",
    "plt.hist(sample_props_100);"
   ]
  },
  {
   "cell_type": "markdown",
   "metadata": {},
   "source": [
    "Here our sampling distribution is normally distributed which implies that a sample size of 100 is large enough for the Central Limit Theorem to apply.\n",
    "\n",
    "### Important note.\n",
    "\n",
    "The Central Limit Theorem actually applies to these well-known statistics:\n",
    "\n",
    "- Sample means \n",
    "- Sample proportions \n",
    "- Difference in sample means \n",
    "- Difference in sample proportions \n",
    "\n",
    "And it applies to additional statistics, but it doesn't apply to all statistics! Here, you will simulate the sampling distribution for the sample variance. "
   ]
  },
  {
   "cell_type": "code",
   "execution_count": 26,
   "metadata": {},
   "outputs": [
    {
     "data": {
      "text/plain": [
       "8196.400331624725"
      ]
     },
     "execution_count": 26,
     "metadata": {},
     "output_type": "execute_result"
    }
   ],
   "source": [
    "sample_100 = np.random.choice(pop_data,100,replace=True)\n",
    "sample_100.var()"
   ]
  },
  {
   "cell_type": "code",
   "execution_count": 27,
   "metadata": {},
   "outputs": [
    {
     "data": {
      "image/png": "[encoded data removed]",
      "text/plain": [
       "<Figure size 432x288 with 1 Axes>"
      ]
     },
     "metadata": {
      "needs_background": "light"
     },
     "output_type": "display_data"
    }
   ],
   "source": [
    "var_size_100 = []\n",
    "for _ in range(10000):\n",
    "    sample =np.random.choice(pop_data,100,replace=True)\n",
    "    var_size_100.append(sample.var())\n",
    "\n",
    "plt.hist(var_size_100);"
   ]
  },
  {
   "cell_type": "code",
   "execution_count": 28,
   "metadata": {},
   "outputs": [
    {
     "data": {
      "text/plain": [
       "6415158.583485166"
      ]
     },
     "execution_count": 28,
     "metadata": {},
     "output_type": "execute_result"
    }
   ],
   "source": [
    "np.array(var_size_100).var()"
   ]
  },
  {
   "cell_type": "code",
   "execution_count": 29,
   "metadata": {},
   "outputs": [
    {
     "data": {
      "text/plain": [
       "9955.76939306549"
      ]
     },
     "execution_count": 29,
     "metadata": {},
     "output_type": "execute_result"
    }
   ],
   "source": [
    "pop_data.var()"
   ]
  },
  {
   "cell_type": "code",
   "execution_count": 30,
   "metadata": {},
   "outputs": [
    {
     "data": {
      "text/plain": [
       "9820.418254204584"
      ]
     },
     "execution_count": 30,
     "metadata": {},
     "output_type": "execute_result"
    }
   ],
   "source": [
    "np.array(var_size_100).mean()"
   ]
  },
  {
   "cell_type": "markdown",
   "metadata": {},
   "source": [
    "Again here the sampling distribution for the variance of 100 draws does not appear to be normally distributed. This introduces us to another technique `Bootstrapping`\n",
    "\n",
    "You actually have been bootstrapping to create sampling distributions in earlier parts of this lesson, but this can be extended to a bigger idea.\n",
    "\n",
    "We can do a pretty good job of finding out where a parameter is by using a sampling distribution created from bootstrapping from only a sample. \n",
    "\n",
    "- Bootstrapping is a technique where we sample from a group with replacement.\n",
    "- We can use bootstrapping to simulate the creation of sampling distribution\n",
    "- By bootstrapping and then calculating repeated values of our statistics, we can understand the sampling distribution of our statistics.\n"
   ]
  },
  {
   "cell_type": "code",
   "execution_count": null,
   "metadata": {},
   "outputs": [],
   "source": []
  }
 ],
 "metadata": {
  "kernelspec": {
   "display_name": "Python 3",
   "language": "python",
   "name": "python3"
  },
  "language_info": {
   "codemirror_mode": {
    "name": "ipython",
    "version": 3
   },
   "file_extension": ".py",
   "mimetype": "text/x-python",
   "name": "python",
   "nbconvert_exporter": "python",
   "pygments_lexer": "ipython3",
   "version": "3.7.7"
  }
 },
 "nbformat": 4,
 "nbformat_minor": 4
}
