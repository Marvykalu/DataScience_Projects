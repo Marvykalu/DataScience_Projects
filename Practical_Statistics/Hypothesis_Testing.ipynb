{
 "cells": [
  {
   "cell_type": "markdown",
   "metadata": {},
   "source": [
    "To answer questions, we need to break down a question into a hypothesis. Then we collect data to justify which hypothesis is likely to be true.\n",
    "\n",
    "An example of this would be whether chocolate or vanilla is a more favored ice cream flavor.\n",
    "\n",
    "Hypothesis is likely to be true?\n",
    "is a cancer drug efectiveat helping patients?\n",
    "\n",
    "Does it make the patient feel better, live longer etc\n",
    "\n",
    "Most favoured icereme isvanilla. collect data to see if hishypothesis is supported by our data. how do we know this unless we talk to everyone? how do we make conclusions?\n",
    "\n",
    "Hypothesis testing and confidence intervals allow for the use of sample data to draw conclusions about an entire population.\n",
    "\n",
    "#### Examples\n",
    "\n",
    "- The average height of all people in the world is less than or equal to 68 inches - Null\n",
    "- The average height of all people in the world is different than 68 inches tall - Alternative\n",
    "- The average height of all people in the world is less than 68 inches tall\n",
    "- The impact of Drug A is on average the same as Drug B\n",
    "- Drug A will on average have a larger impact than Drug B\n",
    "\n",
    "**'Dyson Air Purifiers are the Best!'**\n",
    "`Null`: Dyson Air Purifiers are not the best\n",
    "\n",
    "`Alternative`: Dyson Air Purifiers are the best!\n",
    "\n",
    "**\"The average height of a human is smaller than or equal to 70 inches.\"**\n",
    "\n",
    "`Null`: The average height of a human is not greater than 70 inches\n",
    "`Alternative` The avergae height of human is greater than 70 inches\n",
    "\n",
    "### Setting up hypothesis 1\n",
    "\n",
    "In this lesson, you will learn how to set up and validate hypothesis tests properly.\n",
    "\n",
    "Help business make better and more inforemed based decisions.\n",
    "\n",
    "Translate a question into two competing, non-overlapping Hypothesis\n",
    "\n",
    "`Null ($H_0$) hypothesis`\n",
    "- condition believed to be true before we collect our data\n",
    "- mathematically, usually states there is no effect or two groups are equal\n",
    "- contains an equal sign of some kind - either =, $\\leq$, or $\\geq$\n",
    "\n",
    "`Alternative ($H_1$) hypothesis`\n",
    "- contains the opposition of the null - either $\\neq$, $<$ or $>$\n",
    "- what we want to prove to be true\n",
    "\n",
    "Imagine the judicial system, Innocent? Guilty? we say \n",
    "**Innocent until proven guilty**\n",
    "- Null hypothesis is every individual is innocent.\n",
    "- Alternative is every individual is guilty.\n",
    "\n",
    "We then collect data to see which hypothesis is supported.\n",
    "\n",
    "\n",
    "### Setting up hypothesis 2\n",
    "\n",
    "Suppose you create a new webpage layout and would like to know if the new page drives more traffic than the old one. Ask does the average webtraffic increase with the new web page as compared to the than the existing one?\n",
    "\n",
    "Hope the new page is better. Whats the proof?\n",
    "\n",
    "Null: average web trffic is the same or the old page is better.\n",
    "\n",
    "$$ \\mu_{old} \\leq \\mu_{new} $$\n",
    "\n",
    "Alternative: average web traffic for new page is greater than existing page\n",
    "\n",
    "$$ \\mu_{old} < \\mu_{new} $$\n",
    "\n",
    "Then we collect data to see which hypothesis is supported.\n",
    "\n",
    "Because we wanted to test if a new page was better than an existing page, we set that up in the alternative. Two indicators are that the null should hold the equality, and the statement we would like to be true should be in the alternative. Therefore, it would look like this:\n",
    "\n",
    "### Types of Errors\n",
    "\n",
    "Looking at the example of the judicial system again, two errors are likely:\n",
    "\n",
    "\n",
    "- In the first error, a truly guilty person goes free, and the person is not punished for something they did do.\n",
    "\n",
    "- A truly innocent person is found guilty and punished for something they did not do in the second error.\n",
    "\n",
    "In your opinion, is one error worse than the other?\n",
    "\n",
    "Truth: Innocent: Proven Guilty - Type 1 error Alternative is chose, but Null is true (denoted by $\\alpha$) false positives\n",
    "Truth: Guilty: proven inncoent - Type II error Null hypothesis chosen and alternative is true(denoted by $\\beta$) false negatives\n",
    "\n",
    "You should set up your null and alternative hypotheses so that the worse of your errors is the type I error. How much type I error do you want to make? we set up a threshold for this. In medical field, this is 1%, in research journals and other business applications threshold is 5%\n",
    "\n",
    "### Common types of hypothesis testing\n",
    "\n",
    "We always perorm hypothesis testing on population.\n",
    "- Test mean or proportion of a population bein equal to some value.\n",
    "\n",
    "Testing a population mean (One sample t-test).\n",
    "Testing the difference in means (Two-sample t-test)\n",
    "Testing the difference before and after some treatment on the same individual (Paired t-test)\n",
    "Testing a population proportion (One sample z-test)\n",
    "Testing the difference between population proportions (Two sample z-test)\n",
    "\n",
    "\n",
    "When conducting hypothesis tests, we write our tests to understand population parameters. \n",
    "\n",
    "Which of the below represents how you would set up a hypothesis test to test if the average return of portfolio 1 $\\mu_1$ is greater than the average return of portfolio 2 $\\mu_2$?\n",
    "\n",
    "$$H_{0}: \\mu_1 \\leq \\mu_{2}; H_{1}: \\mu_{1}>\\mu_{2}$$\n",
    "\n",
    "Once we set up our null hypothesis, we need to use data to prove which hypothesis is more likely to be true. There are two approaches to choosing our hypothesis\n",
    "\n",
    "1) Using confidence interval where we simulate the sampling distribution of our statistics and seeing if our hypothesis is consistenct with what we observed in our sampling distribution\n",
    "\n",
    "2) Simulate what we believe to be possible under the null, and then seeing if our data is consistent with that."
   ]
  },
  {
   "cell_type": "code",
   "execution_count": 1,
   "metadata": {},
   "outputs": [],
   "source": [
    "import pandas as pd\n",
    "import numpy as np\n",
    "import matplotlib.pyplot as plt\n",
    "\n",
    "%matplotlib inline\n",
    "np.random.seed(42)\n",
    "\n",
    "df = pd.read_csv('coffee_dataset.csv')"
   ]
  },
  {
   "cell_type": "markdown",
   "metadata": {},
   "source": [
    "#### Problem:\n",
    "\n",
    "Suppose we want to know whether the average height for all coffee drinkers is greater than 70 inches\n",
    "\n",
    "\\begin{align}\n",
    "H_0&: \\mu \\leq 70\\\\\n",
    "H_{1}&: \\mu > 70\n",
    "\\end{align}\n",
    "\n",
    "where $\\mu$ is mean of all coffee drinkers.\n",
    "\n",
    "### Simulating with confidence interval"
   ]
  },
  {
   "cell_type": "code",
   "execution_count": 2,
   "metadata": {},
   "outputs": [],
   "source": [
    "sample_df = df.sample(150)\n",
    "bootstrap_sample = sample_df.sample(150, replace=True)\n",
    "#bootstrap number of times and compute the mean height or each bootstrap sample\n",
    "means = [] #empty vector of means that we will append each of our boostrap mean to\n",
    "for _ in range(10000):\n",
    "    bootsample = sample_df.sample(150,replace = True)\n",
    "    boot_mean = bootsample['height'].mean()\n",
    "    means.append(boot_mean)\n",
    "    "
   ]
  },
  {
   "cell_type": "markdown",
   "metadata": {},
   "source": [
    "We already know the statistics for our sample so we always test parameters during hypothesis testing. Using your confidence interval, you can simply look at if the interval falls in the null hypothesis space or in the alternative hypothesis space to choose which hypothesis you believe to be true.\n",
    "\n",
    "We have all of our means and we can create our confidence interval."
   ]
  },
  {
   "cell_type": "code",
   "execution_count": 3,
   "metadata": {},
   "outputs": [],
   "source": [
    "low,high = np.percentile(means, 2.5), np.percentile(means,97.5)"
   ]
  },
  {
   "cell_type": "code",
   "execution_count": 4,
   "metadata": {},
   "outputs": [
    {
     "data": {
      "image/png": "[encoded data removed]",
      "text/plain": [
       "<Figure size 432x288 with 1 Axes>"
      ]
     },
     "metadata": {
      "needs_background": "light"
     },
     "output_type": "display_data"
    }
   ],
   "source": [
    "plt.hist(means);\n",
    "plt.axvline(x=low, color='r', linewidth=2);\n",
    "plt.axvline(x=high, color='r', linewidth=2);"
   ]
  },
  {
   "cell_type": "markdown",
   "metadata": {},
   "source": [
    "In the above case, our interval was entirely below 70, which would suggest the null (the population mean is less than 70) is actually true.\n",
    "\n",
    "### Simulating from the Null\n",
    "\n",
    "- assume that the null is true.\n",
    "- we know what the smapling distribution would look like if we were to simulate from the closest value under the null to the alternative. \n",
    "\n",
    "- use std of the sampling distribution to simulate what the distribution would look like if it came from the Null hypothesis. Let us simulate from a normal distribution\n",
    "\n",
    "\n"
   ]
  },
  {
   "cell_type": "code",
   "execution_count": 5,
   "metadata": {},
   "outputs": [
    {
     "name": "stdout",
     "output_type": "stream",
     "text": [
      "The standard deviation of our sampling distribution is 0.26582463905559006\n"
     ]
    }
   ],
   "source": [
    "print(\"The standard deviation of our sampling distribution is {}\".format(np.std(means)))"
   ]
  },
  {
   "cell_type": "markdown",
   "metadata": {},
   "source": [
    "We know that if the std came from our hypothesized Null, what it wouldlook like by the central limit theoren. With a sample size of 150, the mean should follow a normal distribution. sampling distribution for the mean is\n",
    "$$\n",
    "\\frac{\\sigma}{\\sqrt{n}}\n",
    "$$"
   ]
  },
  {
   "cell_type": "code",
   "execution_count": 6,
   "metadata": {},
   "outputs": [],
   "source": [
    "null_vals = np.random.normal(70, np.std(means), 10000)"
   ]
  },
  {
   "cell_type": "code",
   "execution_count": 10,
   "metadata": {},
   "outputs": [
    {
     "data": {
      "image/png": "[encoded data removed]",
      "text/plain": [
       "<Figure size 432x288 with 1 Axes>"
      ]
     },
     "metadata": {
      "needs_background": "light"
     },
     "output_type": "display_data"
    }
   ],
   "source": [
    "plt.hist(null_vals);\n",
    "plt.axvline(sample_df['height'].mean(),color='r', linewidth=2);"
   ]
  },
  {
   "cell_type": "markdown",
   "metadata": {},
   "source": [
    "each draw represents a possible means for our null hypothesis. So where does the sample mean falls in this distribution?"
   ]
  },
  {
   "cell_type": "code",
   "execution_count": 9,
   "metadata": {},
   "outputs": [
    {
     "data": {
      "text/plain": [
       "67.63297688228066"
      ]
     },
     "execution_count": 9,
     "metadata": {},
     "output_type": "execute_result"
    }
   ],
   "source": [
    "sample_df['height'].mean()"
   ]
  },
  {
   "cell_type": "markdown",
   "metadata": {},
   "source": [
    "We see that sample mean falls far below this distribution from the norm. If it were to have fallen close to the center value of 70, it would be a value that we expect from our null hypothesis, therefore we think ull hypothesis is true. \n",
    "\n",
    "At the end of the video, it is suggested that we do not believe that our null hypothesis value of 70 would be supported, which is true. However, since our null is that the population mean is less than or equal to 70, we do have evidence to support this claim with our sample mean of approximately 67. This would suggest not rejecting our one-sided null alternative.\n",
    "\n",
    "If we had a null where we asked if the population mean was equal to 70, then we would reject this null in favor of an alternative that suggested the population mean was actually different from 70. You will see more of this idea in the upcoming content.\n",
    "\n",
    "**More problems**\n",
    "\n",
    "`1`. If you were interested in studying whether the average height for coffee drinkers is the same as for non-coffee drinkers, what would the null and alternative hypotheses be? \n",
    "\n",
    "\\begin{align}\n",
    "H_{0}&: \\mu_{0}-\\mu_{1} \\neq 0\\\\\n",
    "H_{1}&: \\mu_{0} - \\mu_{1} = 0\n",
    "\\end{align}\n",
    "\n",
    "**$\\mu_{0}$ and $\\mu_{1}$** are the population mean values for coffee drinkers and non-coffee drinkers, respectivley. **Since there is no directional component associated with this statement, a not equal to seems most reasonable.**\n",
    "\n",
    "`2`.  If you were interested in studying whether the average height for coffee drinkers is less than non-coffee drinkers, what would the null and alternative hypotheses be?\n",
    "\n",
    "\\begin{align}\n",
    "H_{0}&: \\mu_{0}-\\mu_{1} \\geq 0\\\\\n",
    "H_{1}&: \\mu_{0} - \\mu_{1} < 0\n",
    "\\end{align}\n",
    "\n",
    "\n",
    "`3`. For 10,000 iterations: bootstrap the sample data, calculate the mean height for coffee drinkers and non-coffee drinkers, and calculate the difference in means for each sample. You will want to have three arrays at the end of the iterations - one for each mean and one for the difference in means. Use the results of your sampling distribution, to answer the third quiz question below\n"
   ]
  },
  {
   "cell_type": "code",
   "execution_count": 11,
   "metadata": {},
   "outputs": [
    {
     "data": {
      "text/html": [
       "<div>\n",
       "<style scoped>\n",
       "    .dataframe tbody tr th:only-of-type {\n",
       "        vertical-align: middle;\n",
       "    }\n",
       "\n",
       "    .dataframe tbody tr th {\n",
       "        vertical-align: top;\n",
       "    }\n",
       "\n",
       "    .dataframe thead th {\n",
       "        text-align: right;\n",
       "    }\n",
       "</style>\n",
       "<table border=\"1\" class=\"dataframe\">\n",
       "  <thead>\n",
       "    <tr style=\"text-align: right;\">\n",
       "      <th></th>\n",
       "      <th>user_id</th>\n",
       "      <th>age</th>\n",
       "      <th>drinks_coffee</th>\n",
       "      <th>height</th>\n",
       "    </tr>\n",
       "  </thead>\n",
       "  <tbody>\n",
       "    <tr>\n",
       "      <th>2402</th>\n",
       "      <td>2874</td>\n",
       "      <td>&lt;21</td>\n",
       "      <td>True</td>\n",
       "      <td>64.357154</td>\n",
       "    </tr>\n",
       "    <tr>\n",
       "      <th>2864</th>\n",
       "      <td>3670</td>\n",
       "      <td>&gt;=21</td>\n",
       "      <td>True</td>\n",
       "      <td>66.859636</td>\n",
       "    </tr>\n",
       "    <tr>\n",
       "      <th>2167</th>\n",
       "      <td>7441</td>\n",
       "      <td>&lt;21</td>\n",
       "      <td>False</td>\n",
       "      <td>66.659561</td>\n",
       "    </tr>\n",
       "    <tr>\n",
       "      <th>507</th>\n",
       "      <td>2781</td>\n",
       "      <td>&gt;=21</td>\n",
       "      <td>True</td>\n",
       "      <td>70.166241</td>\n",
       "    </tr>\n",
       "    <tr>\n",
       "      <th>1817</th>\n",
       "      <td>2875</td>\n",
       "      <td>&gt;=21</td>\n",
       "      <td>True</td>\n",
       "      <td>71.369120</td>\n",
       "    </tr>\n",
       "  </tbody>\n",
       "</table>\n",
       "</div>"
      ],
      "text/plain": [
       "      user_id   age  drinks_coffee     height\n",
       "2402     2874   <21           True  64.357154\n",
       "2864     3670  >=21           True  66.859636\n",
       "2167     7441   <21          False  66.659561\n",
       "507      2781  >=21           True  70.166241\n",
       "1817     2875  >=21           True  71.369120"
      ]
     },
     "execution_count": 11,
     "metadata": {},
     "output_type": "execute_result"
    }
   ],
   "source": [
    "sample_df.head()"
   ]
  },
  {
   "cell_type": "code",
   "execution_count": 15,
   "metadata": {},
   "outputs": [],
   "source": [
    "boot_drink_coffee, boot_not_drink_coffee, boot_mean = [],[],[]\n",
    "\n",
    "\n",
    "for _ in range(10000):\n",
    "    bootsample = sample_df.sample(150, replace = True)\n",
    "    drinkscoffee = bootsample[bootsample['drinks_coffee'] == True]['height'].mean()\n",
    "    non_drinkscoffee = bootsample[bootsample['drinks_coffee'] == False]['height'].mean()\n",
    "    \n",
    "    mean_dc = boot_drink_coffee.append(drinkscoffee)\n",
    "    mean_ndc = boot_not_drink_coffee.append(non_drinkscoffee)\n",
    "    diff_mean = boot_mean.append(drinkscoffee - non_drinkscoffee)"
   ]
  },
  {
   "cell_type": "code",
   "execution_count": 16,
   "metadata": {},
   "outputs": [
    {
     "data": {
      "text/plain": [
       "0.5807216792585257"
      ]
     },
     "execution_count": 16,
     "metadata": {},
     "output_type": "execute_result"
    }
   ],
   "source": [
    "np.std(boot_mean)"
   ]
  },
  {
   "cell_type": "code",
   "execution_count": 17,
   "metadata": {},
   "outputs": [
    {
     "data": {
      "text/plain": [
       "(0.5029973238017118, 0.28897847421060746)"
      ]
     },
     "execution_count": 17,
     "metadata": {},
     "output_type": "execute_result"
    }
   ],
   "source": [
    "np.std(boot_not_drink_coffee), np.std(boot_drink_coffee)"
   ]
  },
  {
   "cell_type": "code",
   "execution_count": 21,
   "metadata": {},
   "outputs": [
    {
     "data": {
      "text/plain": [
       "1.1421111003828912"
      ]
     },
     "execution_count": 21,
     "metadata": {},
     "output_type": "execute_result"
    }
   ],
   "source": [
    "dc = sample_df[sample_df['drinks_coffee'] == True]['height'].mean()\n",
    "n_dc = sample_df[sample_df['drinks_coffee'] == False]['height'].mean()\n",
    "diff = dc-n_dc\n",
    "diff"
   ]
  },
  {
   "cell_type": "markdown",
   "metadata": {},
   "source": [
    "`4.` Now, use your observed sampling distribution for the difference in means and the docs to simulate what you would expect the sampling distribution to be if the null hypothesis is true. You can do this be recentering your distribution at zero. Also, calculate the observed sample mean difference in sample_data. Use your solutions to answer the last questions in the quiz below."
   ]
  },
  {
   "cell_type": "code",
   "execution_count": 20,
   "metadata": {},
   "outputs": [
    {
     "data": {
      "image/png": "[encoded data removed]",
      "text/plain": [
       "<Figure size 432x288 with 1 Axes>"
      ]
     },
     "metadata": {
      "needs_background": "light"
     },
     "output_type": "display_data"
    }
   ],
   "source": [
    "s = np.random.normal(0, np.std(boot_mean), 1000)\n",
    "plt.hist(s);\n",
    "plt.axvline(diff,color='r', linewidth=2);"
   ]
  },
  {
   "cell_type": "markdown",
   "metadata": {},
   "source": [
    "If our statistics is in the bulk of the distribution, then it suggest that it is from the null hypothesis. If otherwise the statistics is away from the bulk of distribution, then it suggest the null wasnt likely tohave generated our ststuasWe would expect the sampling distribution to be normal by the Central Limit Theorem, and we know the standard deviation of the sampling distribution of the difference in means from the previous question, so we can use this to simulate draws from the sampling distribution under the null hypothesis. If there is truly no difference, then the difference between the means should be zero.\n",
    "\n",
    "comparing our actual height difference to this distribution tells us the likelihood of our statistics coming from the null.\n",
    "\n",
    "## P-Value\n",
    "\n",
    "Conditional probability of the data given the null hypothesis is true.\n",
    "\n",
    "The definition of a p-value is the probability of observing your statistic (or one more extreme in favor of the alternative) if the null hypothesis is true. \n",
    "\n",
    "Finding the p-value involves a mix of knowledge of sampling distribution and conditional probability.\n",
    "\n",
    "If $H_{0}$ is true, what is the probability of obtaining the observed statistics in our data or one more extreme in favour to alternative hypothesis? \n",
    "\n",
    "- it is dependent on alternative hypothesis as it determines what is considered to be extreme.\n",
    "\n",
    "Large p-values suggest we shouldnt move away from null hypothesis.\n",
    "\n",
    "- Simulate the values of your statistic that are possible from the null. (null_vals - the normal distribution)\n",
    "- Calculate the value of the statistic you actually obtained in your data. (sample_mean - sample_df['height'].mean())\n",
    "- Compare your statistic to the values from the null. (null_vals > sample_mean)\n",
    "- Calculate the proportion of null values that are considered extreme based on your alternative. (null_vals > sample_mean).mean()\n"
   ]
  },
  {
   "cell_type": "markdown",
   "metadata": {},
   "source": [
    "Old scenario\n",
    "\n",
    "$H_0: \\mu \\leq 70$\n",
    "\n",
    "$H_1: \\mu > 70$"
   ]
  },
  {
   "cell_type": "code",
   "execution_count": 22,
   "metadata": {},
   "outputs": [],
   "source": [
    "#Find the sample mean\n",
    "sample_mean = sample_df.height.mean()"
   ]
  },
  {
   "cell_type": "code",
   "execution_count": 25,
   "metadata": {},
   "outputs": [
    {
     "data": {
      "text/plain": [
       "10000"
      ]
     },
     "execution_count": 25,
     "metadata": {},
     "output_type": "execute_result"
    }
   ],
   "source": [
    "#compare statistics to values from the null\n",
    "sum((null_vals > sample_mean) == True)"
   ]
  },
  {
   "cell_type": "code",
   "execution_count": 28,
   "metadata": {},
   "outputs": [
    {
     "data": {
      "text/plain": [
       "1.0"
      ]
     },
     "execution_count": 28,
     "metadata": {},
     "output_type": "execute_result"
    }
   ],
   "source": [
    "#Calculate the P-value\n",
    "p =  (null_vals > sample_mean).mean()\n",
    "p"
   ]
  },
  {
   "cell_type": "markdown",
   "metadata": {},
   "source": [
    "New scenario\n",
    "\n",
    "$H_0: \\mu \\geq 70$\n",
    "\n",
    "$H_1: \\mu < 70$\n",
    "\n",
    "So we look at shaded region to the left of our statistics."
   ]
  },
  {
   "cell_type": "code",
   "execution_count": 29,
   "metadata": {},
   "outputs": [
    {
     "data": {
      "text/plain": [
       "0"
      ]
     },
     "execution_count": 29,
     "metadata": {},
     "output_type": "execute_result"
    }
   ],
   "source": [
    "#compare statistics to values from the null\n",
    "sum((null_vals < sample_mean) == True)"
   ]
  },
  {
   "cell_type": "code",
   "execution_count": 30,
   "metadata": {},
   "outputs": [
    {
     "data": {
      "text/plain": [
       "0.0"
      ]
     },
     "execution_count": 30,
     "metadata": {},
     "output_type": "execute_result"
    }
   ],
   "source": [
    "#Calculate the P-value\n",
    "p =  (null_vals < sample_mean).mean()\n",
    "p"
   ]
  },
  {
   "cell_type": "markdown",
   "metadata": {},
   "source": [
    "reject null hypothesis in favour to laternative"
   ]
  },
  {
   "cell_type": "markdown",
   "metadata": {},
   "source": [
    "New scenario\n",
    "\n",
    "$H_0: \\mu = 70$\n",
    "\n",
    "$H_1: \\mu \\neq 70$"
   ]
  },
  {
   "cell_type": "code",
   "execution_count": 31,
   "metadata": {},
   "outputs": [
    {
     "data": {
      "text/plain": [
       "10000"
      ]
     },
     "execution_count": 31,
     "metadata": {},
     "output_type": "execute_result"
    }
   ],
   "source": [
    "#compare statistics to values from the null\n",
    "sum((null_vals != sample_mean) == True)"
   ]
  },
  {
   "cell_type": "code",
   "execution_count": 33,
   "metadata": {},
   "outputs": [
    {
     "data": {
      "text/plain": [
       "0.0"
      ]
     },
     "execution_count": 33,
     "metadata": {},
     "output_type": "execute_result"
    }
   ],
   "source": [
    "null_mean = 70\n",
    "(null_vals < sample_mean).mean() + (null_vals > null_mean +(null_mean - sample_mean)).mean()"
   ]
  },
  {
   "cell_type": "code",
   "execution_count": 34,
   "metadata": {},
   "outputs": [
    {
     "data": {
      "image/png": "[encoded data removed]",
      "text/plain": [
       "<Figure size 432x288 with 1 Axes>"
      ]
     },
     "metadata": {
      "needs_background": "light"
     },
     "output_type": "display_data"
    }
   ],
   "source": [
    "low = sample_mean\n",
    "high = null_mean + (null_mean - sample_mean)\n",
    "\n",
    "plt.hist(null_vals);\n",
    "plt.axvline(low,color='r', linewidth=2)\n",
    "plt.axvline(high,color='r', linewidth=2);"
   ]
  },
  {
   "cell_type": "markdown",
   "metadata": {},
   "source": [
    "## Putting it all together\n",
    "\n",
    "`1.` Consider you have implemented a new program in the office to improve company morale. You measure employee morale for each employee via an assessment before and after the program. You want to see if the program was successful. Use this scenario to complete the matches below.\n",
    "\n",
    "- Deciding there was no change in morale, but there actually was an increase - Type II error\n",
    "- Deciding the program increased morale, but it actually didn't - Type I error\n",
    "- There was no change in the average morale of the company - Null Hypothesis\n",
    "- The new program on average increased morale - Alternative Hypothesis\n",
    "- The probability of the observed change in average morale occurring or an average change even more in favor of an increase in morale given there was actually no change in morale - p-value\n",
    "\n",
    "`2.` Imagine the statistic we compute is the sample mean after the program minus the sample mean before the program. how would the distribution be shaded to obtain p-value?\n",
    "\n",
    "- If there is no difference in the average morale, shade greater than positive of the observed statistics and below the negative of \n",
    "- If the average morale after the program is higher than before the program, shade greater than the observed statistics\n",
    "- If the average morale after the program is lower than before the program, them shade less than the observed statistics"
   ]
  },
  {
   "cell_type": "code",
   "execution_count": null,
   "metadata": {},
   "outputs": [],
   "source": []
  }
 ],
 "metadata": {
  "kernelspec": {
   "display_name": "Python 3",
   "language": "python",
   "name": "python3"
  },
  "language_info": {
   "codemirror_mode": {
    "name": "ipython",
    "version": 3
   },
   "file_extension": ".py",
   "mimetype": "text/x-python",
   "name": "python",
   "nbconvert_exporter": "python",
   "pygments_lexer": "ipython3",
   "version": "3.7.7"
  }
 },
 "nbformat": 4,
 "nbformat_minor": 4
}
