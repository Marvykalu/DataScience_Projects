{
 "cells": [
  {
   "cell_type": "markdown",
   "metadata": {},
   "source": [
    "# Stack Overflow Developers Survey, 2017\n",
    "\n",
    "## Hypothesis Testing:\n",
    "\n",
    "In this notebook, we are interested in testing whether\n",
    "\n",
    "1) Average job satisfaction for bootcamp graduates is diferent as for non bootcamp graduates. \n",
    "\n",
    "2) Average job satisfaction for individuals with higher formal education is different as for individuals with maximum of bachelor's degree.\n",
    "\n",
    "### Job Satisfaction vs Bootcamp\n",
    "\n",
    "So in this experiment, we’re going to analyze the average job satisfaction metric for bootcamp and non-bootcamp graduates $\\mu_{bg}$and $\\mu_{nbg}$ respectively.\n",
    "\n",
    "let's set up our null and alternative hypotheses:\n",
    "\n",
    "$H_{0}$: There is no difference in average Job satisfaction for bootcamp and non-bootcamp graduates.\n",
    "\n",
    "vs $H_{1}$: Bootcamp graduates have higher job satisfaction.\n",
    "\n",
    "**Mathematically**\n",
    "\n",
    "#### One sided alterative:\n",
    "\n",
    "\\begin{align}\n",
    "H_{0}&: \\mu_{bg}-\\mu_{nbg} = 0\\\\\n",
    "H_{1}&: \\mu_{bg} - \\mu_{nbg} > 0\n",
    "\\end{align}\n",
    "\n",
    "**or**\n",
    "\n",
    "\\begin{align}\n",
    "H_{0}&: \\mu_{bg}-\\mu_{nbg} = 0\\\\\n",
    "H_{1}&: \\mu_{bg} - \\mu_{nbg} < 0\n",
    "\\end{align}\n",
    "\n",
    "#### Two-sided alternative\n",
    "\\begin{align}\n",
    "H_{0}&: \\mu_{bg}-\\mu_{nbg} = 0\\\\\n",
    "H_{1}&: \\mu_{bg} - \\mu_{nbg} \\neq 0\n",
    "\\end{align}\n",
    "\n",
    "Now that we have our hypothesis setup, let us analyze our data."
   ]
  },
  {
   "cell_type": "code",
   "execution_count": 22,
   "metadata": {},
   "outputs": [],
   "source": [
    "#import necessary libraries\n",
    "import numpy as np\n",
    "import pandas as pd\n",
    "import matplotlib.pyplot as plt\n",
    "from IPython import display\n",
    "import seaborn as sb\n",
    "from collections import defaultdict \n",
    "%matplotlib inline\n",
    "\n",
    "np.random.seeds(42)"
   ]
  },
  {
   "cell_type": "code",
   "execution_count": 2,
   "metadata": {},
   "outputs": [],
   "source": [
    "#load data\n",
    "df = pd.read_csv('survey-results-public.csv')\n",
    "df_schema = pd.read_csv('survey-results-schema.csv')"
   ]
  },
  {
   "cell_type": "code",
   "execution_count": null,
   "metadata": {},
   "outputs": [],
   "source": []
  },
  {
   "cell_type": "code",
   "execution_count": 3,
   "metadata": {},
   "outputs": [
    {
     "name": "stdout",
     "output_type": "stream",
     "text": [
      "Number of non bootcamp graduates is 48790\n",
      "Number of bootcamp graduates is 2602\n"
     ]
    }
   ],
   "source": [
    "bootcamp_df = df[df['TimeAfterBootcamp'].isnull()==False]\n",
    "not_bootcamp_df = df[df['TimeAfterBootcamp'].isnull()==True]\n",
    "\n",
    "print(\"Number of non bootcamp graduates is {}\".format(not_bootcamp_df.shape[0]))\n",
    "print(\"Number of bootcamp graduates is {}\".format(bootcamp_df.shape[0]))"
   ]
  },
  {
   "cell_type": "code",
   "execution_count": 30,
   "metadata": {},
   "outputs": [
    {
     "name": "stdout",
     "output_type": "stream",
     "text": [
      "Average job satisfaction for non bootcamp graduates is 6.952373463343032\n",
      "Average job satisfaction for bootcamp graduates is 7.037752808988764\n"
     ]
    }
   ],
   "source": [
    "print(\"Average job satisfaction for non bootcamp graduates is {}\".format(not_bootcamp_df['JobSatisfaction'].mean()))\n",
    "print(\"Average job satisfaction for bootcamp graduates is {}\".format(bootcamp_df['JobSatisfaction'].mean()))"
   ]
  },
  {
   "cell_type": "code",
   "execution_count": 4,
   "metadata": {},
   "outputs": [
    {
     "data": {
      "text/plain": [
       "7.037752808988764"
      ]
     },
     "execution_count": 4,
     "metadata": {},
     "output_type": "execute_result"
    }
   ],
   "source": [
    "#'According to FormalEducation, which group has the highest average job satisfaction?'\n",
    "bootcamp_df['JobSatisfaction'].mean()"
   ]
  },
  {
   "cell_type": "code",
   "execution_count": 5,
   "metadata": {},
   "outputs": [
    {
     "data": {
      "text/plain": [
       "6.952373463343032"
      ]
     },
     "execution_count": 5,
     "metadata": {},
     "output_type": "execute_result"
    }
   ],
   "source": [
    "not_bootcamp_df['JobSatisfaction'].mean()"
   ]
  },
  {
   "cell_type": "code",
   "execution_count": 8,
   "metadata": {},
   "outputs": [
    {
     "data": {
      "text/plain": [
       "0.08537934564573213"
      ]
     },
     "execution_count": 8,
     "metadata": {},
     "output_type": "execute_result"
    }
   ],
   "source": [
    "obs_diff = bootcamp_df['JobSatisfaction'].mean() - not_bootcamp_df['JobSatisfaction'].mean()\n",
    "obs_diff"
   ]
  },
  {
   "cell_type": "code",
   "execution_count": 9,
   "metadata": {},
   "outputs": [],
   "source": [
    "diffs = []\n",
    "#sample_df = df.sample(df.shape[0])\n",
    "\n",
    "for _ in range(10000):\n",
    "    boot_sample_bg = bootcamp_df.sample(bootcamp_df.shape[0], replace = True)\n",
    "    boot_sample_nbg = not_bootcamp_df.sample(not_bootcamp_df.shape[0], replace = True)\n",
    "    mean_bg = boot_sample_bg['JobSatisfaction'].mean()\n",
    "    mean_nbg = boot_sample_nbg['JobSatisfaction'].mean()\n",
    "    diffs.append(mean_bg - mean_nbg)"
   ]
  },
  {
   "cell_type": "code",
   "execution_count": 11,
   "metadata": {},
   "outputs": [
    {
     "data": {
      "image/png": "[encoded data removed]",
      "text/plain": [
       "<Figure size 432x288 with 1 Axes>"
      ]
     },
     "metadata": {
      "needs_background": "light"
     },
     "output_type": "display_data"
    }
   ],
   "source": [
    "plt.hist(diffs);"
   ]
  },
  {
   "cell_type": "code",
   "execution_count": 16,
   "metadata": {},
   "outputs": [
    {
     "data": {
      "image/png": "[encoded data removed]",
      "text/plain": [
       "<Figure size 432x288 with 1 Axes>"
      ]
     },
     "metadata": {
      "needs_background": "light"
     },
     "output_type": "display_data"
    }
   ],
   "source": [
    "# Simulate distribution under the null hypothesis\n",
    "diff = np.array(diffs)\n",
    "null_vals = np.random.normal(0, diff.std(),diff.size)\n",
    "\n",
    "# Plot the null distribution\n",
    "plt.hist(null_vals);\n"
   ]
  },
  {
   "cell_type": "code",
   "execution_count": 17,
   "metadata": {},
   "outputs": [
    {
     "data": {
      "image/png": "[encoded data removed]",
      "text/plain": [
       "<Figure size 432x288 with 1 Axes>"
      ]
     },
     "metadata": {
      "needs_background": "light"
     },
     "output_type": "display_data"
    }
   ],
   "source": [
    "# Plot observed statistic with the null distibution\n",
    "\n",
    "plt.hist(null_vals)\n",
    "plt.axvline(x=obs_diff,color='red');"
   ]
  },
  {
   "cell_type": "code",
   "execution_count": 18,
   "metadata": {},
   "outputs": [
    {
     "data": {
      "text/plain": [
       "0.0376"
      ]
     },
     "execution_count": 18,
     "metadata": {},
     "output_type": "execute_result"
    }
   ],
   "source": [
    "#pvalue\n",
    "(null_vals>obs_diff).mean()"
   ]
  },
  {
   "cell_type": "code",
   "execution_count": 19,
   "metadata": {},
   "outputs": [
    {
     "data": {
      "text/plain": [
       "0.9624"
      ]
     },
     "execution_count": 19,
     "metadata": {},
     "output_type": "execute_result"
    }
   ],
   "source": [
    "(null_vals < obs_diff).mean()"
   ]
  },
  {
   "cell_type": "code",
   "execution_count": 37,
   "metadata": {},
   "outputs": [
    {
     "data": {
      "text/plain": [
       "0.0713"
      ]
     },
     "execution_count": 37,
     "metadata": {},
     "output_type": "execute_result"
    }
   ],
   "source": [
    "#values more extreme than our sample mean in either direction away from our null hyp\n",
    "null_mean = 0\n",
    "(null_vals > obs_diff).mean() + (null_vals < null_mean +(null_mean - obs_diff)).mean()"
   ]
  },
  {
   "cell_type": "code",
   "execution_count": 31,
   "metadata": {},
   "outputs": [
    {
     "data": {
      "image/png": "[encoded data removed]",
      "text/plain": [
       "<Figure size 432x288 with 1 Axes>"
      ]
     },
     "metadata": {
      "needs_background": "light"
     },
     "output_type": "display_data"
    }
   ],
   "source": [
    "high = obs_diff\n",
    "low = null_mean + (null_mean - obs_diff)\n",
    "\n",
    "plt.hist(null_vals);\n",
    "plt.axvline(low,color='g', linewidth=2)\n",
    "plt.axvline(high,color='r', linewidth=2);"
   ]
  },
  {
   "cell_type": "code",
   "execution_count": 34,
   "metadata": {},
   "outputs": [
    {
     "data": {
      "text/plain": [
       "(-0.007410132970040271, 0.17890124977753208)"
      ]
     },
     "execution_count": 34,
     "metadata": {},
     "output_type": "execute_result"
    }
   ],
   "source": [
    "low,high = np.percentile(diffs, 2.5), np.percentile(diffs,97.5)\n",
    "low, high"
   ]
  },
  {
   "cell_type": "code",
   "execution_count": 35,
   "metadata": {},
   "outputs": [
    {
     "data": {
      "image/png": "[encoded data removed]",
      "text/plain": [
       "<Figure size 432x288 with 1 Axes>"
      ]
     },
     "metadata": {
      "needs_background": "light"
     },
     "output_type": "display_data"
    }
   ],
   "source": [
    "plt.hist(diffs);\n",
    "plt.axvline(x=low, color='r', linewidth=2);\n",
    "plt.axvline(x=high, color='r', linewidth=2);"
   ]
  },
  {
   "cell_type": "markdown",
   "metadata": {},
   "source": [
    "Notice a key value that is included in the 95% confidence interval for  $\\mu_{bg}-\\mu_{nbg}$: the value 0. In other words, a difference of 0 is included in our net, suggesting that $\\mu_{bg}$ and $\\mu_{nbg}$ are truly the same. \n",
    "  \n",
    "In the above case, our interval included a value equal to zero, which would suggest we fail to reject the null hypothesis (the population mean is equal to zero)."
   ]
  },
  {
   "cell_type": "code",
   "execution_count": 66,
   "metadata": {},
   "outputs": [
    {
     "data": {
      "text/plain": [
       "I already had a job as a developer when I started the program    1193\n",
       "Immediately upon graduating                                       294\n",
       "I got a job as a developer before completing the program          252\n",
       "One to three months                                               228\n",
       "I haven't gotten a job as a developer yet                         211\n",
       "Less than a month                                                 156\n",
       "Four to six months                                                105\n",
       "Longer than a year                                                 85\n",
       "Six months to a year                                               78\n",
       "Name: TimeAfterBootcamp, dtype: int64"
      ]
     },
     "execution_count": 66,
     "metadata": {},
     "output_type": "execute_result"
    }
   ],
   "source": [
    "df['TimeAfterBootcamp'].value_counts()"
   ]
  },
  {
   "cell_type": "code",
   "execution_count": 67,
   "metadata": {},
   "outputs": [],
   "source": [
    "def bootcamp(bootcamp_val):\n",
    "    \"\"\"\n",
    "    INPUT\n",
    "        formal_ed_str - a string of one of the values from the Formal Education column\n",
    "    \n",
    "    OUTPUT\n",
    "        return 1 if the string is in (\"Doctoral degree\", Master's degree\", \"Professional degree\")\n",
    "        return 0 otherwise\n",
    "    \n",
    "    \"\"\"\n",
    "    if bootcamp_val in df['TimeAfterBootcamp'].isnull()==False:\n",
    "        return 1\n",
    "    else:\n",
    "        return 0"
   ]
  },
  {
   "cell_type": "code",
   "execution_count": 69,
   "metadata": {},
   "outputs": [
    {
     "data": {
      "text/plain": [
       "0    0\n",
       "1    0\n",
       "2    0\n",
       "3    0\n",
       "4    0\n",
       "Name: TimeAfterBootcamp, dtype: int64"
      ]
     },
     "execution_count": 69,
     "metadata": {},
     "output_type": "execute_result"
    }
   ],
   "source": [
    "df[\"TimeAfterBootcamp\"].apply(bootcamp).head() #engineering a new feature HigerEdu as defined above\n"
   ]
  },
  {
   "cell_type": "code",
   "execution_count": 70,
   "metadata": {},
   "outputs": [
    {
     "data": {
      "text/plain": [
       "0    True\n",
       "1    True\n",
       "2    True\n",
       "3    True\n",
       "4    True\n",
       "Name: TimeAfterBootcamp, dtype: bool"
      ]
     },
     "execution_count": 70,
     "metadata": {},
     "output_type": "execute_result"
    }
   ],
   "source": [
    "df[\"TimeAfterBootcamp\"].isnull().head()"
   ]
  },
  {
   "cell_type": "code",
   "execution_count": null,
   "metadata": {},
   "outputs": [],
   "source": [
    "df['Bootcamp'] = df[\"TimeAfterBootcamp\"].apply(bootcamp) #engineering a new feature HigerEdu as defined above\n",
    "\n",
    "df_bg = df[df['Bootcamp'] == 1] # Subset df to only those with HigherEdu of 1\n",
    "df_nbg = df[df['Bootcamp'] == 0] # Subset df to only those with HigherEdu of 0"
   ]
  },
  {
   "cell_type": "code",
   "execution_count": 38,
   "metadata": {},
   "outputs": [],
   "source": [
    "def higher_edu(formal_ed_str):\n",
    "    \"\"\"\n",
    "    INPUT\n",
    "        formal_ed_str - a string of one of the values from the Formal Education column\n",
    "    \n",
    "    OUTPUT\n",
    "        return 1 if the string is in (\"Doctoral degree\", Master's degree\", \"Professional degree\")\n",
    "        return 0 otherwise\n",
    "    \n",
    "    \"\"\"\n",
    "    if formal_ed_str in (\"Doctoral degree\", \"Master's degree\", \"Professional degree\"):\n",
    "        return 1\n",
    "    else:\n",
    "        return 0"
   ]
  },
  {
   "cell_type": "code",
   "execution_count": null,
   "metadata": {},
   "outputs": [],
   "source": []
  },
  {
   "cell_type": "code",
   "execution_count": 39,
   "metadata": {},
   "outputs": [],
   "source": [
    "df['HigherEdu'] = df[\"FormalEducation\"].apply(higher_edu) #engineering a new feature HigerEdu as defined above\n",
    "\n",
    "df_edu_1 = df[df['HigherEdu'] == 1] # Subset df to only those with HigherEdu of 1\n",
    "df_edu_0 = df[df['HigherEdu'] == 0] # Subset df to only those with HigherEdu of 0\n",
    "\n"
   ]
  },
  {
   "cell_type": "code",
   "execution_count": 40,
   "metadata": {},
   "outputs": [
    {
     "name": "stdout",
     "output_type": "stream",
     "text": [
      "Average job satisfaction for those with higher education is 6.998915763135947\n",
      "Average job satisfaction for those with bachelors as highest education is 6.939406749806243\n"
     ]
    }
   ],
   "source": [
    "print(\"Average job satisfaction for those with higher education is {}\".format(df_edu_1['JobSatisfaction'].mean()))\n",
    "print(\"Average job satisfaction for those with bachelors as highest education is {}\".format(df_edu_0['JobSatisfaction'].mean()))"
   ]
  },
  {
   "cell_type": "code",
   "execution_count": 41,
   "metadata": {},
   "outputs": [
    {
     "data": {
      "text/plain": [
       "0.05950901332970382"
      ]
     },
     "execution_count": 41,
     "metadata": {},
     "output_type": "execute_result"
    }
   ],
   "source": [
    "obs_diff = df_edu_1['JobSatisfaction'].mean() - df_edu_0['JobSatisfaction'].mean()\n",
    "obs_diff"
   ]
  },
  {
   "cell_type": "code",
   "execution_count": 53,
   "metadata": {},
   "outputs": [],
   "source": [
    "diffs = []\n",
    "#sample_df = df.sample(df.shape[0])\n",
    "\n",
    "for _ in range(10000):\n",
    "    boot_sample_he = df_edu_1.sample(df_edu_1.shape[0], replace = True)\n",
    "    boot_sample_nhe = df_edu_0.sample(df_edu_0.shape[0], replace = True)\n",
    "    mean_he = boot_sample_he['JobSatisfaction'].mean()\n",
    "    mean_nhe = boot_sample_nhe['JobSatisfaction'].mean()\n",
    "    diffs.append(mean_he - mean_nhe)"
   ]
  },
  {
   "cell_type": "code",
   "execution_count": 60,
   "metadata": {},
   "outputs": [
    {
     "data": {
      "image/png": "[encoded data removed]",
      "text/plain": [
       "<Figure size 432x288 with 1 Axes>"
      ]
     },
     "metadata": {
      "needs_background": "light"
     },
     "output_type": "display_data"
    }
   ],
   "source": [
    "# Simulate distribution under the null hypothesis\n",
    "diff = np.array(diffs)\n",
    "null_vals = np.random.normal(0, diff.std(),diff.size)\n",
    "\n",
    "# Plot the null distribution\n",
    "plt.hist(null_vals);"
   ]
  },
  {
   "cell_type": "code",
   "execution_count": 61,
   "metadata": {},
   "outputs": [
    {
     "data": {
      "image/png": "[encoded data removed]",
      "text/plain": [
       "<Figure size 432x288 with 1 Axes>"
      ]
     },
     "metadata": {
      "needs_background": "light"
     },
     "output_type": "display_data"
    }
   ],
   "source": [
    "# Plot observed statistic with the null distibution\n",
    "\n",
    "plt.hist(null_vals)\n",
    "plt.axvline(x=obs_diff,color='red');"
   ]
  },
  {
   "cell_type": "code",
   "execution_count": 62,
   "metadata": {},
   "outputs": [
    {
     "data": {
      "text/plain": [
       "0.0049"
      ]
     },
     "execution_count": 62,
     "metadata": {},
     "output_type": "execute_result"
    }
   ],
   "source": [
    "(null_vals>obs_diff).mean()"
   ]
  },
  {
   "cell_type": "code",
   "execution_count": 56,
   "metadata": {},
   "outputs": [
    {
     "data": {
      "text/plain": [
       "0.8883"
      ]
     },
     "execution_count": 56,
     "metadata": {},
     "output_type": "execute_result"
    }
   ],
   "source": [
    "(null_vals<obs_diff).mean()"
   ]
  },
  {
   "cell_type": "code",
   "execution_count": 57,
   "metadata": {},
   "outputs": [
    {
     "data": {
      "text/plain": [
       "0.21289999999999998"
      ]
     },
     "execution_count": 57,
     "metadata": {},
     "output_type": "execute_result"
    }
   ],
   "source": [
    "#values more extreme than our sample mean in either direction away from our null hyp\n",
    "null_mean = 0\n",
    "(null_vals > obs_diff).mean() + (null_vals < null_mean +(null_mean - obs_diff)).mean()"
   ]
  },
  {
   "cell_type": "code",
   "execution_count": 63,
   "metadata": {},
   "outputs": [
    {
     "data": {
      "text/plain": [
       "(0.014537045809906468, 0.10442464319487293)"
      ]
     },
     "execution_count": 63,
     "metadata": {},
     "output_type": "execute_result"
    }
   ],
   "source": [
    "low,high = np.percentile(diffs, 2.5), np.percentile(diffs,97.5)\n",
    "low, high"
   ]
  },
  {
   "cell_type": "code",
   "execution_count": 64,
   "metadata": {},
   "outputs": [
    {
     "data": {
      "image/png": "[encoded data removed]",
      "text/plain": [
       "<Figure size 432x288 with 1 Axes>"
      ]
     },
     "metadata": {
      "needs_background": "light"
     },
     "output_type": "display_data"
    }
   ],
   "source": [
    "plt.hist(diffs);\n",
    "plt.axvline(x=low, color='r', linewidth=2);\n",
    "plt.axvline(x=high, color='r', linewidth=2);"
   ]
  },
  {
   "cell_type": "markdown",
   "metadata": {},
   "source": [
    "Notice a key value that is not included in the 95% confidence interval for  $\\mu_{he}-\\mu_{nhe}$: the value 0. In other words, a difference of 0 is not included in our net, suggesting that $\\mu_{bg}$ and $\\mu_{nbg}$ are truly different!. \n",
    "  \n",
    "In the above case, our interval did not include a value equal to zero, which would suggest we reject the null hypothesis (the population mean is not equal to zero)."
   ]
  },
  {
   "cell_type": "markdown",
   "metadata": {},
   "source": [
    "## Conclusion\n",
    "\n",
    "While having a bachelor's degree is a foundation towards breaking into the field of software development, we have seen that there are other ways to become a software developer, like bootcamp, self education, before a higher education like Masters, Phd or professional certificates will give you a better job satisfaction."
   ]
  },
  {
   "cell_type": "code",
   "execution_count": null,
   "metadata": {},
   "outputs": [],
   "source": []
  }
 ],
 "metadata": {
  "kernelspec": {
   "display_name": "Python 3",
   "language": "python",
   "name": "python3"
  },
  "language_info": {
   "codemirror_mode": {
    "name": "ipython",
    "version": 3
   },
   "file_extension": ".py",
   "mimetype": "text/x-python",
   "name": "python",
   "nbconvert_exporter": "python",
   "pygments_lexer": "ipython3",
   "version": "3.7.7"
  }
 },
 "nbformat": 4,
 "nbformat_minor": 4
}
