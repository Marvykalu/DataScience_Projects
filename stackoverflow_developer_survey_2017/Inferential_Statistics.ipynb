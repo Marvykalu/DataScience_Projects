{
 "cells": [
  {
   "cell_type": "markdown",
   "metadata": {},
   "source": [
    "# Stack Overflow Developers Survey, 2017\n",
    "\n",
    "## Hypothesis Testing:\n",
    "\n",
    "In this notebook, we are interested in testing whether\n",
    "\n",
    "1) Average job satisfaction for bootcamp graduates is diferent as for non bootcamp graduates. \n",
    "\n",
    "2) Average job satisfaction for individuals with higher formal education is different as for individuals with maximum of bachelor's degree.\n",
    "\n",
    "### Job Satisfaction vs Bootcamp\n",
    "\n",
    "So in this experiment, we’re going to analyze the average job satisfaction metric for bootcamp and non-bootcamp graduates $\\mu_{bg}$and $\\mu_{nbg}$ respectively.\n",
    "\n",
    "let's set up our null and alternative hypotheses:\n",
    "\n",
    "Null ($H_{0}$): There is no difference in average Job satisfaction for bootcamp and non-bootcamp graduates.\n",
    "\n",
    "Alternative ($H_{1}$): Bootcamp graduates have higher job satisfaction.\n",
    "\n",
    "**Mathematically**\n",
    "\n",
    "#### One sided alterative:\n",
    "\n",
    "- Alternative ($H_{1}$): Bootcamp graduates have higher job satisfaction than non bootcamp graduates.\n",
    "\n",
    "\\begin{align}\n",
    "H_{0}&: \\mu_{bg}-\\mu_{nbg} = 0\\\\\n",
    "H_{1}&: \\mu_{bg} - \\mu_{nbg} > 0\n",
    "\\end{align}\n",
    "\n",
    "**or**\n",
    "\n",
    "- Alternative ($H_{1}$): Bootcamp graduates have lower job satisfaction than non-bootcamp graduates.\n",
    "\n",
    "\n",
    "\\begin{align}\n",
    "H_{0}&: \\mu_{bg}-\\mu_{nbg} = 0\\\\\n",
    "H_{1}&: \\mu_{bg} - \\mu_{nbg} < 0\n",
    "\\end{align}\n",
    "\n",
    "The two cases above are what will likely happen if I have a prior knowledge of the descriptive statistics of the data and would like to test if it is true\n",
    "\n",
    "#### Two-sided alternative\n",
    "\n",
    "- Alternative ($H_{1}$): Average Job Satisfaction for  Bootcamp graduates is different from non-bootcamp graduates\n",
    "\n",
    "\\begin{align}\n",
    "H_{0}&: \\mu_{bg}-\\mu_{nbg} = 0\\\\\n",
    "H_{1}&: \\mu_{bg} - \\mu_{nbg} \\neq 0\n",
    "\\end{align}\n",
    "\n",
    "This case would be for someone who doesnt have any knowledge of the data and just wants to test if there is any difference in the group. This is what we willbe interested in.\n",
    "\n",
    "### Job Satisfaction vs Formal Education\n",
    "\n",
    "If we follow the same logic as above, the our hypothesis are\n",
    "\n",
    "- Individuals with higher formal education have higher job satisfaction than those with maximum of Bachelor's education\n",
    "\n",
    "\\begin{align}\n",
    "H_{0}&: \\mu_{he}-\\mu_{nhe} = 0\\\\\n",
    "H_{1}&: \\mu_{he} - \\mu_{nhe} > 0\n",
    "\\end{align}\n",
    "\n",
    "**or**\n",
    "\n",
    "- Alternative ($H_{1}$): Individuals with higher formal education have lower job satisfaction than those with maximum of Bachelor's education\n",
    "\n",
    "\\begin{align}\n",
    "H_{0}&: \\mu_{he}-\\mu_{nhe} = 0\\\\\n",
    "H_{1}&: \\mu_{he} - \\mu_{nhe} < 0\n",
    "\\end{align}\n",
    "\n",
    "\n",
    "#### Two-sided alternative\n",
    "\n",
    "- Alternative ($H_{1}$): Average Job Satisfaction for individuals with higher formal education is different from those with maximum of Bachelor's education\n",
    "\n",
    "\\begin{align}\n",
    "H_{0}&: \\mu_{he}-\\mu_{nhe} = 0\\\\\n",
    "H_{1}&: \\mu_{he} - \\mu_{nhe} \\neq 0\n",
    "\\end{align}\n",
    "**Way forward**\n",
    "\n",
    "We will set our error threshold $\\alpha = 0.01$. Now that we have our hypothesis setup, let us analyze our data."
   ]
  },
  {
   "cell_type": "code",
   "execution_count": 1,
   "metadata": {},
   "outputs": [],
   "source": [
    "#import necessary libraries\n",
    "import numpy as np\n",
    "import pandas as pd\n",
    "import matplotlib.pyplot as plt\n",
    "from IPython import display\n",
    "import seaborn as sb\n",
    "from collections import defaultdict \n",
    "%matplotlib inline\n",
    "\n",
    "np.random.seed(42)"
   ]
  },
  {
   "cell_type": "code",
   "execution_count": 2,
   "metadata": {},
   "outputs": [],
   "source": [
    "#load data\n",
    "df = pd.read_csv('survey-results-public.csv')"
   ]
  },
  {
   "cell_type": "markdown",
   "metadata": {},
   "source": [
    "### TimeAfterBootcamp vs JobSatisfaction"
   ]
  },
  {
   "cell_type": "code",
   "execution_count": 3,
   "metadata": {},
   "outputs": [
    {
     "name": "stdout",
     "output_type": "stream",
     "text": [
      "Number of non bootcamp graduates is 48790\n",
      "Number of bootcamp graduates is 2602\n"
     ]
    }
   ],
   "source": [
    "bootcamp_df = df[df['TimeAfterBootcamp'].isnull()==False]\n",
    "not_bootcamp_df = df[df['TimeAfterBootcamp'].isnull()==True]\n",
    "\n",
    "print(\"Number of non bootcamp graduates is {}\".format(not_bootcamp_df.shape[0]))\n",
    "print(\"Number of bootcamp graduates is {}\".format(bootcamp_df.shape[0]))"
   ]
  },
  {
   "cell_type": "code",
   "execution_count": 4,
   "metadata": {},
   "outputs": [
    {
     "name": "stdout",
     "output_type": "stream",
     "text": [
      "Average job satisfaction for non bootcamp graduates is 6.952373463343032\n",
      "Average job satisfaction for bootcamp graduates is 7.037752808988764\n"
     ]
    }
   ],
   "source": [
    "print(\"Average job satisfaction for non bootcamp graduates is {}\".format(not_bootcamp_df['JobSatisfaction'].mean()))\n",
    "print(\"Average job satisfaction for bootcamp graduates is {}\".format(bootcamp_df['JobSatisfaction'].mean()))"
   ]
  },
  {
   "cell_type": "code",
   "execution_count": 5,
   "metadata": {},
   "outputs": [
    {
     "data": {
      "text/plain": [
       "0.08537934564573213"
      ]
     },
     "execution_count": 5,
     "metadata": {},
     "output_type": "execute_result"
    }
   ],
   "source": [
    "obs_diff = bootcamp_df['JobSatisfaction'].mean() - not_bootcamp_df['JobSatisfaction'].mean()\n",
    "obs_diff"
   ]
  },
  {
   "cell_type": "code",
   "execution_count": 28,
   "metadata": {},
   "outputs": [],
   "source": [
    "diffs = []\n",
    "#sample_df = df.sample(df.shape[0])\n",
    "\n",
    "for _ in range(10000):\n",
    "    boot_sample_bg = bootcamp_df.sample(bootcamp_df.shape[0], replace = True)\n",
    "    boot_sample_nbg = not_bootcamp_df.sample(not_bootcamp_df.shape[0], replace = True)\n",
    "    mean_bg = boot_sample_bg['JobSatisfaction'].mean()\n",
    "    mean_nbg = boot_sample_nbg['JobSatisfaction'].mean()\n",
    "    diffs.append(mean_bg - mean_nbg)"
   ]
  },
  {
   "cell_type": "code",
   "execution_count": 29,
   "metadata": {},
   "outputs": [
    {
     "data": {
      "image/png": "[encoded data removed]",
      "text/plain": [
       "<Figure size 432x288 with 1 Axes>"
      ]
     },
     "metadata": {
      "needs_background": "light"
     },
     "output_type": "display_data"
    }
   ],
   "source": [
    "plt.hist(diffs);\n",
    "plt.xlabel('Mean Job Satisfaction (bootcamp vs non-bootcamp graduates)')\n",
    "plt.ylabel('Count')\n",
    "plt.title('Plot of bootstrapped distribution');"
   ]
  },
  {
   "cell_type": "markdown",
   "metadata": {},
   "source": [
    "### Simulating from the null"
   ]
  },
  {
   "cell_type": "code",
   "execution_count": 30,
   "metadata": {},
   "outputs": [
    {
     "data": {
      "image/png": "[encoded data removed]",
      "text/plain": [
       "<Figure size 432x288 with 1 Axes>"
      ]
     },
     "metadata": {
      "needs_background": "light"
     },
     "output_type": "display_data"
    }
   ],
   "source": [
    "# Simulate distribution under the null hypothesis\n",
    "diff = np.array(diffs)\n",
    "null_vals = np.random.normal(0, diff.std(),diff.size)\n",
    "\n",
    "# Plot observed statistic with the null distibution\n",
    "\n",
    "plt.hist(null_vals);\n",
    "plt.axvline(x=obs_diff,color='red');\n",
    "plt.xlabel('Mean Job Satisfaction (bootcamp vs non-bootcamp graduates)')\n",
    "plt.ylabel('Count')\n",
    "plt.title('Plot of null distribution');\n"
   ]
  },
  {
   "cell_type": "markdown",
   "metadata": {},
   "source": [
    "Recall our Hypothesis\n",
    "\n",
    "$\n",
    "H_{0}: \\mu_{bg}-\\mu_{nbg} = 0\\\\\n",
    "H_{1}: \\mu_{bg} - \\mu_{nbg} \\neq 0\n",
    "$"
   ]
  },
  {
   "cell_type": "code",
   "execution_count": 10,
   "metadata": {},
   "outputs": [
    {
     "data": {
      "text/plain": [
       "0.0706"
      ]
     },
     "execution_count": 10,
     "metadata": {},
     "output_type": "execute_result"
    }
   ],
   "source": [
    "#values that are more extreme than our sample mean in either direction away from our null hyp\n",
    "null_mean = 0\n",
    "(null_vals > obs_diff).mean() + (null_vals < null_mean +(null_mean - obs_diff)).mean()"
   ]
  },
  {
   "cell_type": "markdown",
   "metadata": {},
   "source": [
    "We obtain a p-value of 0.0713, which is an indication that there is a 7.13% likelyly hood that our observed statistics came from the null hypothesis. Thus we fail to reject $H_{0}$.\n",
    "\n",
    "Let us see where our intervals fall in the null distribution."
   ]
  },
  {
   "cell_type": "code",
   "execution_count": 11,
   "metadata": {},
   "outputs": [
    {
     "data": {
      "image/png": "[encoded data removed]",
      "text/plain": [
       "<Figure size 432x288 with 1 Axes>"
      ]
     },
     "metadata": {
      "needs_background": "light"
     },
     "output_type": "display_data"
    }
   ],
   "source": [
    "high = obs_diff\n",
    "low = null_mean + (null_mean - obs_diff)\n",
    "\n",
    "plt.hist(null_vals);\n",
    "plt.axvline(low,color='g', linewidth=2)\n",
    "plt.axvline(high,color='r', linewidth=2);"
   ]
  },
  {
   "cell_type": "markdown",
   "metadata": {},
   "source": [
    "So the intervals lie far away from the bulk of our distribution. We can conclude that we do not have enough evidence that our observed statistics did not come from the Null hypothesis, hence we fail to reject $H_{0}$.\n",
    "\n",
    "### Simulating with Confidence Interval\n",
    "\n",
    "We already have our list difference in means from bootstrapping. We will go ahead to build our 95% confidence interval and see where it falls on our distribution."
   ]
  },
  {
   "cell_type": "code",
   "execution_count": 31,
   "metadata": {},
   "outputs": [
    {
     "data": {
      "text/plain": [
       "(-0.009452552113441424, 0.1771964446560204)"
      ]
     },
     "execution_count": 31,
     "metadata": {},
     "output_type": "execute_result"
    }
   ],
   "source": [
    "low,high = np.percentile(diffs, 2.5), np.percentile(diffs,97.5)\n",
    "low, high"
   ]
  },
  {
   "cell_type": "code",
   "execution_count": 32,
   "metadata": {},
   "outputs": [
    {
     "data": {
      "image/png": "[encoded data removed]",
      "text/plain": [
       "<Figure size 432x288 with 1 Axes>"
      ]
     },
     "metadata": {
      "needs_background": "light"
     },
     "output_type": "display_data"
    }
   ],
   "source": [
    "plt.hist(diffs);\n",
    "plt.axvline(x=low, color='r', linewidth=2);\n",
    "plt.axvline(x=high, color='r', linewidth=2);\n",
    "plt.title('Interval plot of difference in mean Job Satisfaction.', fontsize=16)\n",
    "plt.xlabel('Difference in mean (bootcamp vs non-bootcamp graduates)');\n",
    "plt.ylabel('Count');"
   ]
  },
  {
   "cell_type": "markdown",
   "metadata": {},
   "source": [
    "Notice a key value that is included in the 95% confidence interval for  $\\mu_{bg}-\\mu_{nbg}$: the value 0. In other words, a difference of 0 is included in our net, suggesting that $\\mu_{bg}$ and $\\mu_{nbg}$ are truly the same. \n",
    "  \n",
    "In the above case, our interval included a value equal to zero, which would suggest we fail to reject the null hypothesis (the population mean is equal to zero).\n",
    "\n",
    "### FormalEducation vs JobSatisfaction"
   ]
  },
  {
   "cell_type": "code",
   "execution_count": 14,
   "metadata": {},
   "outputs": [
    {
     "data": {
      "text/plain": [
       "Master's degree        11141\n",
       "Doctoral degree         1308\n",
       "Professional degree      715\n",
       "Name: FormalEducation, dtype: int64"
      ]
     },
     "execution_count": 14,
     "metadata": {},
     "output_type": "execute_result"
    }
   ],
   "source": [
    "HigherEdu_df = df[(df['FormalEducation'] == 'Doctoral degree') | (df['FormalEducation'] == \"Master's degree\")|(df['FormalEducation'] == \"Professional degree\") ]\n",
    "HigherEdu_df['FormalEducation'].value_counts()"
   ]
  },
  {
   "cell_type": "code",
   "execution_count": 15,
   "metadata": {},
   "outputs": [
    {
     "data": {
      "text/plain": [
       "Bachelor's degree                                                    21609\n",
       "Some college/university study without earning a bachelor's degree     8129\n",
       "Secondary school                                                      5908\n",
       "I prefer not to answer                                                1109\n",
       "Primary/elementary school                                             1047\n",
       "I never completed any formal education                                 426\n",
       "Name: FormalEducation, dtype: int64"
      ]
     },
     "execution_count": 15,
     "metadata": {},
     "output_type": "execute_result"
    }
   ],
   "source": [
    "not_HigherEdu_df = df[(df['FormalEducation'] == \"Bachelor's degree\") | (df['FormalEducation'] == \"Some college/university study without earning a bachelor's degree\")\n",
    "                      |(df['FormalEducation'] == \"Secondary school\")|(df['FormalEducation'] == \"I prefer not to answer\")\n",
    "                      |(df['FormalEducation'] == \"Primary/elementary school\")|(df['FormalEducation'] == \"I never completed any formal education\")]\n",
    "\n",
    "not_HigherEdu_df['FormalEducation'].value_counts()"
   ]
  },
  {
   "cell_type": "code",
   "execution_count": 16,
   "metadata": {},
   "outputs": [
    {
     "name": "stdout",
     "output_type": "stream",
     "text": [
      "Average job satisfaction for those with higher formal education is 6.998915763135947\n",
      "Average job satisfaction for those with bachelors as highest education is 6.939406749806243\n"
     ]
    }
   ],
   "source": [
    "print(\"Average job satisfaction for those with higher formal education is {}\".format(HigherEdu_df['JobSatisfaction'].mean()))\n",
    "print(\"Average job satisfaction for those with bachelors as highest education is {}\".format(not_HigherEdu_df['JobSatisfaction'].mean()))"
   ]
  },
  {
   "cell_type": "code",
   "execution_count": 17,
   "metadata": {},
   "outputs": [
    {
     "data": {
      "text/plain": [
       "0.05950901332970382"
      ]
     },
     "execution_count": 17,
     "metadata": {},
     "output_type": "execute_result"
    }
   ],
   "source": [
    "obs_diff = HigherEdu_df['JobSatisfaction'].mean() - not_HigherEdu_df['JobSatisfaction'].mean()\n",
    "obs_diff"
   ]
  },
  {
   "cell_type": "markdown",
   "metadata": {},
   "source": [
    "### Simulating from the null\n",
    "\n",
    "#### Bootstrapping"
   ]
  },
  {
   "cell_type": "code",
   "execution_count": 18,
   "metadata": {},
   "outputs": [],
   "source": [
    "diffs = []\n",
    "\n",
    "for _ in range(10000):\n",
    "    boot_sample_he = HigherEdu_df.sample(HigherEdu_df.shape[0], replace = True)\n",
    "    boot_sample_nhe = not_HigherEdu_df.sample(not_HigherEdu_df.shape[0], replace = True)\n",
    "    mean_he = boot_sample_he['JobSatisfaction'].mean()\n",
    "    mean_nhe = boot_sample_nhe['JobSatisfaction'].mean()\n",
    "    diffs.append(mean_he - mean_nhe)"
   ]
  },
  {
   "cell_type": "code",
   "execution_count": 19,
   "metadata": {},
   "outputs": [
    {
     "data": {
      "image/png": "[encoded data removed]",
      "text/plain": [
       "<Figure size 432x288 with 1 Axes>"
      ]
     },
     "metadata": {
      "needs_background": "light"
     },
     "output_type": "display_data"
    }
   ],
   "source": [
    "diff = np.array(diffs) #different possible means from our bootstrapping\n",
    "\n",
    "# Simulate distribution under the null hypothesis with mean - 0\n",
    "null_vals = np.random.normal(0, diff.std(),diff.size) \n",
    "\n",
    "# Plot observed statistic with the null distibution\n",
    "\n",
    "plt.hist(null_vals);\n",
    "plt.axvline(x=obs_diff,color='red');"
   ]
  },
  {
   "cell_type": "code",
   "execution_count": 20,
   "metadata": {},
   "outputs": [
    {
     "data": {
      "image/png": "[encoded data removed]",
      "text/plain": [
       "<Figure size 432x288 with 1 Axes>"
      ]
     },
     "metadata": {
      "needs_background": "light"
     },
     "output_type": "display_data"
    }
   ],
   "source": [
    "# Plot observed statistic with the null distibution\n",
    "\n",
    "plt.hist(null_vals)\n",
    "plt.axvline(x=obs_diff,color='red');"
   ]
  },
  {
   "cell_type": "code",
   "execution_count": 21,
   "metadata": {},
   "outputs": [
    {
     "data": {
      "text/plain": [
       "0.009899999999999999"
      ]
     },
     "execution_count": 21,
     "metadata": {},
     "output_type": "execute_result"
    }
   ],
   "source": [
    "#values more extreme than our sample mean in either direction away from our null hyp\n",
    "null_mean = 0\n",
    "(null_vals > obs_diff).mean() + (null_vals < null_mean +(null_mean - obs_diff)).mean()"
   ]
  },
  {
   "cell_type": "markdown",
   "metadata": {},
   "source": [
    "**Coment**\n",
    "\n",
    "Here we see from the figure above that our observed statistics is far away from the bulk of the distribution. Suggesting that our statistics is not coming from the null. Similarly, our p-value 0.0105 is small, less that our $\\alpha = 0.05$. Thus we reject the null hypothesis. \n",
    "\n",
    "- There is truly a difference between average jobsatisfaction for individuals with higher formal education and those with Bachelors degree as their maximum formal education.\n",
    "\n",
    "### Simulating with Confidence Interval"
   ]
  },
  {
   "cell_type": "code",
   "execution_count": 22,
   "metadata": {},
   "outputs": [
    {
     "data": {
      "text/plain": [
       "(0.013621737751913311, 0.10479106524888725)"
      ]
     },
     "execution_count": 22,
     "metadata": {},
     "output_type": "execute_result"
    }
   ],
   "source": [
    "low,high = np.percentile(diffs, 2.5), np.percentile(diffs,97.5)\n",
    "low, high"
   ]
  },
  {
   "cell_type": "code",
   "execution_count": 26,
   "metadata": {},
   "outputs": [
    {
     "data": {
      "image/png": "[encoded data removed]",
      "text/plain": [
       "<Figure size 432x288 with 1 Axes>"
      ]
     },
     "metadata": {
      "needs_background": "light"
     },
     "output_type": "display_data"
    }
   ],
   "source": [
    "plt.hist(diffs);\n",
    "plt.axvline(x=low, color='r', linewidth=2);\n",
    "plt.axvline(x=high, color='r', linewidth=2);\n",
    "plt.title('Interval plot of difference in mean values.', fontsize=16)\n",
    "plt.xlabel('Difference in mean');\n",
    "plt.ylabel('Count');"
   ]
  },
  {
   "cell_type": "markdown",
   "metadata": {},
   "source": [
    "Notice a key value that is not included in the 95% confidence interval for  $\\mu_{he}-\\mu_{nhe}$: the value 0. In other words, a difference of 0 is not included in our net, suggesting that $\\mu_{bg}$ and $\\mu_{nbg}$ are truly different!. \n",
    "  \n",
    "In the above case, our interval did not include a value equal to zero, which would suggest we reject the null hypothesis (the population mean is not equal to zero)."
   ]
  },
  {
   "cell_type": "markdown",
   "metadata": {},
   "source": [
    "## Conclusion\n",
    "\n",
    "- Having a bachelor's degree in Computer Science or Software Engineering is a foundation towards breaking into the field of software development. But we saw other individuals with higher formal education and other degrees lower than a Bachelor's degree. Similarly we saw other categories of undergraduate majors.\n",
    "\n",
    "- Other forms of education other than formal education exist through which one could use for continuous learning purpose. These include self-taught, online courses, bootcamp etc. Self education seem to be most common for developers given its flexibiity. \n",
    "\n",
    "We looked at these from the perspective of individuals without a computer science or software engineering degree. \n",
    "\n",
    "Overall, you should be careful when deciding to go into a bootcamp asthis does not garantee a higher job satsifaction compared to not going. You could do better by taking online courses or taking a master's degree as suggested by other developers. \n",
    "\n",
    "On the other hand, having a higher degree PhD will gaurantee you a higher probability of obtaining the job you like. As we saw, those with higher formal education tend to have better job satisfaction compared to those with bachelors degree as their maximum. \n",
    "\n",
    "However with a bachelor's degree, you can expect to have a higher job satisfaction if you program as a hobby and contribute to open source projects."
   ]
  },
  {
   "cell_type": "code",
   "execution_count": null,
   "metadata": {},
   "outputs": [],
   "source": []
  }
 ],
 "metadata": {
  "kernelspec": {
   "display_name": "Python 3",
   "language": "python",
   "name": "python3"
  },
  "language_info": {
   "codemirror_mode": {
    "name": "ipython",
    "version": 3
   },
   "file_extension": ".py",
   "mimetype": "text/x-python",
   "name": "python",
   "nbconvert_exporter": "python",
   "pygments_lexer": "ipython3",
   "version": "3.7.7"
  }
 },
 "nbformat": 4,
 "nbformat_minor": 4
}
