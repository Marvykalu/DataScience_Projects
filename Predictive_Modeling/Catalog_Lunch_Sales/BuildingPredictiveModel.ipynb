{
 "cells": [
  {
   "cell_type": "markdown",
   "metadata": {},
   "source": [
    "# Introduction\n",
    "\n",
    "Businesses have evolved to the point where facts, metrics and data are used to guide strategic business decisions that align with business goals, objectives, and initiatives. \n",
    "\n",
    "This notebook looks at a business problem in a mail-order catalog business. \n",
    "\n",
    "#### Description of problem\n",
    "\n",
    "The company manufactures and sells high-end home goods. Last year, the company sent out its first print catalog, and is preparing to send out this year's catalog in the coming months to their new customers. The company has 250 new customers from their mailing list that they want to send the catalog to.\n",
    "\n",
    "#### Undecided decision\n",
    "\n",
    "Management want to make a decision based on the `expected profits` from sending a catalog to these customers. They do not want to send the catalog out to these new customers unless the `expected profit contribution` exceeds **10,000** dollars. \n",
    "\n",
    "#### Given information\n",
    "\n",
    "From management we know the\n",
    "\n",
    "- costs of printing and distributing catalogs (**6.50** per catalog).\n",
    "- We also know the average gross margin (price - cost) on all products sold through the catalog is 50%.\n",
    "\n",
    "#### Task\n",
    "\n",
    "The task is to predict how much money the company can expect to earn from sending out a catalog to their new customers.\n",
    "\n",
    "## Analysis Steps\n",
    "\n",
    "`1.` **Data Exploration**: What are the features correlated with average sales amounts, based on the existing customer data?\n",
    "\n",
    "2) **Build a predictive model**: build a predictive model with the features from step one to predict the average sales amount of the new customers\n",
    "\n",
    "3) **Estimate the expected revenue**: By multiplying the predicted sales amount with the probability that each new customer will buy our catalog, we can get this expected revenue information these 250 people.\n",
    "\n",
    "4) **Aggregated revenue**: The aggregated revenue should be multiplied with the average gross margin. \n",
    "\n",
    "5) Next, the total costs of catalog for 250 customers should be subtracted.\n",
    "\n",
    "6) **Decision making process**: Compare total expected net profit with the cut-off (10,000) provided by management. If the total expected profit contribution is larger than the cut-off value, sending this year's catalog to the new customers is recommended."
   ]
  },
  {
   "cell_type": "code",
   "execution_count": 1,
   "metadata": {},
   "outputs": [],
   "source": [
    "# Import the relevant libraries \n",
    "import pandas as pd \n",
    "import numpy as np \n",
    "import statsmodels.api as sm \n",
    "import matplotlib.pyplot as plt \n",
    "from sklearn.linear_model import LinearRegression \n",
    "import seaborn as sns \n",
    "sns.set()\n",
    "\n",
    "%matplotlib inline\n",
    "import pickle"
   ]
  },
  {
   "cell_type": "markdown",
   "metadata": {},
   "source": [
    "## Data Processing"
   ]
  },
  {
   "cell_type": "code",
   "execution_count": 2,
   "metadata": {},
   "outputs": [
    {
     "data": {
      "text/html": [
       "<div>\n",
       "<style scoped>\n",
       "    .dataframe tbody tr th:only-of-type {\n",
       "        vertical-align: middle;\n",
       "    }\n",
       "\n",
       "    .dataframe tbody tr th {\n",
       "        vertical-align: top;\n",
       "    }\n",
       "\n",
       "    .dataframe thead th {\n",
       "        text-align: right;\n",
       "    }\n",
       "</style>\n",
       "<table border=\"1\" class=\"dataframe\">\n",
       "  <thead>\n",
       "    <tr style=\"text-align: right;\">\n",
       "      <th></th>\n",
       "      <th>Name</th>\n",
       "      <th>Customer_Segment</th>\n",
       "      <th>Customer_ID</th>\n",
       "      <th>Address</th>\n",
       "      <th>City</th>\n",
       "      <th>State</th>\n",
       "      <th>ZIP</th>\n",
       "      <th>Avg_Sale_Amount</th>\n",
       "      <th>Store_Number</th>\n",
       "      <th>Responded_to_Last_Catalog</th>\n",
       "      <th>Avg_Num_Products_Purchased</th>\n",
       "      <th>#_Years_as_Customer</th>\n",
       "    </tr>\n",
       "  </thead>\n",
       "  <tbody>\n",
       "    <tr>\n",
       "      <th>0</th>\n",
       "      <td>Pamela Wright</td>\n",
       "      <td>Store Mailing List</td>\n",
       "      <td>2</td>\n",
       "      <td>376 S Jasmine St</td>\n",
       "      <td>Denver</td>\n",
       "      <td>CO</td>\n",
       "      <td>80224</td>\n",
       "      <td>227.9</td>\n",
       "      <td>100</td>\n",
       "      <td>No</td>\n",
       "      <td>1</td>\n",
       "      <td>6</td>\n",
       "    </tr>\n",
       "    <tr>\n",
       "      <th>1</th>\n",
       "      <td>Danell Valdez</td>\n",
       "      <td>Store Mailing List</td>\n",
       "      <td>7</td>\n",
       "      <td>12066 E Lake Cir</td>\n",
       "      <td>Greenwood Village</td>\n",
       "      <td>CO</td>\n",
       "      <td>80111</td>\n",
       "      <td>55.0</td>\n",
       "      <td>105</td>\n",
       "      <td>Yes</td>\n",
       "      <td>1</td>\n",
       "      <td>6</td>\n",
       "    </tr>\n",
       "  </tbody>\n",
       "</table>\n",
       "</div>"
      ],
      "text/plain": [
       "            Name    Customer_Segment  Customer_ID           Address  \\\n",
       "0  Pamela Wright  Store Mailing List            2  376 S Jasmine St   \n",
       "1  Danell Valdez  Store Mailing List            7  12066 E Lake Cir   \n",
       "\n",
       "                City State    ZIP  Avg_Sale_Amount  Store_Number  \\\n",
       "0             Denver    CO  80224            227.9           100   \n",
       "1  Greenwood Village    CO  80111             55.0           105   \n",
       "\n",
       "  Responded_to_Last_Catalog  Avg_Num_Products_Purchased  #_Years_as_Customer  \n",
       "0                        No                           1                    6  \n",
       "1                       Yes                           1                    6  "
      ]
     },
     "execution_count": 2,
     "metadata": {},
     "output_type": "execute_result"
    }
   ],
   "source": [
    "# Read the data \n",
    "df = pd.read_excel('p1-customers.xlsx')\n",
    "df.head(2)"
   ]
  },
  {
   "cell_type": "code",
   "execution_count": 3,
   "metadata": {},
   "outputs": [
    {
     "name": "stdout",
     "output_type": "stream",
     "text": [
      "<class 'pandas.core.frame.DataFrame'>\n",
      "RangeIndex: 2375 entries, 0 to 2374\n",
      "Data columns (total 12 columns):\n",
      " #   Column                      Non-Null Count  Dtype  \n",
      "---  ------                      --------------  -----  \n",
      " 0   Name                        2375 non-null   object \n",
      " 1   Customer_Segment            2375 non-null   object \n",
      " 2   Customer_ID                 2375 non-null   int64  \n",
      " 3   Address                     2375 non-null   object \n",
      " 4   City                        2375 non-null   object \n",
      " 5   State                       2375 non-null   object \n",
      " 6   ZIP                         2375 non-null   int64  \n",
      " 7   Avg_Sale_Amount             2375 non-null   float64\n",
      " 8   Store_Number                2375 non-null   int64  \n",
      " 9   Responded_to_Last_Catalog   2375 non-null   object \n",
      " 10  Avg_Num_Products_Purchased  2375 non-null   int64  \n",
      " 11  #_Years_as_Customer         2375 non-null   int64  \n",
      "dtypes: float64(1), int64(5), object(6)\n",
      "memory usage: 222.8+ KB\n"
     ]
    }
   ],
   "source": [
    "df.info()"
   ]
  },
  {
   "cell_type": "code",
   "execution_count": 4,
   "metadata": {},
   "outputs": [
    {
     "data": {
      "text/plain": [
       "(2375, 12)"
      ]
     },
     "execution_count": 4,
     "metadata": {},
     "output_type": "execute_result"
    }
   ],
   "source": [
    "df.shape"
   ]
  },
  {
   "cell_type": "code",
   "execution_count": 5,
   "metadata": {},
   "outputs": [
    {
     "data": {
      "text/plain": [
       "0"
      ]
     },
     "execution_count": 5,
     "metadata": {},
     "output_type": "execute_result"
    }
   ],
   "source": [
    "df.isnull().any().sum()"
   ]
  },
  {
   "cell_type": "code",
   "execution_count": 7,
   "metadata": {},
   "outputs": [
    {
     "data": {
      "text/plain": [
       "True"
      ]
     },
     "execution_count": 7,
     "metadata": {},
     "output_type": "execute_result"
    }
   ],
   "source": [
    "df['Customer_ID'].nunique() == df.shape[0] #returns true is all customer id's are unique"
   ]
  },
  {
   "cell_type": "code",
   "execution_count": 8,
   "metadata": {},
   "outputs": [
    {
     "data": {
      "text/plain": [
       "Store Mailing List              1108\n",
       "Loyalty Club Only                579\n",
       "Credit Card Only                 494\n",
       "Loyalty Club and Credit Card     194\n",
       "Name: Customer_Segment, dtype: int64"
      ]
     },
     "execution_count": 8,
     "metadata": {},
     "output_type": "execute_result"
    }
   ],
   "source": [
    "df['Customer_Segment'].value_counts() #there are 4 categories of customer segment"
   ]
  },
  {
   "cell_type": "code",
   "execution_count": 9,
   "metadata": {},
   "outputs": [
    {
     "data": {
      "text/plain": [
       "27"
      ]
     },
     "execution_count": 9,
     "metadata": {},
     "output_type": "execute_result"
    }
   ],
   "source": [
    "df['City'].nunique() #customers live accross 27 cities"
   ]
  },
  {
   "cell_type": "code",
   "execution_count": 10,
   "metadata": {},
   "outputs": [
    {
     "data": {
      "text/plain": [
       "Denver               750\n",
       "Aurora               493\n",
       "Arvada               247\n",
       "Lakewood             217\n",
       "Broomfield           125\n",
       "Westminster           85\n",
       "Centennial            78\n",
       "Littleton             72\n",
       "Englewood             56\n",
       "Wheat Ridge           54\n",
       "Thornton              35\n",
       "Parker                27\n",
       "Northglenn            24\n",
       "Highlands Ranch       23\n",
       "Golden                19\n",
       "Greenwood Village     14\n",
       "Edgewater             12\n",
       "Commerce City         10\n",
       "Superior               9\n",
       "Morrison               7\n",
       "Lafayette              5\n",
       "Louisville             4\n",
       "Boulder                3\n",
       "Brighton               2\n",
       "Castle Pines           2\n",
       "Henderson              1\n",
       "Lone Tree              1\n",
       "Name: City, dtype: int64"
      ]
     },
     "execution_count": 10,
     "metadata": {},
     "output_type": "execute_result"
    }
   ],
   "source": [
    "df['City'].value_counts() #a peek at the different cities"
   ]
  },
  {
   "cell_type": "code",
   "execution_count": 11,
   "metadata": {},
   "outputs": [
    {
     "data": {
      "text/plain": [
       "CO    2375\n",
       "Name: State, dtype: int64"
      ]
     },
     "execution_count": 11,
     "metadata": {},
     "output_type": "execute_result"
    }
   ],
   "source": [
    "df['State'].value_counts() #state column is not useful, customers all live in the same state"
   ]
  },
  {
   "cell_type": "code",
   "execution_count": 12,
   "metadata": {},
   "outputs": [
    {
     "data": {
      "text/plain": [
       "10"
      ]
     },
     "execution_count": 12,
     "metadata": {},
     "output_type": "execute_result"
    }
   ],
   "source": [
    "df['Store_Number'].nunique() #there are 10 different stores"
   ]
  },
  {
   "cell_type": "code",
   "execution_count": 13,
   "metadata": {},
   "outputs": [
    {
     "data": {
      "text/html": [
       "<div>\n",
       "<style scoped>\n",
       "    .dataframe tbody tr th:only-of-type {\n",
       "        vertical-align: middle;\n",
       "    }\n",
       "\n",
       "    .dataframe tbody tr th {\n",
       "        vertical-align: top;\n",
       "    }\n",
       "\n",
       "    .dataframe thead th {\n",
       "        text-align: right;\n",
       "    }\n",
       "</style>\n",
       "<table border=\"1\" class=\"dataframe\">\n",
       "  <thead>\n",
       "    <tr style=\"text-align: right;\">\n",
       "      <th></th>\n",
       "      <th>Customer_Segment</th>\n",
       "      <th>Customer_ID</th>\n",
       "      <th>City</th>\n",
       "      <th>Avg_Sale_Amount</th>\n",
       "      <th>Store_Number</th>\n",
       "      <th>Responded_to_Last_Catalog</th>\n",
       "      <th>Avg_Num_Products_Purchased</th>\n",
       "      <th>#_Years_as_Customer</th>\n",
       "    </tr>\n",
       "  </thead>\n",
       "  <tbody>\n",
       "    <tr>\n",
       "      <th>0</th>\n",
       "      <td>Store Mailing List</td>\n",
       "      <td>2</td>\n",
       "      <td>Denver</td>\n",
       "      <td>227.90</td>\n",
       "      <td>100</td>\n",
       "      <td>No</td>\n",
       "      <td>1</td>\n",
       "      <td>6</td>\n",
       "    </tr>\n",
       "    <tr>\n",
       "      <th>1</th>\n",
       "      <td>Store Mailing List</td>\n",
       "      <td>7</td>\n",
       "      <td>Greenwood Village</td>\n",
       "      <td>55.00</td>\n",
       "      <td>105</td>\n",
       "      <td>Yes</td>\n",
       "      <td>1</td>\n",
       "      <td>6</td>\n",
       "    </tr>\n",
       "    <tr>\n",
       "      <th>2</th>\n",
       "      <td>Store Mailing List</td>\n",
       "      <td>8</td>\n",
       "      <td>Centennial</td>\n",
       "      <td>212.57</td>\n",
       "      <td>101</td>\n",
       "      <td>No</td>\n",
       "      <td>1</td>\n",
       "      <td>3</td>\n",
       "    </tr>\n",
       "  </tbody>\n",
       "</table>\n",
       "</div>"
      ],
      "text/plain": [
       "     Customer_Segment  Customer_ID               City  Avg_Sale_Amount  \\\n",
       "0  Store Mailing List            2             Denver           227.90   \n",
       "1  Store Mailing List            7  Greenwood Village            55.00   \n",
       "2  Store Mailing List            8         Centennial           212.57   \n",
       "\n",
       "   Store_Number Responded_to_Last_Catalog  Avg_Num_Products_Purchased  \\\n",
       "0           100                        No                           1   \n",
       "1           105                       Yes                           1   \n",
       "2           101                        No                           1   \n",
       "\n",
       "   #_Years_as_Customer  \n",
       "0                    6  \n",
       "1                    6  \n",
       "2                    3  "
      ]
     },
     "execution_count": 13,
     "metadata": {},
     "output_type": "execute_result"
    }
   ],
   "source": [
    "#drop non-informative features\n",
    "df_clean = df.copy()\n",
    "df_clean.drop(['Name','Address', 'State','ZIP'], axis = 1, inplace= True)\n",
    "\n",
    "df_clean.head(3)"
   ]
  },
  {
   "cell_type": "code",
   "execution_count": 14,
   "metadata": {},
   "outputs": [
    {
     "data": {
      "image/png": "[encoded data removed]",
      "text/plain": [
       "<Figure size 864x576 with 2 Axes>"
      ]
     },
     "metadata": {
      "needs_background": "light"
     },
     "output_type": "display_data"
    }
   ],
   "source": [
    "plt.figure(figsize=[12,8])\n",
    "sns.heatmap(df_clean.corr(), annot=True);\n"
   ]
  },
  {
   "cell_type": "markdown",
   "metadata": {},
   "source": [
    "Note: The correlation matrix plot above shows relationship for only numerical features in the dataset.\n",
    "\n",
    "Looking at the correlation matrix, we see that\n",
    "\n",
    "- **Avg_Sale_Amount** is highly corrlated with **Avg_Num_Products_Purchased** with coeff = 0.86\n",
    "- **Avg_Sale_Amount** is moderately correlated with **#_Years_as_Customer** with coeff = 0.03\n",
    "- There seem to be a correlation between **#_Years_as_Customer** and **Avg_Num_Products_Purchased**, but this is moderate with coeff = 0.043, thus we do not have to worry about multicollinearity if we might want to include any of them in our predictive model.\n",
    "\n",
    "Let us see these relationships in visual form"
   ]
  },
  {
   "cell_type": "code",
   "execution_count": 18,
   "metadata": {},
   "outputs": [],
   "source": [
    "#function to plot a horizontal bar chat of two columns in a dataframe\n",
    "def bar_plot(df,x,y,xlabel,title):\n",
    "    ax = df[[x, y]].plot(kind='barh', yticks = df.index, width=0.7, figsize=(8, 6),legend=None);\n",
    "    ax.set_yticklabels(df[x]);\n",
    "    ax.set_xlabel(xlabel)\n",
    "    ax.grid(axis = 'x',linestyle = '--', linewidth = 0.5)\n",
    "    plt.title(title);"
   ]
  },
  {
   "cell_type": "markdown",
   "metadata": {},
   "source": [
    "### Customer Segment\n",
    "\n",
    "#### Exploration"
   ]
  },
  {
   "cell_type": "code",
   "execution_count": 15,
   "metadata": {},
   "outputs": [
    {
     "data": {
      "text/plain": [
       "Store Mailing List              0.466526\n",
       "Loyalty Club Only               0.243789\n",
       "Credit Card Only                0.208000\n",
       "Loyalty Club and Credit Card    0.081684\n",
       "Name: Customer_Segment, dtype: float64"
      ]
     },
     "execution_count": 15,
     "metadata": {},
     "output_type": "execute_result"
    }
   ],
   "source": [
    "(df['Customer_Segment'].value_counts()/df.shape[0])"
   ]
  },
  {
   "cell_type": "code",
   "execution_count": 16,
   "metadata": {},
   "outputs": [
    {
     "data": {
      "image/png": "[encoded data removed]",
      "text/plain": [
       "<Figure size 432x288 with 1 Axes>"
      ]
     },
     "metadata": {
      "needs_background": "light"
     },
     "output_type": "display_data"
    }
   ],
   "source": [
    "(df['Customer_Segment'].value_counts()/df.shape[0]).sort_values().plot(kind='barh',width = 0.7)\n",
    "plt.xlabel('Proportion')\n",
    "plt.ylabel(\"Customer Segments\");\n",
    "#plt.xticks(rotation=60);"
   ]
  },
  {
   "cell_type": "markdown",
   "metadata": {},
   "source": [
    "#### Customer Segment vs Average Sale Amount"
   ]
  },
  {
   "cell_type": "code",
   "execution_count": 17,
   "metadata": {
    "scrolled": false
   },
   "outputs": [
    {
     "data": {
      "text/html": [
       "<div>\n",
       "<style scoped>\n",
       "    .dataframe tbody tr th:only-of-type {\n",
       "        vertical-align: middle;\n",
       "    }\n",
       "\n",
       "    .dataframe tbody tr th {\n",
       "        vertical-align: top;\n",
       "    }\n",
       "\n",
       "    .dataframe thead th {\n",
       "        text-align: right;\n",
       "    }\n",
       "</style>\n",
       "<table border=\"1\" class=\"dataframe\">\n",
       "  <thead>\n",
       "    <tr style=\"text-align: right;\">\n",
       "      <th></th>\n",
       "      <th>Customer_Segment</th>\n",
       "      <th>Avg_Sale_Amount</th>\n",
       "    </tr>\n",
       "  </thead>\n",
       "  <tbody>\n",
       "    <tr>\n",
       "      <th>0</th>\n",
       "      <td>Store Mailing List</td>\n",
       "      <td>157.361525</td>\n",
       "    </tr>\n",
       "    <tr>\n",
       "      <th>1</th>\n",
       "      <td>Loyalty Club Only</td>\n",
       "      <td>396.332573</td>\n",
       "    </tr>\n",
       "    <tr>\n",
       "      <th>2</th>\n",
       "      <td>Credit Card Only</td>\n",
       "      <td>682.678947</td>\n",
       "    </tr>\n",
       "    <tr>\n",
       "      <th>3</th>\n",
       "      <td>Loyalty Club and Credit Card</td>\n",
       "      <td>1074.159485</td>\n",
       "    </tr>\n",
       "  </tbody>\n",
       "</table>\n",
       "</div>"
      ],
      "text/plain": [
       "               Customer_Segment  Avg_Sale_Amount\n",
       "0            Store Mailing List       157.361525\n",
       "1             Loyalty Club Only       396.332573\n",
       "2              Credit Card Only       682.678947\n",
       "3  Loyalty Club and Credit Card      1074.159485"
      ]
     },
     "execution_count": 17,
     "metadata": {},
     "output_type": "execute_result"
    }
   ],
   "source": [
    "df_cus_avg = df_clean.groupby('Customer_Segment')['Avg_Sale_Amount'].mean().sort_values().reset_index()\n",
    "df_cus_avg"
   ]
  },
  {
   "cell_type": "code",
   "execution_count": 19,
   "metadata": {},
   "outputs": [
    {
     "data": {
      "image/png": "[encoded data removed]",
      "text/plain": [
       "<Figure size 576x432 with 1 Axes>"
      ]
     },
     "metadata": {
      "needs_background": "light"
     },
     "output_type": "display_data"
    }
   ],
   "source": [
    "bar_plot(df_cus_avg,'Customer_Segment','Avg_Sale_Amount','Average Sale Amount','Customer Segment vs Average Sale Amount')"
   ]
  },
  {
   "cell_type": "markdown",
   "metadata": {},
   "source": [
    "#### Customer Segment vs Number of Years as Customer"
   ]
  },
  {
   "cell_type": "code",
   "execution_count": 20,
   "metadata": {},
   "outputs": [
    {
     "data": {
      "text/html": [
       "<div>\n",
       "<style scoped>\n",
       "    .dataframe tbody tr th:only-of-type {\n",
       "        vertical-align: middle;\n",
       "    }\n",
       "\n",
       "    .dataframe tbody tr th {\n",
       "        vertical-align: top;\n",
       "    }\n",
       "\n",
       "    .dataframe thead th {\n",
       "        text-align: right;\n",
       "    }\n",
       "</style>\n",
       "<table border=\"1\" class=\"dataframe\">\n",
       "  <thead>\n",
       "    <tr style=\"text-align: right;\">\n",
       "      <th></th>\n",
       "      <th>Customer_Segment</th>\n",
       "      <th>#_Years_as_Customer</th>\n",
       "    </tr>\n",
       "  </thead>\n",
       "  <tbody>\n",
       "    <tr>\n",
       "      <th>0</th>\n",
       "      <td>Store Mailing List</td>\n",
       "      <td>4.398917</td>\n",
       "    </tr>\n",
       "    <tr>\n",
       "      <th>1</th>\n",
       "      <td>Credit Card Only</td>\n",
       "      <td>4.502024</td>\n",
       "    </tr>\n",
       "    <tr>\n",
       "      <th>2</th>\n",
       "      <td>Loyalty Club Only</td>\n",
       "      <td>4.571675</td>\n",
       "    </tr>\n",
       "    <tr>\n",
       "      <th>3</th>\n",
       "      <td>Loyalty Club and Credit Card</td>\n",
       "      <td>4.865979</td>\n",
       "    </tr>\n",
       "  </tbody>\n",
       "</table>\n",
       "</div>"
      ],
      "text/plain": [
       "               Customer_Segment  #_Years_as_Customer\n",
       "0            Store Mailing List             4.398917\n",
       "1              Credit Card Only             4.502024\n",
       "2             Loyalty Club Only             4.571675\n",
       "3  Loyalty Club and Credit Card             4.865979"
      ]
     },
     "execution_count": 20,
     "metadata": {},
     "output_type": "execute_result"
    }
   ],
   "source": [
    "df_cus_years = df_clean.groupby('Customer_Segment')['#_Years_as_Customer'].mean().sort_values().reset_index()\n",
    "df_cus_years"
   ]
  },
  {
   "cell_type": "code",
   "execution_count": 21,
   "metadata": {},
   "outputs": [
    {
     "data": {
      "image/png": "[encoded data removed]",
      "text/plain": [
       "<Figure size 576x432 with 1 Axes>"
      ]
     },
     "metadata": {
      "needs_background": "light"
     },
     "output_type": "display_data"
    }
   ],
   "source": [
    "bar_plot(df_cus_years,'Customer_Segment','#_Years_as_Customer','Number of years as a customer','Customer Segment vs Number of Years as Customer')"
   ]
  },
  {
   "cell_type": "markdown",
   "metadata": {},
   "source": [
    "Thus the relationship between Customer Segment and Number of Years as Customer is not very strong thus we dont have to worry about multicollinearity."
   ]
  },
  {
   "cell_type": "markdown",
   "metadata": {},
   "source": [
    "\n",
    "### Summary\n",
    "\n",
    "- There are 4 categorized of customer segment:\n",
    "\n",
    " - Loyalty Club and Credit Card, Credit Card Only, Loyalty Club Only, and Store Mailing List, respectively, according to decreasing levels of customer loyalty.  \n",
    "\n",
    "- The Store Mailing List segment has about 47%, Loyalty Club Only has 24%, Credit Card Only has 21% and Loyalty Club and Credit Card has about 8%, of the customer's population respectively. This indicates the number of customers in each segment decreases as they belong to  higher loyalty group.\n",
    "\n",
    "- On the other hand, the average sales amount increases as the customers belong to higher loyalty club with **Loyalty Club and Credit Card** having the highest average sales of about 1074 and **Store Mailing List** with the least Average Sale Amount of 157.4.\n",
    "\n",
    "- Thus included in our final predictive model will be the \"Customer_Segment\" feature."
   ]
  },
  {
   "cell_type": "markdown",
   "metadata": {},
   "source": [
    "### Store number"
   ]
  },
  {
   "cell_type": "code",
   "execution_count": 22,
   "metadata": {},
   "outputs": [
    {
     "data": {
      "text/html": [
       "<div>\n",
       "<style scoped>\n",
       "    .dataframe tbody tr th:only-of-type {\n",
       "        vertical-align: middle;\n",
       "    }\n",
       "\n",
       "    .dataframe tbody tr th {\n",
       "        vertical-align: top;\n",
       "    }\n",
       "\n",
       "    .dataframe thead th {\n",
       "        text-align: right;\n",
       "    }\n",
       "</style>\n",
       "<table border=\"1\" class=\"dataframe\">\n",
       "  <thead>\n",
       "    <tr style=\"text-align: right;\">\n",
       "      <th></th>\n",
       "      <th>Store_Number</th>\n",
       "      <th>Avg_Sale_Amount</th>\n",
       "    </tr>\n",
       "  </thead>\n",
       "  <tbody>\n",
       "    <tr>\n",
       "      <th>0</th>\n",
       "      <td>108</td>\n",
       "      <td>359.332333</td>\n",
       "    </tr>\n",
       "    <tr>\n",
       "      <th>1</th>\n",
       "      <td>102</td>\n",
       "      <td>380.428000</td>\n",
       "    </tr>\n",
       "    <tr>\n",
       "      <th>2</th>\n",
       "      <td>106</td>\n",
       "      <td>382.021979</td>\n",
       "    </tr>\n",
       "    <tr>\n",
       "      <th>3</th>\n",
       "      <td>104</td>\n",
       "      <td>386.272852</td>\n",
       "    </tr>\n",
       "    <tr>\n",
       "      <th>4</th>\n",
       "      <td>101</td>\n",
       "      <td>397.463913</td>\n",
       "    </tr>\n",
       "    <tr>\n",
       "      <th>5</th>\n",
       "      <td>103</td>\n",
       "      <td>406.493200</td>\n",
       "    </tr>\n",
       "    <tr>\n",
       "      <th>6</th>\n",
       "      <td>100</td>\n",
       "      <td>412.505491</td>\n",
       "    </tr>\n",
       "    <tr>\n",
       "      <th>7</th>\n",
       "      <td>107</td>\n",
       "      <td>414.002920</td>\n",
       "    </tr>\n",
       "    <tr>\n",
       "      <th>8</th>\n",
       "      <td>105</td>\n",
       "      <td>419.240852</td>\n",
       "    </tr>\n",
       "    <tr>\n",
       "      <th>9</th>\n",
       "      <td>109</td>\n",
       "      <td>427.162663</td>\n",
       "    </tr>\n",
       "  </tbody>\n",
       "</table>\n",
       "</div>"
      ],
      "text/plain": [
       "   Store_Number  Avg_Sale_Amount\n",
       "0           108       359.332333\n",
       "1           102       380.428000\n",
       "2           106       382.021979\n",
       "3           104       386.272852\n",
       "4           101       397.463913\n",
       "5           103       406.493200\n",
       "6           100       412.505491\n",
       "7           107       414.002920\n",
       "8           105       419.240852\n",
       "9           109       427.162663"
      ]
     },
     "execution_count": 22,
     "metadata": {},
     "output_type": "execute_result"
    }
   ],
   "source": [
    "df_store_num = df_clean.groupby('Store_Number')['Avg_Sale_Amount'].mean().sort_values().reset_index()\n",
    "df_store_num"
   ]
  },
  {
   "cell_type": "code",
   "execution_count": 23,
   "metadata": {},
   "outputs": [
    {
     "data": {
      "image/png": "[encoded data removed]",
      "text/plain": [
       "<Figure size 432x288 with 1 Axes>"
      ]
     },
     "metadata": {
      "needs_background": "light"
     },
     "output_type": "display_data"
    }
   ],
   "source": [
    "df_clean.groupby('Store_Number')['Avg_Sale_Amount'].mean().sort_values().plot(kind = 'barh');\n",
    "plt.xlabel('Average sale amount')\n",
    "plt.ylabel('Store Number')\n",
    "plt.title('Store number vs average sale amount');"
   ]
  },
  {
   "cell_type": "markdown",
   "metadata": {},
   "source": [
    "There is no practical significant difference between sales in each of these stores compared to another. This feature is not included in the final model.\n",
    "\n",
    "### City"
   ]
  },
  {
   "cell_type": "code",
   "execution_count": 24,
   "metadata": {},
   "outputs": [
    {
     "data": {
      "image/png": "[encoded data removed]",
      "text/plain": [
       "<Figure size 864x576 with 1 Axes>"
      ]
     },
     "metadata": {
      "needs_background": "light"
     },
     "output_type": "display_data"
    }
   ],
   "source": [
    "plt.figure(figsize = [12, 8])\n",
    "df_clean['City'].value_counts().sort_values().plot(kind = 'barh');\n"
   ]
  },
  {
   "cell_type": "code",
   "execution_count": 25,
   "metadata": {},
   "outputs": [
    {
     "data": {
      "image/png": "[encoded data removed]",
      "text/plain": [
       "<Figure size 864x576 with 1 Axes>"
      ]
     },
     "metadata": {
      "needs_background": "light"
     },
     "output_type": "display_data"
    }
   ],
   "source": [
    "plt.figure(figsize = [12,8])\n",
    "df_clean.groupby('City')['Avg_Sale_Amount'].mean().sort_values().plot(kind = 'barh');\n",
    "plt.xlabel('Average sale amount')\n",
    "plt.ylabel('City')\n",
    "plt.title('City vs average sale amount');"
   ]
  },
  {
   "cell_type": "markdown",
   "metadata": {},
   "source": [
    "A larger proportion of customers live in Denver, Aurora and Arbada respectively while the number of observations (cutomers) in Castle Pine, Lone Tree and Henderson are minimal. As a result, it is hard to generalize from the visualizations the effect of different cities on the average amount of sales. Thus, it is not included into the final model."
   ]
  },
  {
   "cell_type": "markdown",
   "metadata": {},
   "source": [
    "### Average Number of Products Purchased"
   ]
  },
  {
   "cell_type": "code",
   "execution_count": 26,
   "metadata": {},
   "outputs": [
    {
     "data": {
      "image/png": "[encoded data removed]",
      "text/plain": [
       "<Figure size 432x288 with 1 Axes>"
      ]
     },
     "metadata": {
      "needs_background": "light"
     },
     "output_type": "display_data"
    }
   ],
   "source": [
    "plt.scatter(data = df_clean, x = 'Avg_Num_Products_Purchased', y = 'Avg_Sale_Amount')\n",
    "plt.xlabel('Average Number of Products Purchased')\n",
    "plt.ylabel('Average Sales Amount');"
   ]
  },
  {
   "cell_type": "markdown",
   "metadata": {},
   "source": [
    "The number of purchased products has obviously a positive relationship with the average sales amount. The more number of products customers purchase, the larger amount of average sales the company could achieve. Thus, I included this feature into the predictive model."
   ]
  },
  {
   "cell_type": "markdown",
   "metadata": {},
   "source": [
    "### Number of Years as Customers"
   ]
  },
  {
   "cell_type": "code",
   "execution_count": 27,
   "metadata": {},
   "outputs": [
    {
     "data": {
      "image/png": "[encoded data removed]",
      "text/plain": [
       "<Figure size 432x288 with 1 Axes>"
      ]
     },
     "metadata": {
      "needs_background": "light"
     },
     "output_type": "display_data"
    }
   ],
   "source": [
    "df_clean['#_Years_as_Customer'].value_counts().plot(kind='bar');"
   ]
  },
  {
   "cell_type": "code",
   "execution_count": 28,
   "metadata": {},
   "outputs": [
    {
     "data": {
      "image/png": "[encoded data removed]",
      "text/plain": [
       "<Figure size 864x576 with 1 Axes>"
      ]
     },
     "metadata": {
      "needs_background": "light"
     },
     "output_type": "display_data"
    }
   ],
   "source": [
    "plt.figure(figsize = [12,8])\n",
    "df_clean.groupby('#_Years_as_Customer')['Avg_Sale_Amount'].mean().sort_values().plot(kind = 'barh');\n",
    "plt.xlabel('Average sale amount')\n",
    "plt.ylabel('Number of Years as Customer')\n",
    "plt.title('Number of Years as Customer vs average sale amount');"
   ]
  },
  {
   "cell_type": "code",
   "execution_count": null,
   "metadata": {},
   "outputs": [],
   "source": [
    "plt.figure(figsize = [12,8])\n",
    "df_clean.groupby('#_Years_as_Customer')['Avg_Sale_Amount'].mean().sort_values().plot(kind = 'barh');\n",
    "plt.xlabel('Average sale amount')\n",
    "plt.ylabel('Number of Years as Customer')\n",
    "plt.title('Number of Years as Customer vs average sale amount');"
   ]
  },
  {
   "cell_type": "markdown",
   "metadata": {},
   "source": [
    "Also, the number of years as customer does not show any clear relationship with the target variable. That is, increasing or decreasing number of years as customer does not necessarily have an influence on the sales amount on average. The feature is not selected for predictive model."
   ]
  },
  {
   "cell_type": "markdown",
   "metadata": {},
   "source": [
    "### Responded to Last Catalog"
   ]
  },
  {
   "cell_type": "code",
   "execution_count": 29,
   "metadata": {},
   "outputs": [
    {
     "data": {
      "image/png": "[encoded data removed]",
      "text/plain": [
       "<Figure size 432x288 with 1 Axes>"
      ]
     },
     "metadata": {
      "needs_background": "light"
     },
     "output_type": "display_data"
    }
   ],
   "source": [
    "df_clean['Responded_to_Last_Catalog'].value_counts().sort_values().plot(kind='barh');"
   ]
  },
  {
   "cell_type": "code",
   "execution_count": 30,
   "metadata": {},
   "outputs": [
    {
     "data": {
      "image/png": "[encoded data removed]",
      "text/plain": [
       "<Figure size 576x432 with 1 Axes>"
      ]
     },
     "metadata": {
      "needs_background": "light"
     },
     "output_type": "display_data"
    }
   ],
   "source": [
    "plt.figure(figsize = [8,6])\n",
    "df_clean.groupby('Responded_to_Last_Catalog')['Avg_Sale_Amount'].mean().sort_values().plot(kind = 'barh');\n",
    "plt.xlabel('Average sale amount')\n",
    "plt.ylabel('Responded to Last Catalog')\n",
    "plt.title('Responded to Last Catalog vs average sale amount');"
   ]
  },
  {
   "cell_type": "markdown",
   "metadata": {},
   "source": [
    "Despite our observation here, since this variable is not included in the mailinglist dataset needed for our prediction, it is not going to be included in the model."
   ]
  },
  {
   "cell_type": "markdown",
   "metadata": {},
   "source": [
    "## Model Preparation"
   ]
  },
  {
   "cell_type": "code",
   "execution_count": 31,
   "metadata": {},
   "outputs": [],
   "source": [
    "df2 = df_clean.copy()\n",
    "df2.drop(['Customer_ID','Store_Number','City', 'Responded_to_Last_Catalog', '#_Years_as_Customer'], axis = 1, inplace = True) "
   ]
  },
  {
   "cell_type": "code",
   "execution_count": 32,
   "metadata": {},
   "outputs": [
    {
     "data": {
      "text/html": [
       "<div>\n",
       "<style scoped>\n",
       "    .dataframe tbody tr th:only-of-type {\n",
       "        vertical-align: middle;\n",
       "    }\n",
       "\n",
       "    .dataframe tbody tr th {\n",
       "        vertical-align: top;\n",
       "    }\n",
       "\n",
       "    .dataframe thead th {\n",
       "        text-align: right;\n",
       "    }\n",
       "</style>\n",
       "<table border=\"1\" class=\"dataframe\">\n",
       "  <thead>\n",
       "    <tr style=\"text-align: right;\">\n",
       "      <th></th>\n",
       "      <th>Customer_Segment</th>\n",
       "      <th>Avg_Sale_Amount</th>\n",
       "      <th>Avg_Num_Products_Purchased</th>\n",
       "    </tr>\n",
       "  </thead>\n",
       "  <tbody>\n",
       "    <tr>\n",
       "      <th>0</th>\n",
       "      <td>Store Mailing List</td>\n",
       "      <td>227.90</td>\n",
       "      <td>1</td>\n",
       "    </tr>\n",
       "    <tr>\n",
       "      <th>1</th>\n",
       "      <td>Store Mailing List</td>\n",
       "      <td>55.00</td>\n",
       "      <td>1</td>\n",
       "    </tr>\n",
       "    <tr>\n",
       "      <th>2</th>\n",
       "      <td>Store Mailing List</td>\n",
       "      <td>212.57</td>\n",
       "      <td>1</td>\n",
       "    </tr>\n",
       "  </tbody>\n",
       "</table>\n",
       "</div>"
      ],
      "text/plain": [
       "     Customer_Segment  Avg_Sale_Amount  Avg_Num_Products_Purchased\n",
       "0  Store Mailing List           227.90                           1\n",
       "1  Store Mailing List            55.00                           1\n",
       "2  Store Mailing List           212.57                           1"
      ]
     },
     "execution_count": 32,
     "metadata": {},
     "output_type": "execute_result"
    }
   ],
   "source": [
    "df2.head(3)"
   ]
  },
  {
   "cell_type": "code",
   "execution_count": 33,
   "metadata": {},
   "outputs": [],
   "source": [
    "df_model = pd.get_dummies(df2, drop_first = True) # Make the categorical variable (Customer_Segment) to dummy variable"
   ]
  },
  {
   "cell_type": "code",
   "execution_count": 34,
   "metadata": {},
   "outputs": [
    {
     "data": {
      "text/html": [
       "<div>\n",
       "<style scoped>\n",
       "    .dataframe tbody tr th:only-of-type {\n",
       "        vertical-align: middle;\n",
       "    }\n",
       "\n",
       "    .dataframe tbody tr th {\n",
       "        vertical-align: top;\n",
       "    }\n",
       "\n",
       "    .dataframe thead th {\n",
       "        text-align: right;\n",
       "    }\n",
       "</style>\n",
       "<table border=\"1\" class=\"dataframe\">\n",
       "  <thead>\n",
       "    <tr style=\"text-align: right;\">\n",
       "      <th></th>\n",
       "      <th>Avg_Sale_Amount</th>\n",
       "      <th>Avg_Num_Products_Purchased</th>\n",
       "      <th>Customer_Segment_Loyalty Club Only</th>\n",
       "      <th>Customer_Segment_Loyalty Club and Credit Card</th>\n",
       "      <th>Customer_Segment_Store Mailing List</th>\n",
       "    </tr>\n",
       "  </thead>\n",
       "  <tbody>\n",
       "    <tr>\n",
       "      <th>0</th>\n",
       "      <td>227.90</td>\n",
       "      <td>1</td>\n",
       "      <td>0</td>\n",
       "      <td>0</td>\n",
       "      <td>1</td>\n",
       "    </tr>\n",
       "    <tr>\n",
       "      <th>1</th>\n",
       "      <td>55.00</td>\n",
       "      <td>1</td>\n",
       "      <td>0</td>\n",
       "      <td>0</td>\n",
       "      <td>1</td>\n",
       "    </tr>\n",
       "    <tr>\n",
       "      <th>2</th>\n",
       "      <td>212.57</td>\n",
       "      <td>1</td>\n",
       "      <td>0</td>\n",
       "      <td>0</td>\n",
       "      <td>1</td>\n",
       "    </tr>\n",
       "    <tr>\n",
       "      <th>3</th>\n",
       "      <td>195.31</td>\n",
       "      <td>1</td>\n",
       "      <td>0</td>\n",
       "      <td>0</td>\n",
       "      <td>1</td>\n",
       "    </tr>\n",
       "    <tr>\n",
       "      <th>4</th>\n",
       "      <td>110.55</td>\n",
       "      <td>1</td>\n",
       "      <td>0</td>\n",
       "      <td>0</td>\n",
       "      <td>1</td>\n",
       "    </tr>\n",
       "  </tbody>\n",
       "</table>\n",
       "</div>"
      ],
      "text/plain": [
       "   Avg_Sale_Amount  Avg_Num_Products_Purchased  \\\n",
       "0           227.90                           1   \n",
       "1            55.00                           1   \n",
       "2           212.57                           1   \n",
       "3           195.31                           1   \n",
       "4           110.55                           1   \n",
       "\n",
       "   Customer_Segment_Loyalty Club Only  \\\n",
       "0                                   0   \n",
       "1                                   0   \n",
       "2                                   0   \n",
       "3                                   0   \n",
       "4                                   0   \n",
       "\n",
       "   Customer_Segment_Loyalty Club and Credit Card  \\\n",
       "0                                              0   \n",
       "1                                              0   \n",
       "2                                              0   \n",
       "3                                              0   \n",
       "4                                              0   \n",
       "\n",
       "   Customer_Segment_Store Mailing List  \n",
       "0                                    1  \n",
       "1                                    1  \n",
       "2                                    1  \n",
       "3                                    1  \n",
       "4                                    1  "
      ]
     },
     "execution_count": 34,
     "metadata": {},
     "output_type": "execute_result"
    }
   ],
   "source": [
    "df_model.head()"
   ]
  },
  {
   "cell_type": "code",
   "execution_count": 65,
   "metadata": {},
   "outputs": [],
   "source": [
    "y = df_model['Avg_Sale_Amount']\n",
    "x = df_model.drop(['Avg_Sale_Amount'],axis =1)"
   ]
  },
  {
   "cell_type": "code",
   "execution_count": 66,
   "metadata": {},
   "outputs": [],
   "source": [
    "x1 = sm.add_constant(x)\n",
    "results = sm.OLS(y,x1).fit()"
   ]
  },
  {
   "cell_type": "code",
   "execution_count": 67,
   "metadata": {},
   "outputs": [
    {
     "data": {
      "text/html": [
       "<table class=\"simpletable\">\n",
       "<caption>OLS Regression Results</caption>\n",
       "<tr>\n",
       "  <th>Dep. Variable:</th>     <td>Avg_Sale_Amount</td> <th>  R-squared:         </th> <td>   0.837</td> \n",
       "</tr>\n",
       "<tr>\n",
       "  <th>Model:</th>                   <td>OLS</td>       <th>  Adj. R-squared:    </th> <td>   0.837</td> \n",
       "</tr>\n",
       "<tr>\n",
       "  <th>Method:</th>             <td>Least Squares</td>  <th>  F-statistic:       </th> <td>   3040.</td> \n",
       "</tr>\n",
       "<tr>\n",
       "  <th>Date:</th>             <td>Mon, 07 Feb 2022</td> <th>  Prob (F-statistic):</th>  <td>  0.00</td>  \n",
       "</tr>\n",
       "<tr>\n",
       "  <th>Time:</th>                 <td>05:17:25</td>     <th>  Log-Likelihood:    </th> <td> -15061.</td> \n",
       "</tr>\n",
       "<tr>\n",
       "  <th>No. Observations:</th>      <td>  2375</td>      <th>  AIC:               </th> <td>3.013e+04</td>\n",
       "</tr>\n",
       "<tr>\n",
       "  <th>Df Residuals:</th>          <td>  2370</td>      <th>  BIC:               </th> <td>3.016e+04</td>\n",
       "</tr>\n",
       "<tr>\n",
       "  <th>Df Model:</th>              <td>     4</td>      <th>                     </th>     <td> </td>    \n",
       "</tr>\n",
       "<tr>\n",
       "  <th>Covariance Type:</th>      <td>nonrobust</td>    <th>                     </th>     <td> </td>    \n",
       "</tr>\n",
       "</table>\n",
       "<table class=\"simpletable\">\n",
       "<tr>\n",
       "                        <td></td>                           <th>coef</th>     <th>std err</th>      <th>t</th>      <th>P>|t|</th>  <th>[0.025</th>    <th>0.975]</th>  \n",
       "</tr>\n",
       "<tr>\n",
       "  <th>const</th>                                         <td>  303.4635</td> <td>   10.576</td> <td>   28.694</td> <td> 0.000</td> <td>  282.725</td> <td>  324.202</td>\n",
       "</tr>\n",
       "<tr>\n",
       "  <th>Avg_Num_Products_Purchased</th>                    <td>   66.9762</td> <td>    1.515</td> <td>   44.208</td> <td> 0.000</td> <td>   64.005</td> <td>   69.947</td>\n",
       "</tr>\n",
       "<tr>\n",
       "  <th>Customer_Segment_Loyalty Club Only</th>            <td> -149.3557</td> <td>    8.973</td> <td>  -16.645</td> <td> 0.000</td> <td> -166.951</td> <td> -131.760</td>\n",
       "</tr>\n",
       "<tr>\n",
       "  <th>Customer_Segment_Loyalty Club and Credit Card</th> <td>  281.8388</td> <td>   11.910</td> <td>   23.664</td> <td> 0.000</td> <td>  258.484</td> <td>  305.194</td>\n",
       "</tr>\n",
       "<tr>\n",
       "  <th>Customer_Segment_Store Mailing List</th>           <td> -245.4177</td> <td>    9.768</td> <td>  -25.125</td> <td> 0.000</td> <td> -264.572</td> <td> -226.263</td>\n",
       "</tr>\n",
       "</table>\n",
       "<table class=\"simpletable\">\n",
       "<tr>\n",
       "  <th>Omnibus:</th>       <td>359.638</td> <th>  Durbin-Watson:     </th> <td>   2.045</td>\n",
       "</tr>\n",
       "<tr>\n",
       "  <th>Prob(Omnibus):</th> <td> 0.000</td>  <th>  Jarque-Bera (JB):  </th> <td>4770.580</td>\n",
       "</tr>\n",
       "<tr>\n",
       "  <th>Skew:</th>          <td> 0.232</td>  <th>  Prob(JB):          </th> <td>    0.00</td>\n",
       "</tr>\n",
       "<tr>\n",
       "  <th>Kurtosis:</th>      <td> 9.928</td>  <th>  Cond. No.          </th> <td>    25.0</td>\n",
       "</tr>\n",
       "</table><br/><br/>Warnings:<br/>[1] Standard Errors assume that the covariance matrix of the errors is correctly specified."
      ],
      "text/plain": [
       "<class 'statsmodels.iolib.summary.Summary'>\n",
       "\"\"\"\n",
       "                            OLS Regression Results                            \n",
       "==============================================================================\n",
       "Dep. Variable:        Avg_Sale_Amount   R-squared:                       0.837\n",
       "Model:                            OLS   Adj. R-squared:                  0.837\n",
       "Method:                 Least Squares   F-statistic:                     3040.\n",
       "Date:                Mon, 07 Feb 2022   Prob (F-statistic):               0.00\n",
       "Time:                        05:17:25   Log-Likelihood:                -15061.\n",
       "No. Observations:                2375   AIC:                         3.013e+04\n",
       "Df Residuals:                    2370   BIC:                         3.016e+04\n",
       "Df Model:                           4                                         \n",
       "Covariance Type:            nonrobust                                         \n",
       "=================================================================================================================\n",
       "                                                    coef    std err          t      P>|t|      [0.025      0.975]\n",
       "-----------------------------------------------------------------------------------------------------------------\n",
       "const                                           303.4635     10.576     28.694      0.000     282.725     324.202\n",
       "Avg_Num_Products_Purchased                       66.9762      1.515     44.208      0.000      64.005      69.947\n",
       "Customer_Segment_Loyalty Club Only             -149.3557      8.973    -16.645      0.000    -166.951    -131.760\n",
       "Customer_Segment_Loyalty Club and Credit Card   281.8388     11.910     23.664      0.000     258.484     305.194\n",
       "Customer_Segment_Store Mailing List            -245.4177      9.768    -25.125      0.000    -264.572    -226.263\n",
       "==============================================================================\n",
       "Omnibus:                      359.638   Durbin-Watson:                   2.045\n",
       "Prob(Omnibus):                  0.000   Jarque-Bera (JB):             4770.580\n",
       "Skew:                           0.232   Prob(JB):                         0.00\n",
       "Kurtosis:                       9.928   Cond. No.                         25.0\n",
       "==============================================================================\n",
       "\n",
       "Warnings:\n",
       "[1] Standard Errors assume that the covariance matrix of the errors is correctly specified.\n",
       "\"\"\""
      ]
     },
     "execution_count": 67,
     "metadata": {},
     "output_type": "execute_result"
    }
   ],
   "source": [
    "results.summary()"
   ]
  },
  {
   "cell_type": "markdown",
   "metadata": {},
   "source": [
    "#### Final Model \n",
    "- Included in our final predictive linear model are \"Average Number of purchased products” and “Customer_Segment”.\n",
    "\n",
    "The Best Linear Regression Equation is as follows:\n",
    "\n",
    "\\begin{align}\n",
    "\\text{Avg_Sale_Amount} &= 303.46 \\\\\n",
    "                  & + 66.98 ~\\text{Avg_Num_Products_Purchased}  \\\\\n",
    "                  & - 149.36 ~\\text{Customer_Segment_Loyalty Club Only}  \\\\\n",
    "                  & +281.84 ~\\text{Customer_Segment_Loyalty Club and Credit Card} \\\\\n",
    "                  &- 245.42~ \\text{Customer_Segment_Store Mailing List}\n",
    "\\end{align}"
   ]
  },
  {
   "cell_type": "markdown",
   "metadata": {},
   "source": [
    "#### Hypothesis Testing\n",
    "\n",
    "We can perform a hypothesis test for the coefficients in our linear models using Python. \n",
    "The hypothesis test for each x-variable is a test of if that population slope is equal to zero vs. an alternative where the parameter differs from zero.\n",
    "\n",
    "Mathematically,\n",
    "\n",
    "$\n",
    "H_{0}: \\beta_0 = 0\\\\\n",
    "H_{1}: \\beta_1 \\neq 0\n",
    "$\n",
    "\n",
    "Therefore, if the slope is different than zero (the alternative is true), we have evidence that the x-variable attached to that coefficient has a statistically significant linear relationship with the response. This in turn suggests that the x-variable should help us in predicting the response (or at least be better than not having it in the model).\n",
    " \n",
    " #### Model Justification & Validation\n",
    "\n",
    "- The R-squared value of the linear regression model is 0.837. This indicates that 83.7% of the data can be explained by the above-mentioned linear model.\n",
    "\n",
    "- The p-values associated to each predictor variable (approximately 0) suggest that the explanatory variables are statistically significant and would help us in predicting the average sale amount for future customers.\n",
    "\n",
    "\n",
    "Therefore, the linear model is valid, and the results are reliable."
   ]
  },
  {
   "cell_type": "markdown",
   "metadata": {},
   "source": [
    "Let us use the sklearn library in python."
   ]
  },
  {
   "cell_type": "code",
   "execution_count": 70,
   "metadata": {},
   "outputs": [
    {
     "name": "stdout",
     "output_type": "stream",
     "text": [
      "R-squared: 0.8368777093556734\n",
      "Coefficients: [  66.97620492 -149.35572194  281.83876492 -245.4177445 ]\n",
      "Intercept: 303.4634713146725\n"
     ]
    }
   ],
   "source": [
    "reg_model = LinearRegression().fit(x,y)\n",
    "print(\"R-squared:\", reg_model.score(x, y))\n",
    "print(\"Coefficients:\",reg_model.coef_)\n",
    "print(\"Intercept:\",reg_model.intercept_)"
   ]
  },
  {
   "cell_type": "markdown",
   "metadata": {},
   "source": [
    "We get the same results as with stat model"
   ]
  },
  {
   "cell_type": "code",
   "execution_count": null,
   "metadata": {},
   "outputs": [],
   "source": [
    " reg.predict(inputs)"
   ]
  },
  {
   "cell_type": "code",
   "execution_count": 71,
   "metadata": {},
   "outputs": [],
   "source": [
    "#save model as pickle\n",
    "pickle.dump(reg_model, open('reg_model.pickle', 'wb'))"
   ]
  },
  {
   "cell_type": "code",
   "execution_count": null,
   "metadata": {},
   "outputs": [],
   "source": []
  }
 ],
 "metadata": {
  "kernelspec": {
   "display_name": "Python 3",
   "language": "python",
   "name": "python3"
  },
  "language_info": {
   "codemirror_mode": {
    "name": "ipython",
    "version": 3
   },
   "file_extension": ".py",
   "mimetype": "text/x-python",
   "name": "python",
   "nbconvert_exporter": "python",
   "pygments_lexer": "ipython3",
   "version": "3.7.7"
  }
 },
 "nbformat": 4,
 "nbformat_minor": 4
}
